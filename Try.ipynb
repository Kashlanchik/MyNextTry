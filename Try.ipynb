{
 "cells": [
  {
   "cell_type": "markdown",
   "metadata": {
    "toc": true
   },
   "source": [
    "<h1>Содержание<span class=\"tocSkip\"></span></h1>\n",
    "<div class=\"toc\"><ul class=\"toc-item\"><li><span><a href=\"#Подготовка-данных\" data-toc-modified-id=\"Подготовка-данных-1\"><span class=\"toc-item-num\">1&nbsp;&nbsp;</span>Подготовка данных</a></span></li><li><span><a href=\"#Исследование-задачи\" data-toc-modified-id=\"Исследование-задачи-2\"><span class=\"toc-item-num\">2&nbsp;&nbsp;</span>Исследование задачи</a></span></li><li><span><a href=\"#Борьба-с-дисбалансом\" data-toc-modified-id=\"Борьба-с-дисбалансом-3\"><span class=\"toc-item-num\">3&nbsp;&nbsp;</span>Борьба с дисбалансом</a></span></li><li><span><a href=\"#Тестирование-модели\" data-toc-modified-id=\"Тестирование-модели-4\"><span class=\"toc-item-num\">4&nbsp;&nbsp;</span>Тестирование модели</a></span></li><li><span><a href=\"#Чек-лист-готовности-проекта\" data-toc-modified-id=\"Чек-лист-готовности-проекта-5\"><span class=\"toc-item-num\">5&nbsp;&nbsp;</span>Чек-лист готовности проекта</a></span></li></ul></div>"
   ]
  },
  {
   "cell_type": "markdown",
   "metadata": {},
   "source": [
    "# Отток клиентов"
   ]
  },
  {
   "cell_type": "markdown",
   "metadata": {},
   "source": [
    "Из «Бета-Банка» стали уходить клиенты. Каждый месяц. Немного, но заметно. Банковские маркетологи посчитали: сохранять текущих клиентов дешевле, чем привлекать новых.\n",
    "\n",
    "Нужно спрогнозировать, уйдёт клиент из банка в ближайшее время или нет. Вам предоставлены исторические данные о поведении клиентов и расторжении договоров с банком. \n",
    "\n",
    "Построим модель с предельно большим значением *F1*-меры. Чтобы сдать проект успешно, нужно довести метрику до 0.59. Проверим *F1*-меру на тестовой выборке самостоятельно.\n",
    "\n",
    "Дополнительно измерим *AUC-ROC*, сравнивя её значение с *F1*-мерой!\n",
    "\n",
    "Источник данных: [https://www.kaggle.com/barelydedicated/bank-customer-churn-modeling](https://www.kaggle.com/barelydedicated/bank-customer-churn-modeling)"
   ]
  },
  {
   "cell_type": "markdown",
   "metadata": {},
   "source": [
    "## Подготовка данных"
   ]
  },
  {
   "cell_type": "markdown",
   "metadata": {},
   "source": [
    "Импортируем необходимые библиотеки"
   ]
  },
  {
   "cell_type": "code",
   "execution_count": 1,
   "metadata": {},
   "outputs": [],
   "source": [
    "import pandas as pd\n",
    "from sklearn.linear_model import LinearRegression\n",
    "from sklearn.model_selection import train_test_split\n",
    "from sklearn.metrics import mean_squared_error\n",
    "from sklearn.tree import DecisionTreeClassifier\n",
    "from sklearn.metrics import accuracy_score\n",
    "from sklearn.metrics import recall_score\n",
    "from sklearn.metrics import precision_score\n",
    "from sklearn.ensemble import RandomForestClassifier\n",
    "from sklearn.linear_model import LogisticRegression\n",
    "import matplotlib.pyplot as plt\n",
    "import seaborn as sns\n",
    "from sklearn.metrics import f1_score\n",
    "from sklearn.model_selection import GridSearchCV\n",
    "from sklearn.utils import shuffle\n",
    "from sklearn.metrics import roc_auc_score\n",
    "from sklearn.metrics import roc_curve\n",
    "from sklearn.dummy import DummyClassifier\n",
    "from sklearn.preprocessing import StandardScaler"
   ]
  },
  {
   "cell_type": "markdown",
   "metadata": {},
   "source": [
    "Загрузим исходный файл"
   ]
  },
  {
   "cell_type": "code",
   "execution_count": 2,
   "metadata": {},
   "outputs": [],
   "source": [
    "data = pd.read_csv('/datasets/Churn.csv')"
   ]
  },
  {
   "cell_type": "markdown",
   "metadata": {},
   "source": [
    "Посмотрим как представлены данные в файле"
   ]
  },
  {
   "cell_type": "code",
   "execution_count": 3,
   "metadata": {},
   "outputs": [
    {
     "name": "stdout",
     "output_type": "stream",
     "text": [
      "<class 'pandas.core.frame.DataFrame'>\n",
      "RangeIndex: 10000 entries, 0 to 9999\n",
      "Data columns (total 14 columns):\n",
      " #   Column           Non-Null Count  Dtype  \n",
      "---  ------           --------------  -----  \n",
      " 0   RowNumber        10000 non-null  int64  \n",
      " 1   CustomerId       10000 non-null  int64  \n",
      " 2   Surname          10000 non-null  object \n",
      " 3   CreditScore      10000 non-null  int64  \n",
      " 4   Geography        10000 non-null  object \n",
      " 5   Gender           10000 non-null  object \n",
      " 6   Age              10000 non-null  int64  \n",
      " 7   Tenure           9091 non-null   float64\n",
      " 8   Balance          10000 non-null  float64\n",
      " 9   NumOfProducts    10000 non-null  int64  \n",
      " 10  HasCrCard        10000 non-null  int64  \n",
      " 11  IsActiveMember   10000 non-null  int64  \n",
      " 12  EstimatedSalary  10000 non-null  float64\n",
      " 13  Exited           10000 non-null  int64  \n",
      "dtypes: float64(3), int64(8), object(3)\n",
      "memory usage: 1.1+ MB\n"
     ]
    }
   ],
   "source": [
    "data.info()"
   ]
  },
  {
   "cell_type": "code",
   "execution_count": 4,
   "metadata": {},
   "outputs": [
    {
     "data": {
      "text/html": [
       "<div>\n",
       "<style scoped>\n",
       "    .dataframe tbody tr th:only-of-type {\n",
       "        vertical-align: middle;\n",
       "    }\n",
       "\n",
       "    .dataframe tbody tr th {\n",
       "        vertical-align: top;\n",
       "    }\n",
       "\n",
       "    .dataframe thead th {\n",
       "        text-align: right;\n",
       "    }\n",
       "</style>\n",
       "<table border=\"1\" class=\"dataframe\">\n",
       "  <thead>\n",
       "    <tr style=\"text-align: right;\">\n",
       "      <th></th>\n",
       "      <th>RowNumber</th>\n",
       "      <th>CustomerId</th>\n",
       "      <th>Surname</th>\n",
       "      <th>CreditScore</th>\n",
       "      <th>Geography</th>\n",
       "      <th>Gender</th>\n",
       "      <th>Age</th>\n",
       "      <th>Tenure</th>\n",
       "      <th>Balance</th>\n",
       "      <th>NumOfProducts</th>\n",
       "      <th>HasCrCard</th>\n",
       "      <th>IsActiveMember</th>\n",
       "      <th>EstimatedSalary</th>\n",
       "      <th>Exited</th>\n",
       "    </tr>\n",
       "  </thead>\n",
       "  <tbody>\n",
       "    <tr>\n",
       "      <th>0</th>\n",
       "      <td>1</td>\n",
       "      <td>15634602</td>\n",
       "      <td>Hargrave</td>\n",
       "      <td>619</td>\n",
       "      <td>France</td>\n",
       "      <td>Female</td>\n",
       "      <td>42</td>\n",
       "      <td>2.0</td>\n",
       "      <td>0.00</td>\n",
       "      <td>1</td>\n",
       "      <td>1</td>\n",
       "      <td>1</td>\n",
       "      <td>101348.88</td>\n",
       "      <td>1</td>\n",
       "    </tr>\n",
       "    <tr>\n",
       "      <th>1</th>\n",
       "      <td>2</td>\n",
       "      <td>15647311</td>\n",
       "      <td>Hill</td>\n",
       "      <td>608</td>\n",
       "      <td>Spain</td>\n",
       "      <td>Female</td>\n",
       "      <td>41</td>\n",
       "      <td>1.0</td>\n",
       "      <td>83807.86</td>\n",
       "      <td>1</td>\n",
       "      <td>0</td>\n",
       "      <td>1</td>\n",
       "      <td>112542.58</td>\n",
       "      <td>0</td>\n",
       "    </tr>\n",
       "    <tr>\n",
       "      <th>2</th>\n",
       "      <td>3</td>\n",
       "      <td>15619304</td>\n",
       "      <td>Onio</td>\n",
       "      <td>502</td>\n",
       "      <td>France</td>\n",
       "      <td>Female</td>\n",
       "      <td>42</td>\n",
       "      <td>8.0</td>\n",
       "      <td>159660.80</td>\n",
       "      <td>3</td>\n",
       "      <td>1</td>\n",
       "      <td>0</td>\n",
       "      <td>113931.57</td>\n",
       "      <td>1</td>\n",
       "    </tr>\n",
       "    <tr>\n",
       "      <th>3</th>\n",
       "      <td>4</td>\n",
       "      <td>15701354</td>\n",
       "      <td>Boni</td>\n",
       "      <td>699</td>\n",
       "      <td>France</td>\n",
       "      <td>Female</td>\n",
       "      <td>39</td>\n",
       "      <td>1.0</td>\n",
       "      <td>0.00</td>\n",
       "      <td>2</td>\n",
       "      <td>0</td>\n",
       "      <td>0</td>\n",
       "      <td>93826.63</td>\n",
       "      <td>0</td>\n",
       "    </tr>\n",
       "    <tr>\n",
       "      <th>4</th>\n",
       "      <td>5</td>\n",
       "      <td>15737888</td>\n",
       "      <td>Mitchell</td>\n",
       "      <td>850</td>\n",
       "      <td>Spain</td>\n",
       "      <td>Female</td>\n",
       "      <td>43</td>\n",
       "      <td>2.0</td>\n",
       "      <td>125510.82</td>\n",
       "      <td>1</td>\n",
       "      <td>1</td>\n",
       "      <td>1</td>\n",
       "      <td>79084.10</td>\n",
       "      <td>0</td>\n",
       "    </tr>\n",
       "    <tr>\n",
       "      <th>5</th>\n",
       "      <td>6</td>\n",
       "      <td>15574012</td>\n",
       "      <td>Chu</td>\n",
       "      <td>645</td>\n",
       "      <td>Spain</td>\n",
       "      <td>Male</td>\n",
       "      <td>44</td>\n",
       "      <td>8.0</td>\n",
       "      <td>113755.78</td>\n",
       "      <td>2</td>\n",
       "      <td>1</td>\n",
       "      <td>0</td>\n",
       "      <td>149756.71</td>\n",
       "      <td>1</td>\n",
       "    </tr>\n",
       "    <tr>\n",
       "      <th>6</th>\n",
       "      <td>7</td>\n",
       "      <td>15592531</td>\n",
       "      <td>Bartlett</td>\n",
       "      <td>822</td>\n",
       "      <td>France</td>\n",
       "      <td>Male</td>\n",
       "      <td>50</td>\n",
       "      <td>7.0</td>\n",
       "      <td>0.00</td>\n",
       "      <td>2</td>\n",
       "      <td>1</td>\n",
       "      <td>1</td>\n",
       "      <td>10062.80</td>\n",
       "      <td>0</td>\n",
       "    </tr>\n",
       "    <tr>\n",
       "      <th>7</th>\n",
       "      <td>8</td>\n",
       "      <td>15656148</td>\n",
       "      <td>Obinna</td>\n",
       "      <td>376</td>\n",
       "      <td>Germany</td>\n",
       "      <td>Female</td>\n",
       "      <td>29</td>\n",
       "      <td>4.0</td>\n",
       "      <td>115046.74</td>\n",
       "      <td>4</td>\n",
       "      <td>1</td>\n",
       "      <td>0</td>\n",
       "      <td>119346.88</td>\n",
       "      <td>1</td>\n",
       "    </tr>\n",
       "    <tr>\n",
       "      <th>8</th>\n",
       "      <td>9</td>\n",
       "      <td>15792365</td>\n",
       "      <td>He</td>\n",
       "      <td>501</td>\n",
       "      <td>France</td>\n",
       "      <td>Male</td>\n",
       "      <td>44</td>\n",
       "      <td>4.0</td>\n",
       "      <td>142051.07</td>\n",
       "      <td>2</td>\n",
       "      <td>0</td>\n",
       "      <td>1</td>\n",
       "      <td>74940.50</td>\n",
       "      <td>0</td>\n",
       "    </tr>\n",
       "    <tr>\n",
       "      <th>9</th>\n",
       "      <td>10</td>\n",
       "      <td>15592389</td>\n",
       "      <td>H?</td>\n",
       "      <td>684</td>\n",
       "      <td>France</td>\n",
       "      <td>Male</td>\n",
       "      <td>27</td>\n",
       "      <td>2.0</td>\n",
       "      <td>134603.88</td>\n",
       "      <td>1</td>\n",
       "      <td>1</td>\n",
       "      <td>1</td>\n",
       "      <td>71725.73</td>\n",
       "      <td>0</td>\n",
       "    </tr>\n",
       "  </tbody>\n",
       "</table>\n",
       "</div>"
      ],
      "text/plain": [
       "   RowNumber  CustomerId   Surname  CreditScore Geography  Gender  Age  \\\n",
       "0          1    15634602  Hargrave          619    France  Female   42   \n",
       "1          2    15647311      Hill          608     Spain  Female   41   \n",
       "2          3    15619304      Onio          502    France  Female   42   \n",
       "3          4    15701354      Boni          699    France  Female   39   \n",
       "4          5    15737888  Mitchell          850     Spain  Female   43   \n",
       "5          6    15574012       Chu          645     Spain    Male   44   \n",
       "6          7    15592531  Bartlett          822    France    Male   50   \n",
       "7          8    15656148    Obinna          376   Germany  Female   29   \n",
       "8          9    15792365        He          501    France    Male   44   \n",
       "9         10    15592389        H?          684    France    Male   27   \n",
       "\n",
       "   Tenure    Balance  NumOfProducts  HasCrCard  IsActiveMember  \\\n",
       "0     2.0       0.00              1          1               1   \n",
       "1     1.0   83807.86              1          0               1   \n",
       "2     8.0  159660.80              3          1               0   \n",
       "3     1.0       0.00              2          0               0   \n",
       "4     2.0  125510.82              1          1               1   \n",
       "5     8.0  113755.78              2          1               0   \n",
       "6     7.0       0.00              2          1               1   \n",
       "7     4.0  115046.74              4          1               0   \n",
       "8     4.0  142051.07              2          0               1   \n",
       "9     2.0  134603.88              1          1               1   \n",
       "\n",
       "   EstimatedSalary  Exited  \n",
       "0        101348.88       1  \n",
       "1        112542.58       0  \n",
       "2        113931.57       1  \n",
       "3         93826.63       0  \n",
       "4         79084.10       0  \n",
       "5        149756.71       1  \n",
       "6         10062.80       0  \n",
       "7        119346.88       1  \n",
       "8         74940.50       0  \n",
       "9         71725.73       0  "
      ]
     },
     "execution_count": 4,
     "metadata": {},
     "output_type": "execute_result"
    }
   ],
   "source": [
    "data.head(10)"
   ]
  },
  {
   "cell_type": "markdown",
   "metadata": {},
   "source": [
    "Проверим файл на наличие пропусков"
   ]
  },
  {
   "cell_type": "code",
   "execution_count": 5,
   "metadata": {},
   "outputs": [
    {
     "data": {
      "text/plain": [
       "RowNumber            0\n",
       "CustomerId           0\n",
       "Surname              0\n",
       "CreditScore          0\n",
       "Geography            0\n",
       "Gender               0\n",
       "Age                  0\n",
       "Tenure             909\n",
       "Balance              0\n",
       "NumOfProducts        0\n",
       "HasCrCard            0\n",
       "IsActiveMember       0\n",
       "EstimatedSalary      0\n",
       "Exited               0\n",
       "dtype: int64"
      ]
     },
     "execution_count": 5,
     "metadata": {},
     "output_type": "execute_result"
    }
   ],
   "source": [
    "data.isna().sum()"
   ]
  },
  {
   "cell_type": "markdown",
   "metadata": {},
   "source": [
    "В столбце Tenure (сколько лет человек является клиентом банка) мы обнаружили 909 пропусков. Это примерно 9% от общего числа данных по клиентам (общее количество - 10000), что досточно много, чтобы просто удалить эти строки. Исследуем их более внимательно и примем решение, что с ними делать. "
   ]
  },
  {
   "cell_type": "code",
   "execution_count": 6,
   "metadata": {},
   "outputs": [
    {
     "data": {
      "text/html": [
       "<div>\n",
       "<style scoped>\n",
       "    .dataframe tbody tr th:only-of-type {\n",
       "        vertical-align: middle;\n",
       "    }\n",
       "\n",
       "    .dataframe tbody tr th {\n",
       "        vertical-align: top;\n",
       "    }\n",
       "\n",
       "    .dataframe thead th {\n",
       "        text-align: right;\n",
       "    }\n",
       "</style>\n",
       "<table border=\"1\" class=\"dataframe\">\n",
       "  <thead>\n",
       "    <tr style=\"text-align: right;\">\n",
       "      <th></th>\n",
       "      <th>RowNumber</th>\n",
       "      <th>CustomerId</th>\n",
       "      <th>Surname</th>\n",
       "      <th>CreditScore</th>\n",
       "      <th>Geography</th>\n",
       "      <th>Gender</th>\n",
       "      <th>Age</th>\n",
       "      <th>Tenure</th>\n",
       "      <th>Balance</th>\n",
       "      <th>NumOfProducts</th>\n",
       "      <th>HasCrCard</th>\n",
       "      <th>IsActiveMember</th>\n",
       "      <th>EstimatedSalary</th>\n",
       "      <th>Exited</th>\n",
       "    </tr>\n",
       "  </thead>\n",
       "  <tbody>\n",
       "    <tr>\n",
       "      <th>30</th>\n",
       "      <td>31</td>\n",
       "      <td>15589475</td>\n",
       "      <td>Azikiwe</td>\n",
       "      <td>591</td>\n",
       "      <td>Spain</td>\n",
       "      <td>Female</td>\n",
       "      <td>39</td>\n",
       "      <td>NaN</td>\n",
       "      <td>0.00</td>\n",
       "      <td>3</td>\n",
       "      <td>1</td>\n",
       "      <td>0</td>\n",
       "      <td>140469.38</td>\n",
       "      <td>1</td>\n",
       "    </tr>\n",
       "    <tr>\n",
       "      <th>48</th>\n",
       "      <td>49</td>\n",
       "      <td>15766205</td>\n",
       "      <td>Yin</td>\n",
       "      <td>550</td>\n",
       "      <td>Germany</td>\n",
       "      <td>Male</td>\n",
       "      <td>38</td>\n",
       "      <td>NaN</td>\n",
       "      <td>103391.38</td>\n",
       "      <td>1</td>\n",
       "      <td>0</td>\n",
       "      <td>1</td>\n",
       "      <td>90878.13</td>\n",
       "      <td>0</td>\n",
       "    </tr>\n",
       "    <tr>\n",
       "      <th>51</th>\n",
       "      <td>52</td>\n",
       "      <td>15768193</td>\n",
       "      <td>Trevisani</td>\n",
       "      <td>585</td>\n",
       "      <td>Germany</td>\n",
       "      <td>Male</td>\n",
       "      <td>36</td>\n",
       "      <td>NaN</td>\n",
       "      <td>146050.97</td>\n",
       "      <td>2</td>\n",
       "      <td>0</td>\n",
       "      <td>0</td>\n",
       "      <td>86424.57</td>\n",
       "      <td>0</td>\n",
       "    </tr>\n",
       "    <tr>\n",
       "      <th>53</th>\n",
       "      <td>54</td>\n",
       "      <td>15702298</td>\n",
       "      <td>Parkhill</td>\n",
       "      <td>655</td>\n",
       "      <td>Germany</td>\n",
       "      <td>Male</td>\n",
       "      <td>41</td>\n",
       "      <td>NaN</td>\n",
       "      <td>125561.97</td>\n",
       "      <td>1</td>\n",
       "      <td>0</td>\n",
       "      <td>0</td>\n",
       "      <td>164040.94</td>\n",
       "      <td>1</td>\n",
       "    </tr>\n",
       "    <tr>\n",
       "      <th>60</th>\n",
       "      <td>61</td>\n",
       "      <td>15651280</td>\n",
       "      <td>Hunter</td>\n",
       "      <td>742</td>\n",
       "      <td>Germany</td>\n",
       "      <td>Male</td>\n",
       "      <td>35</td>\n",
       "      <td>NaN</td>\n",
       "      <td>136857.00</td>\n",
       "      <td>1</td>\n",
       "      <td>0</td>\n",
       "      <td>0</td>\n",
       "      <td>84509.57</td>\n",
       "      <td>0</td>\n",
       "    </tr>\n",
       "    <tr>\n",
       "      <th>82</th>\n",
       "      <td>83</td>\n",
       "      <td>15641732</td>\n",
       "      <td>Mills</td>\n",
       "      <td>543</td>\n",
       "      <td>France</td>\n",
       "      <td>Female</td>\n",
       "      <td>36</td>\n",
       "      <td>NaN</td>\n",
       "      <td>0.00</td>\n",
       "      <td>2</td>\n",
       "      <td>0</td>\n",
       "      <td>0</td>\n",
       "      <td>26019.59</td>\n",
       "      <td>0</td>\n",
       "    </tr>\n",
       "    <tr>\n",
       "      <th>85</th>\n",
       "      <td>86</td>\n",
       "      <td>15805254</td>\n",
       "      <td>Ndukaku</td>\n",
       "      <td>652</td>\n",
       "      <td>Spain</td>\n",
       "      <td>Female</td>\n",
       "      <td>75</td>\n",
       "      <td>NaN</td>\n",
       "      <td>0.00</td>\n",
       "      <td>2</td>\n",
       "      <td>1</td>\n",
       "      <td>1</td>\n",
       "      <td>114675.75</td>\n",
       "      <td>0</td>\n",
       "    </tr>\n",
       "    <tr>\n",
       "      <th>94</th>\n",
       "      <td>95</td>\n",
       "      <td>15676966</td>\n",
       "      <td>Capon</td>\n",
       "      <td>730</td>\n",
       "      <td>Spain</td>\n",
       "      <td>Male</td>\n",
       "      <td>42</td>\n",
       "      <td>NaN</td>\n",
       "      <td>0.00</td>\n",
       "      <td>2</td>\n",
       "      <td>0</td>\n",
       "      <td>1</td>\n",
       "      <td>85982.47</td>\n",
       "      <td>0</td>\n",
       "    </tr>\n",
       "    <tr>\n",
       "      <th>99</th>\n",
       "      <td>100</td>\n",
       "      <td>15633059</td>\n",
       "      <td>Fanucci</td>\n",
       "      <td>413</td>\n",
       "      <td>France</td>\n",
       "      <td>Male</td>\n",
       "      <td>34</td>\n",
       "      <td>NaN</td>\n",
       "      <td>0.00</td>\n",
       "      <td>2</td>\n",
       "      <td>0</td>\n",
       "      <td>0</td>\n",
       "      <td>6534.18</td>\n",
       "      <td>0</td>\n",
       "    </tr>\n",
       "    <tr>\n",
       "      <th>111</th>\n",
       "      <td>112</td>\n",
       "      <td>15665790</td>\n",
       "      <td>Rowntree</td>\n",
       "      <td>538</td>\n",
       "      <td>Germany</td>\n",
       "      <td>Male</td>\n",
       "      <td>39</td>\n",
       "      <td>NaN</td>\n",
       "      <td>108055.10</td>\n",
       "      <td>2</td>\n",
       "      <td>1</td>\n",
       "      <td>0</td>\n",
       "      <td>27231.26</td>\n",
       "      <td>0</td>\n",
       "    </tr>\n",
       "  </tbody>\n",
       "</table>\n",
       "</div>"
      ],
      "text/plain": [
       "     RowNumber  CustomerId    Surname  CreditScore Geography  Gender  Age  \\\n",
       "30          31    15589475    Azikiwe          591     Spain  Female   39   \n",
       "48          49    15766205        Yin          550   Germany    Male   38   \n",
       "51          52    15768193  Trevisani          585   Germany    Male   36   \n",
       "53          54    15702298   Parkhill          655   Germany    Male   41   \n",
       "60          61    15651280     Hunter          742   Germany    Male   35   \n",
       "82          83    15641732      Mills          543    France  Female   36   \n",
       "85          86    15805254    Ndukaku          652     Spain  Female   75   \n",
       "94          95    15676966      Capon          730     Spain    Male   42   \n",
       "99         100    15633059    Fanucci          413    France    Male   34   \n",
       "111        112    15665790   Rowntree          538   Germany    Male   39   \n",
       "\n",
       "     Tenure    Balance  NumOfProducts  HasCrCard  IsActiveMember  \\\n",
       "30      NaN       0.00              3          1               0   \n",
       "48      NaN  103391.38              1          0               1   \n",
       "51      NaN  146050.97              2          0               0   \n",
       "53      NaN  125561.97              1          0               0   \n",
       "60      NaN  136857.00              1          0               0   \n",
       "82      NaN       0.00              2          0               0   \n",
       "85      NaN       0.00              2          1               1   \n",
       "94      NaN       0.00              2          0               1   \n",
       "99      NaN       0.00              2          0               0   \n",
       "111     NaN  108055.10              2          1               0   \n",
       "\n",
       "     EstimatedSalary  Exited  \n",
       "30         140469.38       1  \n",
       "48          90878.13       0  \n",
       "51          86424.57       0  \n",
       "53         164040.94       1  \n",
       "60          84509.57       0  \n",
       "82          26019.59       0  \n",
       "85         114675.75       0  \n",
       "94          85982.47       0  \n",
       "99           6534.18       0  \n",
       "111         27231.26       0  "
      ]
     },
     "execution_count": 6,
     "metadata": {},
     "output_type": "execute_result"
    }
   ],
   "source": [
    "data[data['Tenure'].isna()].head(10)"
   ]
  },
  {
   "cell_type": "code",
   "execution_count": 7,
   "metadata": {},
   "outputs": [
    {
     "data": {
      "text/plain": [
       "1.0     952\n",
       "2.0     950\n",
       "8.0     933\n",
       "3.0     928\n",
       "5.0     927\n",
       "7.0     925\n",
       "4.0     885\n",
       "9.0     882\n",
       "6.0     881\n",
       "10.0    446\n",
       "0.0     382\n",
       "Name: Tenure, dtype: int64"
      ]
     },
     "execution_count": 7,
     "metadata": {},
     "output_type": "execute_result"
    }
   ],
   "source": [
    "data['Tenure'].value_counts()"
   ]
  },
  {
   "cell_type": "code",
   "execution_count": 8,
   "metadata": {},
   "outputs": [
    {
     "data": {
      "text/plain": [
       "count    9091.000000\n",
       "mean        4.997690\n",
       "std         2.894723\n",
       "min         0.000000\n",
       "25%         2.000000\n",
       "50%         5.000000\n",
       "75%         7.000000\n",
       "max        10.000000\n",
       "Name: Tenure, dtype: float64"
      ]
     },
     "execution_count": 8,
     "metadata": {},
     "output_type": "execute_result"
    }
   ],
   "source": [
    "data['Tenure'].describe()"
   ]
  },
  {
   "cell_type": "code",
   "execution_count": 9,
   "metadata": {},
   "outputs": [
    {
     "data": {
      "text/plain": [
       "5.0"
      ]
     },
     "execution_count": 9,
     "metadata": {},
     "output_type": "execute_result"
    }
   ],
   "source": [
    "data['Tenure'].median()"
   ]
  },
  {
   "cell_type": "code",
   "execution_count": 10,
   "metadata": {},
   "outputs": [
    {
     "data": {
      "image/png": "[encoded data removed]",
      "text/plain": [
       "<Figure size 432x288 with 1 Axes>"
      ]
     },
     "metadata": {
      "needs_background": "light"
     },
     "output_type": "display_data"
    }
   ],
   "source": [
    "data['Tenure'].hist();"
   ]
  },
  {
   "cell_type": "markdown",
   "metadata": {},
   "source": [
    "Мы посмотрели распределение значений о количестве лет, в течении которых человек был клиентом банка, и обнаружили, что среднее значение и медианное практически равны - 5 лет, а также распределение по квантилям равномерное. На базе этой информации мы принимем решение заменить пропуски в столбце Tenure на медианное значение.  "
   ]
  },
  {
   "cell_type": "code",
   "execution_count": 11,
   "metadata": {},
   "outputs": [],
   "source": [
    "data['Tenure'] = data['Tenure'].fillna(data['Tenure'].median())"
   ]
  },
  {
   "cell_type": "code",
   "execution_count": 12,
   "metadata": {},
   "outputs": [
    {
     "data": {
      "text/plain": [
       "5.0     1836\n",
       "1.0      952\n",
       "2.0      950\n",
       "8.0      933\n",
       "3.0      928\n",
       "7.0      925\n",
       "4.0      885\n",
       "9.0      882\n",
       "6.0      881\n",
       "10.0     446\n",
       "0.0      382\n",
       "Name: Tenure, dtype: int64"
      ]
     },
     "execution_count": 12,
     "metadata": {},
     "output_type": "execute_result"
    }
   ],
   "source": [
    "data['Tenure'].value_counts()"
   ]
  },
  {
   "cell_type": "code",
   "execution_count": 13,
   "metadata": {},
   "outputs": [
    {
     "data": {
      "text/plain": [
       "RowNumber          0\n",
       "CustomerId         0\n",
       "Surname            0\n",
       "CreditScore        0\n",
       "Geography          0\n",
       "Gender             0\n",
       "Age                0\n",
       "Tenure             0\n",
       "Balance            0\n",
       "NumOfProducts      0\n",
       "HasCrCard          0\n",
       "IsActiveMember     0\n",
       "EstimatedSalary    0\n",
       "Exited             0\n",
       "dtype: int64"
      ]
     },
     "execution_count": 13,
     "metadata": {},
     "output_type": "execute_result"
    }
   ],
   "source": [
    "data.isna().sum()"
   ]
  },
  {
   "cell_type": "markdown",
   "metadata": {},
   "source": [
    "Интересно посмотреть клиенты из каких стран представлены в файле."
   ]
  },
  {
   "cell_type": "code",
   "execution_count": 14,
   "metadata": {},
   "outputs": [
    {
     "data": {
      "text/plain": [
       "France     5014\n",
       "Germany    2509\n",
       "Spain      2477\n",
       "Name: Geography, dtype: int64"
      ]
     },
     "execution_count": 14,
     "metadata": {},
     "output_type": "execute_result"
    }
   ],
   "source": [
    "data['Geography'].value_counts()"
   ]
  },
  {
   "cell_type": "code",
   "execution_count": 15,
   "metadata": {},
   "outputs": [
    {
     "data": {
      "text/plain": [
       "Male      5457\n",
       "Female    4543\n",
       "Name: Gender, dtype: int64"
      ]
     },
     "execution_count": 15,
     "metadata": {},
     "output_type": "execute_result"
    }
   ],
   "source": [
    "data['Gender'].value_counts()"
   ]
  },
  {
   "cell_type": "markdown",
   "metadata": {},
   "source": [
    "Интересно и важно посмотреть на сколько сбалансированные данные представлены в плане оттока клиентов."
   ]
  },
  {
   "cell_type": "code",
   "execution_count": 16,
   "metadata": {},
   "outputs": [
    {
     "data": {
      "text/plain": [
       "RowNumber          2037\n",
       "CustomerId         2037\n",
       "Surname            2037\n",
       "CreditScore        2037\n",
       "Geography          2037\n",
       "Gender             2037\n",
       "Age                2037\n",
       "Tenure             2037\n",
       "Balance            2037\n",
       "NumOfProducts      2037\n",
       "HasCrCard          2037\n",
       "IsActiveMember     2037\n",
       "EstimatedSalary    2037\n",
       "Exited             2037\n",
       "dtype: int64"
      ]
     },
     "execution_count": 16,
     "metadata": {},
     "output_type": "execute_result"
    }
   ],
   "source": [
    "data.query('Exited == 1').count()"
   ]
  },
  {
   "cell_type": "markdown",
   "metadata": {},
   "source": [
    "Мы убедились, что у нас есть информация о 2037 клиентах, которые покинули этот банк, что сотавляет около 20% от общего количества клиентов, представленных в файле."
   ]
  },
  {
   "cell_type": "markdown",
   "metadata": {},
   "source": [
    "Мы удалим столбцы с информацией CustomerId (уникальный идентификатор клиента) и Surname (фамилия клиента), она нам не пригодится в дальнейшем исследовании."
   ]
  },
  {
   "cell_type": "code",
   "execution_count": 17,
   "metadata": {},
   "outputs": [],
   "source": [
    "data = data.drop(['RowNumber','CustomerId','Surname'], axis=1)"
   ]
  },
  {
   "cell_type": "markdown",
   "metadata": {},
   "source": [
    "Посмотрим какие данные мы получили после наших преобразований."
   ]
  },
  {
   "cell_type": "code",
   "execution_count": 18,
   "metadata": {},
   "outputs": [
    {
     "name": "stdout",
     "output_type": "stream",
     "text": [
      "<class 'pandas.core.frame.DataFrame'>\n",
      "RangeIndex: 10000 entries, 0 to 9999\n",
      "Data columns (total 11 columns):\n",
      " #   Column           Non-Null Count  Dtype  \n",
      "---  ------           --------------  -----  \n",
      " 0   CreditScore      10000 non-null  int64  \n",
      " 1   Geography        10000 non-null  object \n",
      " 2   Gender           10000 non-null  object \n",
      " 3   Age              10000 non-null  int64  \n",
      " 4   Tenure           10000 non-null  float64\n",
      " 5   Balance          10000 non-null  float64\n",
      " 6   NumOfProducts    10000 non-null  int64  \n",
      " 7   HasCrCard        10000 non-null  int64  \n",
      " 8   IsActiveMember   10000 non-null  int64  \n",
      " 9   EstimatedSalary  10000 non-null  float64\n",
      " 10  Exited           10000 non-null  int64  \n",
      "dtypes: float64(3), int64(6), object(2)\n",
      "memory usage: 859.5+ KB\n"
     ]
    }
   ],
   "source": [
    "data.info()"
   ]
  },
  {
   "cell_type": "markdown",
   "metadata": {},
   "source": [
    "Мы видим , что два столбца Geography (страна проживания) и Gender (пол) имеют тип данных object. Мы не сможем делать анализ данных и создать модель для машинного обучения с категориальными признаками - нам нужно преобразовать их в количественные."
   ]
  },
  {
   "cell_type": "code",
   "execution_count": 19,
   "metadata": {},
   "outputs": [],
   "source": [
    "data_ohe=pd.get_dummies(data, columns=['Geography','Gender'])"
   ]
  },
  {
   "cell_type": "markdown",
   "metadata": {},
   "source": [
    "Поскольку у нас неочень много записей (10 000 клиентов) мы оставим все столбцы после кодирования категориальных признаков, поскольку это возможно поможет нам сделать графики или свобные таблицы для страны проживания и пола клиентов, не делая дополнительных вычислений."
   ]
  },
  {
   "cell_type": "code",
   "execution_count": 20,
   "metadata": {},
   "outputs": [
    {
     "data": {
      "text/plain": [
       "0    5457\n",
       "1    4543\n",
       "Name: Gender_Female, dtype: int64"
      ]
     },
     "execution_count": 20,
     "metadata": {},
     "output_type": "execute_result"
    }
   ],
   "source": [
    "data_ohe['Gender_Female'].value_counts()"
   ]
  },
  {
   "cell_type": "code",
   "execution_count": 21,
   "metadata": {},
   "outputs": [
    {
     "data": {
      "text/plain": [
       "1    5014\n",
       "0    4986\n",
       "Name: Geography_France, dtype: int64"
      ]
     },
     "execution_count": 21,
     "metadata": {},
     "output_type": "execute_result"
    }
   ],
   "source": [
    "data_ohe['Geography_France'].value_counts()"
   ]
  },
  {
   "cell_type": "code",
   "execution_count": 22,
   "metadata": {},
   "outputs": [
    {
     "data": {
      "text/plain": [
       "0    7491\n",
       "1    2509\n",
       "Name: Geography_Germany, dtype: int64"
      ]
     },
     "execution_count": 22,
     "metadata": {},
     "output_type": "execute_result"
    }
   ],
   "source": [
    "data_ohe['Geography_Germany'].value_counts()"
   ]
  },
  {
   "cell_type": "code",
   "execution_count": 23,
   "metadata": {},
   "outputs": [
    {
     "data": {
      "text/plain": [
       "0    7523\n",
       "1    2477\n",
       "Name: Geography_Spain, dtype: int64"
      ]
     },
     "execution_count": 23,
     "metadata": {},
     "output_type": "execute_result"
    }
   ],
   "source": [
    "data_ohe['Geography_Spain'].value_counts()"
   ]
  },
  {
   "cell_type": "markdown",
   "metadata": {},
   "source": [
    "Посмотрим, как выглядит наш обработанный файл"
   ]
  },
  {
   "cell_type": "code",
   "execution_count": 24,
   "metadata": {},
   "outputs": [
    {
     "data": {
      "text/html": [
       "<div>\n",
       "<style scoped>\n",
       "    .dataframe tbody tr th:only-of-type {\n",
       "        vertical-align: middle;\n",
       "    }\n",
       "\n",
       "    .dataframe tbody tr th {\n",
       "        vertical-align: top;\n",
       "    }\n",
       "\n",
       "    .dataframe thead th {\n",
       "        text-align: right;\n",
       "    }\n",
       "</style>\n",
       "<table border=\"1\" class=\"dataframe\">\n",
       "  <thead>\n",
       "    <tr style=\"text-align: right;\">\n",
       "      <th></th>\n",
       "      <th>CreditScore</th>\n",
       "      <th>Age</th>\n",
       "      <th>Tenure</th>\n",
       "      <th>Balance</th>\n",
       "      <th>NumOfProducts</th>\n",
       "      <th>HasCrCard</th>\n",
       "      <th>IsActiveMember</th>\n",
       "      <th>EstimatedSalary</th>\n",
       "      <th>Exited</th>\n",
       "      <th>Geography_France</th>\n",
       "      <th>Geography_Germany</th>\n",
       "      <th>Geography_Spain</th>\n",
       "      <th>Gender_Female</th>\n",
       "      <th>Gender_Male</th>\n",
       "    </tr>\n",
       "  </thead>\n",
       "  <tbody>\n",
       "    <tr>\n",
       "      <th>0</th>\n",
       "      <td>619</td>\n",
       "      <td>42</td>\n",
       "      <td>2.0</td>\n",
       "      <td>0.00</td>\n",
       "      <td>1</td>\n",
       "      <td>1</td>\n",
       "      <td>1</td>\n",
       "      <td>101348.88</td>\n",
       "      <td>1</td>\n",
       "      <td>1</td>\n",
       "      <td>0</td>\n",
       "      <td>0</td>\n",
       "      <td>1</td>\n",
       "      <td>0</td>\n",
       "    </tr>\n",
       "    <tr>\n",
       "      <th>1</th>\n",
       "      <td>608</td>\n",
       "      <td>41</td>\n",
       "      <td>1.0</td>\n",
       "      <td>83807.86</td>\n",
       "      <td>1</td>\n",
       "      <td>0</td>\n",
       "      <td>1</td>\n",
       "      <td>112542.58</td>\n",
       "      <td>0</td>\n",
       "      <td>0</td>\n",
       "      <td>0</td>\n",
       "      <td>1</td>\n",
       "      <td>1</td>\n",
       "      <td>0</td>\n",
       "    </tr>\n",
       "    <tr>\n",
       "      <th>2</th>\n",
       "      <td>502</td>\n",
       "      <td>42</td>\n",
       "      <td>8.0</td>\n",
       "      <td>159660.80</td>\n",
       "      <td>3</td>\n",
       "      <td>1</td>\n",
       "      <td>0</td>\n",
       "      <td>113931.57</td>\n",
       "      <td>1</td>\n",
       "      <td>1</td>\n",
       "      <td>0</td>\n",
       "      <td>0</td>\n",
       "      <td>1</td>\n",
       "      <td>0</td>\n",
       "    </tr>\n",
       "    <tr>\n",
       "      <th>3</th>\n",
       "      <td>699</td>\n",
       "      <td>39</td>\n",
       "      <td>1.0</td>\n",
       "      <td>0.00</td>\n",
       "      <td>2</td>\n",
       "      <td>0</td>\n",
       "      <td>0</td>\n",
       "      <td>93826.63</td>\n",
       "      <td>0</td>\n",
       "      <td>1</td>\n",
       "      <td>0</td>\n",
       "      <td>0</td>\n",
       "      <td>1</td>\n",
       "      <td>0</td>\n",
       "    </tr>\n",
       "    <tr>\n",
       "      <th>4</th>\n",
       "      <td>850</td>\n",
       "      <td>43</td>\n",
       "      <td>2.0</td>\n",
       "      <td>125510.82</td>\n",
       "      <td>1</td>\n",
       "      <td>1</td>\n",
       "      <td>1</td>\n",
       "      <td>79084.10</td>\n",
       "      <td>0</td>\n",
       "      <td>0</td>\n",
       "      <td>0</td>\n",
       "      <td>1</td>\n",
       "      <td>1</td>\n",
       "      <td>0</td>\n",
       "    </tr>\n",
       "    <tr>\n",
       "      <th>5</th>\n",
       "      <td>645</td>\n",
       "      <td>44</td>\n",
       "      <td>8.0</td>\n",
       "      <td>113755.78</td>\n",
       "      <td>2</td>\n",
       "      <td>1</td>\n",
       "      <td>0</td>\n",
       "      <td>149756.71</td>\n",
       "      <td>1</td>\n",
       "      <td>0</td>\n",
       "      <td>0</td>\n",
       "      <td>1</td>\n",
       "      <td>0</td>\n",
       "      <td>1</td>\n",
       "    </tr>\n",
       "    <tr>\n",
       "      <th>6</th>\n",
       "      <td>822</td>\n",
       "      <td>50</td>\n",
       "      <td>7.0</td>\n",
       "      <td>0.00</td>\n",
       "      <td>2</td>\n",
       "      <td>1</td>\n",
       "      <td>1</td>\n",
       "      <td>10062.80</td>\n",
       "      <td>0</td>\n",
       "      <td>1</td>\n",
       "      <td>0</td>\n",
       "      <td>0</td>\n",
       "      <td>0</td>\n",
       "      <td>1</td>\n",
       "    </tr>\n",
       "    <tr>\n",
       "      <th>7</th>\n",
       "      <td>376</td>\n",
       "      <td>29</td>\n",
       "      <td>4.0</td>\n",
       "      <td>115046.74</td>\n",
       "      <td>4</td>\n",
       "      <td>1</td>\n",
       "      <td>0</td>\n",
       "      <td>119346.88</td>\n",
       "      <td>1</td>\n",
       "      <td>0</td>\n",
       "      <td>1</td>\n",
       "      <td>0</td>\n",
       "      <td>1</td>\n",
       "      <td>0</td>\n",
       "    </tr>\n",
       "    <tr>\n",
       "      <th>8</th>\n",
       "      <td>501</td>\n",
       "      <td>44</td>\n",
       "      <td>4.0</td>\n",
       "      <td>142051.07</td>\n",
       "      <td>2</td>\n",
       "      <td>0</td>\n",
       "      <td>1</td>\n",
       "      <td>74940.50</td>\n",
       "      <td>0</td>\n",
       "      <td>1</td>\n",
       "      <td>0</td>\n",
       "      <td>0</td>\n",
       "      <td>0</td>\n",
       "      <td>1</td>\n",
       "    </tr>\n",
       "    <tr>\n",
       "      <th>9</th>\n",
       "      <td>684</td>\n",
       "      <td>27</td>\n",
       "      <td>2.0</td>\n",
       "      <td>134603.88</td>\n",
       "      <td>1</td>\n",
       "      <td>1</td>\n",
       "      <td>1</td>\n",
       "      <td>71725.73</td>\n",
       "      <td>0</td>\n",
       "      <td>1</td>\n",
       "      <td>0</td>\n",
       "      <td>0</td>\n",
       "      <td>0</td>\n",
       "      <td>1</td>\n",
       "    </tr>\n",
       "  </tbody>\n",
       "</table>\n",
       "</div>"
      ],
      "text/plain": [
       "   CreditScore  Age  Tenure    Balance  NumOfProducts  HasCrCard  \\\n",
       "0          619   42     2.0       0.00              1          1   \n",
       "1          608   41     1.0   83807.86              1          0   \n",
       "2          502   42     8.0  159660.80              3          1   \n",
       "3          699   39     1.0       0.00              2          0   \n",
       "4          850   43     2.0  125510.82              1          1   \n",
       "5          645   44     8.0  113755.78              2          1   \n",
       "6          822   50     7.0       0.00              2          1   \n",
       "7          376   29     4.0  115046.74              4          1   \n",
       "8          501   44     4.0  142051.07              2          0   \n",
       "9          684   27     2.0  134603.88              1          1   \n",
       "\n",
       "   IsActiveMember  EstimatedSalary  Exited  Geography_France  \\\n",
       "0               1        101348.88       1                 1   \n",
       "1               1        112542.58       0                 0   \n",
       "2               0        113931.57       1                 1   \n",
       "3               0         93826.63       0                 1   \n",
       "4               1         79084.10       0                 0   \n",
       "5               0        149756.71       1                 0   \n",
       "6               1         10062.80       0                 1   \n",
       "7               0        119346.88       1                 0   \n",
       "8               1         74940.50       0                 1   \n",
       "9               1         71725.73       0                 1   \n",
       "\n",
       "   Geography_Germany  Geography_Spain  Gender_Female  Gender_Male  \n",
       "0                  0                0              1            0  \n",
       "1                  0                1              1            0  \n",
       "2                  0                0              1            0  \n",
       "3                  0                0              1            0  \n",
       "4                  0                1              1            0  \n",
       "5                  0                1              0            1  \n",
       "6                  0                0              0            1  \n",
       "7                  1                0              1            0  \n",
       "8                  0                0              0            1  \n",
       "9                  0                0              0            1  "
      ]
     },
     "execution_count": 24,
     "metadata": {},
     "output_type": "execute_result"
    }
   ],
   "source": [
    "data_ohe.head(10)"
   ]
  },
  {
   "cell_type": "markdown",
   "metadata": {},
   "source": [
    "Вывод: мы получили данные, содержащие следующую информацию о клиентах банка: CustomerId — уникальный идентификатор клиента\n",
    "Surname — фамилия, CreditScore — кредитный рейтинг, Geography — страна проживания, Gender — пол, Age — возраст, Tenure — сколько лет человек является клиентом банка, Balance — баланс на счёте, NumOfProducts — количество продуктов банка  используемых клиентом, HasCrCard — наличие кредитной карты, IsActiveMember — активность клиента, EstimatedSalary — предполагаемая зарплата, Exited — факт ухода клиента.   \n",
    "Мы обнаружили пропуски у 9% клиентах в столбце Tenure и их заменили на медианное значение. Мы удалили столбцы CustomerId и Surname, поскольку они нам не пригодятся для дальнейшего исследования. Мы обнаружили, что данные у нас несбаллансированные по ключевому признаку Exited, всего 20% клиентов имеют \"1\" - положительный результат в этом столбце означает, что клиент покинул банк. Мы также закодировали два столбца Geography и Gender, в результате чего у нас появились дополнительные столбцы с количественными значениями: Geography_France, Geography_Germany, Geography_Spain, Gender_Female, Gender_Male. "
   ]
  },
  {
   "cell_type": "markdown",
   "metadata": {},
   "source": [
    "## Исследование задачи"
   ]
  },
  {
   "cell_type": "markdown",
   "metadata": {},
   "source": [
    "Приступим к анализу данных и выбору наилучшей модели для обучения."
   ]
  },
  {
   "cell_type": "markdown",
   "metadata": {},
   "source": [
    "Создадим файл с переменными для признаков"
   ]
  },
  {
   "cell_type": "code",
   "execution_count": 25,
   "metadata": {},
   "outputs": [],
   "source": [
    "features = data_ohe.drop(['Exited'], axis=1)"
   ]
  },
  {
   "cell_type": "markdown",
   "metadata": {},
   "source": [
    "Создадим файл с целевым признаком."
   ]
  },
  {
   "cell_type": "code",
   "execution_count": 26,
   "metadata": {},
   "outputs": [],
   "source": [
    "target = data_ohe['Exited']"
   ]
  },
  {
   "cell_type": "markdown",
   "metadata": {},
   "source": [
    "Сначала мы выделим обучающую выборку и предварительную тестовую в соотношении 3:2"
   ]
  },
  {
   "cell_type": "code",
   "execution_count": 27,
   "metadata": {},
   "outputs": [],
   "source": [
    "features_train, features_test, target_train, target_test  = train_test_split(\n",
    "    features, target, test_size=0.4, random_state=12345, stratify = target)"
   ]
  },
  {
   "cell_type": "markdown",
   "metadata": {},
   "source": [
    "А затем разделим тестовую пополам: на валидационную и тестовую выборки"
   ]
  },
  {
   "cell_type": "code",
   "execution_count": 28,
   "metadata": {},
   "outputs": [],
   "source": [
    "features_valid, features_test, target_valid, target_test  = train_test_split(\n",
    "    features_test, target_test, test_size=0.5, random_state=12345 , stratify = target_test)"
   ]
  },
  {
   "cell_type": "markdown",
   "metadata": {},
   "source": [
    "Проверим размер полученных выборок"
   ]
  },
  {
   "cell_type": "code",
   "execution_count": 29,
   "metadata": {},
   "outputs": [
    {
     "data": {
      "text/plain": [
       "(6000, 13)"
      ]
     },
     "execution_count": 29,
     "metadata": {},
     "output_type": "execute_result"
    }
   ],
   "source": [
    "features_train.shape"
   ]
  },
  {
   "cell_type": "code",
   "execution_count": 30,
   "metadata": {},
   "outputs": [
    {
     "data": {
      "text/plain": [
       "(2000, 13)"
      ]
     },
     "execution_count": 30,
     "metadata": {},
     "output_type": "execute_result"
    }
   ],
   "source": [
    "features_test.shape"
   ]
  },
  {
   "cell_type": "code",
   "execution_count": 31,
   "metadata": {},
   "outputs": [
    {
     "data": {
      "text/plain": [
       "(2000, 13)"
      ]
     },
     "execution_count": 31,
     "metadata": {},
     "output_type": "execute_result"
    }
   ],
   "source": [
    "features_valid.shape"
   ]
  },
  {
   "cell_type": "code",
   "execution_count": 32,
   "metadata": {},
   "outputs": [
    {
     "data": {
      "text/plain": [
       "(6000,)"
      ]
     },
     "execution_count": 32,
     "metadata": {},
     "output_type": "execute_result"
    }
   ],
   "source": [
    "target_train.shape"
   ]
  },
  {
   "cell_type": "code",
   "execution_count": 33,
   "metadata": {},
   "outputs": [
    {
     "data": {
      "text/plain": [
       "(2000,)"
      ]
     },
     "execution_count": 33,
     "metadata": {},
     "output_type": "execute_result"
    }
   ],
   "source": [
    "target_test.shape"
   ]
  },
  {
   "cell_type": "code",
   "execution_count": 34,
   "metadata": {},
   "outputs": [
    {
     "data": {
      "text/plain": [
       "(2000,)"
      ]
     },
     "execution_count": 34,
     "metadata": {},
     "output_type": "execute_result"
    }
   ],
   "source": [
    "target_valid.shape"
   ]
  },
  {
   "cell_type": "markdown",
   "metadata": {},
   "source": [
    "Рассмотрим первый вариант обучения - модель дерева решений, и посмотрим её точность. Напишем цикл, чтобы понять какие нужны гиперпараметры глубины дерева для получения высокого результата точности"
   ]
  },
  {
   "cell_type": "code",
   "execution_count": 35,
   "metadata": {},
   "outputs": [
    {
     "name": "stdout",
     "output_type": "stream",
     "text": [
      "1 0.7963333333333333 0.796\n",
      "2 0.8375 0.835\n",
      "3 0.8421666666666666 0.84\n",
      "4 0.8561666666666666 0.849\n",
      "5 0.8625 0.8575\n",
      "6 0.866 0.86\n",
      "7 0.8708333333333333 0.86\n",
      "8 0.8793333333333333 0.858\n",
      "9 0.8928333333333334 0.8485\n",
      "10 0.9058333333333334 0.836\n",
      "11 0.9211666666666667 0.834\n",
      "12 0.9318333333333333 0.8315\n",
      "13 0.9475 0.8265\n",
      "14 0.961 0.8115\n"
     ]
    }
   ],
   "source": [
    "for depth in range(1, 15):\n",
    "    model = DecisionTreeClassifier(random_state=12345, max_depth=depth)\n",
    "    model.fit(features_train, target_train)\n",
    "    predictions_valid = model.predict(features_valid)\n",
    "    predictions_train = model.predict(features_train)\n",
    "    result = accuracy_score(target_train, predictions_train)\n",
    "    result1 = accuracy_score(target_valid, predictions_valid)\n",
    "    print(depth, result, result1)"
   ]
  },
  {
   "cell_type": "markdown",
   "metadata": {},
   "source": [
    "Создадим модель Дерева решений model1 с лучшим гиперпараметром - глубина дерева 14 и посмотрим качество прогноза этой модели и F1-меру. "
   ]
  },
  {
   "cell_type": "code",
   "execution_count": 36,
   "metadata": {},
   "outputs": [
    {
     "name": "stdout",
     "output_type": "stream",
     "text": [
      "Результат работы модели решающего дерева с гиперпараметром - глубина дерева 14\n",
      "Качество прогноза модели решающего дерева: 0.8115\n",
      "F1-мера модели решающего дерева 0.5122897800776196\n",
      "AUC-ROC модели решающего дерева: 0.7042635050251256\n"
     ]
    }
   ],
   "source": [
    "model1 = DecisionTreeClassifier(random_state=12345, max_depth=14)\n",
    "model1.fit(features_train, target_train)\n",
    "predicted_valid1 = model.predict(features_valid)\n",
    "result1 = accuracy_score(target_valid, predictions_valid)\n",
    "f1_1=f1_score(target_valid, predicted_valid1)\n",
    "probabilities1 = model1.predict_proba(features_valid)\n",
    "probabilities_one1 = probabilities1[:, 1]\n",
    "auc_roc1 = roc_auc_score(target_valid, probabilities_one1)\n",
    "print (\"Результат работы модели решающего дерева с гиперпараметром - глубина дерева 14\")\n",
    "print (\"Качество прогноза модели решающего дерева:\", result1)\n",
    "print (\"F1-мера модели решающего дерева\", f1_1)\n",
    "print(\"AUC-ROC модели решающего дерева:\", auc_roc1)"
   ]
  },
  {
   "cell_type": "markdown",
   "metadata": {},
   "source": [
    "Сейчас проверим какая будет точность при другой модели - Случайный лес. Для расчёта будем использовать метод GridSearchCV для поиска количества деревьев и глубины дерева, при котором  получается наилучшая точность. Этой моделе Случайный лес присвоим имя model2 и посмотрим качество прогноза этой модели и F1-меру. "
   ]
  },
  {
   "cell_type": "code",
   "execution_count": 37,
   "metadata": {},
   "outputs": [
    {
     "data": {
      "text/plain": [
       "{'max_depth': 9, 'n_estimators': 140, 'random_state': 12345}"
      ]
     },
     "execution_count": 37,
     "metadata": {},
     "output_type": "execute_result"
    }
   ],
   "source": [
    "clf = RandomForestClassifier()\n",
    "parametrs = {'n_estimators': range (140, 200, 10), 'max_depth': range (5,15, 2), 'random_state': ([12345, 12345])}\n",
    "model2 = GridSearchCV(clf, parametrs, cv=5)\n",
    "#model2 = RandomForestClassifier(random_state=12345, n_estimators=190, max_depth = 11 ) \n",
    "model2.fit(features_train, target_train)\n",
    "model2.best_params_"
   ]
  },
  {
   "cell_type": "code",
   "execution_count": 38,
   "metadata": {},
   "outputs": [
    {
     "name": "stdout",
     "output_type": "stream",
     "text": [
      "Результат работы модели случайный лес с гиперпараметрами - глубина дерева 9, количество деревьев - 140\n",
      "Качество прогноза модели случайный лес: 0.8635\n",
      "F1-мера модели случайный лес 0.5754276827371695\n",
      "AUC-ROC модели случайный лес: 0.8738591856340527\n"
     ]
    }
   ],
   "source": [
    "predicted_valid2 = model2.predict(features_valid)\n",
    "result2 = model2.score(features_valid, target_valid)\n",
    "f1_2=f1_score(target_valid, predicted_valid2)\n",
    "probabilities2 = model2.predict_proba(features_valid)\n",
    "probabilities_one2 = probabilities2[:, 1]\n",
    "auc_roc2 = roc_auc_score(target_valid, probabilities_one2)\n",
    "print (\"Результат работы модели случайный лес с гиперпараметрами - глубина дерева 9, количество деревьев - 140\")\n",
    "print (\"Качество прогноза модели случайный лес:\", result2)\n",
    "print (\"F1-мера модели случайный лес\", f1_2)\n",
    "print(\"AUC-ROC модели случайный лес:\", auc_roc2)"
   ]
  },
  {
   "cell_type": "markdown",
   "metadata": {},
   "source": [
    "И наконец посмотрим модель обучения model3 Логистическая регрессия и посмотрим качество прогноза этой модели и F1-меру. "
   ]
  },
  {
   "cell_type": "code",
   "execution_count": 39,
   "metadata": {},
   "outputs": [
    {
     "name": "stdout",
     "output_type": "stream",
     "text": [
      "Результат работы модели логистическая регрессия с гиперпараметром - 1000 итераций\n",
      "Качество прогноза модели логистическая регрессия: 0.7905\n",
      "F1-мера модели логистическая регрессия 0.06263982102908278\n",
      "AUC-ROC модели логистическая регрессия: 0.8738591856340527\n"
     ]
    }
   ],
   "source": [
    "# model3 = LogisticRegression(random_state=12345, solver='liblinear', max_iter=500)\n",
    "# model3.fit(features_train,target_train)\n",
    "# predicted_valid3 = model3.predict(features_valid)\n",
    "# result3 = model3.score(features_valid, target_valid)\n",
    "# f1_3=f1_score(target_valid, predicted_valid3)\n",
    "# probabilities3 = model2.predict_proba(features_valid)\n",
    "# probabilities_one3 = probabilities3[:, 1]\n",
    "# auc_roc3 = roc_auc_score(target_valid, probabilities_one3)\n",
    "# print (\"Результат работы модели логистическая регрессия с гиперпараметром - 1000 итераций\")\n",
    "# print (\"Качество прогноза модели логистическая регрессия:\", result3)\n",
    "# print (\"F1-мера модели логистическая регрессия\", f1_3)\n",
    "#print (\"AUC-ROC модели логистическая регрессия:\", auc_roc3)"
   ]
  },
  {
   "cell_type": "markdown",
   "metadata": {},
   "source": [
    "Вывод: Нами было рассмотрено три модели машинного обучения : Дерево решений, Случайный лес и Логистическая регрессия. Лучшего результата точности прогноза и F1-меры мы добились мы добились у модели Случайный лес с гиперпараметрами:глубина дерева- 11, количество деревьев - 160. Для этой моделе на валидационной выборке мы получили занчение F1-меры 0.5754276827371695 и AUC-ROC 0.8738591856340527. Эта модель у нас сохранена под именем model2 и её мы будем далее использовать в нашем исследовании."
   ]
  },
  {
   "cell_type": "markdown",
   "metadata": {},
   "source": [
    "## Борьба с дисбалансом"
   ]
  },
  {
   "cell_type": "markdown",
   "metadata": {},
   "source": [
    "В самом начале при анализе данных мы обнаружили, что переданная информация о клиентах несбаланссированная: только 20% клиентов от всего количества указаны, как покинувшие банк. Нам нужно сделать дополнительные преобразования, чтобы редкие данные были увеличены, что поможем нам создать более точную модель машинного обучения.  "
   ]
  },
  {
   "cell_type": "markdown",
   "metadata": {},
   "source": [
    "Посмотрим, какое соотношение редкого и частого класса в нашей обучающей выборке"
   ]
  },
  {
   "cell_type": "code",
   "execution_count": 40,
   "metadata": {},
   "outputs": [
    {
     "data": {
      "text/plain": [
       "0    4778\n",
       "1    1222\n",
       "Name: Exited, dtype: int64"
      ]
     },
     "execution_count": 40,
     "metadata": {},
     "output_type": "execute_result"
    }
   ],
   "source": [
    "target_train.value_counts()"
   ]
  },
  {
   "cell_type": "markdown",
   "metadata": {},
   "source": [
    "Мы видим, что редкий класс составляет 20% (1222 от общего количества 6000), поэтому мы увеличим строки с информацией о клиентах со значением \"1\" в целевом признаке в 4 раза, чтобы обучающая выборка была сбалансирована и имела одинаковое значение строк с положительным и отрицательным целевым признаком."
   ]
  },
  {
   "cell_type": "code",
   "execution_count": 41,
   "metadata": {},
   "outputs": [],
   "source": [
    "def upsample(features, target, repeat):\n",
    "    features_zeros = features[target == 0]\n",
    "    features_ones = features[target == 1]\n",
    "    target_zeros = target[target == 0]\n",
    "    target_ones = target[target == 1]\n",
    "\n",
    "    features_upsampled = pd.concat([features_zeros] + [features_ones] * repeat)\n",
    "    target_upsampled = pd.concat([target_zeros] + [target_ones] * repeat)\n",
    "    \n",
    "    features_upsampled, target_upsampled = shuffle(\n",
    "        features_upsampled, target_upsampled, random_state=12345)\n",
    "    \n",
    "    return features_upsampled, target_upsampled\n",
    "\n",
    "features_upsampled, target_upsampled = upsample(features_train, target_train, 4)"
   ]
  },
  {
   "cell_type": "code",
   "execution_count": 42,
   "metadata": {},
   "outputs": [
    {
     "data": {
      "text/plain": [
       "(9666,)"
      ]
     },
     "execution_count": 42,
     "metadata": {},
     "output_type": "execute_result"
    }
   ],
   "source": [
    "target_upsampled.shape"
   ]
  },
  {
   "cell_type": "code",
   "execution_count": 43,
   "metadata": {},
   "outputs": [
    {
     "data": {
      "text/plain": [
       "1    4888\n",
       "0    4778\n",
       "Name: Exited, dtype: int64"
      ]
     },
     "execution_count": 43,
     "metadata": {},
     "output_type": "execute_result"
    }
   ],
   "source": [
    "target_upsampled.value_counts()"
   ]
  },
  {
   "cell_type": "markdown",
   "metadata": {},
   "source": [
    "Наши данные по ключевому признаку в обучающей выборке стали сбалансированы и представлены поровну. Мы будем использовать новую обучающую выборку features_upsampled и target_upsampled для дополнительного обучения нашей лучшей модели model2."
   ]
  },
  {
   "cell_type": "code",
   "execution_count": 44,
   "metadata": {},
   "outputs": [
    {
     "name": "stdout",
     "output_type": "stream",
     "text": [
      "Качество прогноза модели случайный лес с учетом баланса: 0.848\n",
      "F1-мера модели случайный лес с учетом баланса: 0.6346153846153846\n",
      "AUC-ROC модели случайный лес с учетом баланса: 0.8651421938121981\n"
     ]
    }
   ],
   "source": [
    "model2.fit(features_upsampled,target_upsampled)\n",
    "predicted_valid4 = model2.predict(features_valid)\n",
    "result4 = model2.score(features_valid, target_valid)\n",
    "f1_4=f1_score(target_valid, predicted_valid4)\n",
    "probabilities4 = model2.predict_proba(features_valid)\n",
    "probabilities_one4 = probabilities4[:, 1]\n",
    "auc_roc4 = roc_auc_score(target_valid, probabilities_one4)\n",
    "print (\"Качество прогноза модели случайный лес с учетом баланса:\", result4)\n",
    "print (\"F1-мера модели случайный лес с учетом баланса:\", f1_4)\n",
    "print (\"AUC-ROC модели случайный лес с учетом баланса:\", auc_roc4)"
   ]
  },
  {
   "cell_type": "markdown",
   "metadata": {},
   "source": [
    "Проверим какой будет результат у модели дерево решений после дополнительного обчучения на сбалансированной выборке"
   ]
  },
  {
   "cell_type": "code",
   "execution_count": 45,
   "metadata": {},
   "outputs": [
    {
     "name": "stdout",
     "output_type": "stream",
     "text": [
      "Качество прогноза модели дерево решений с учетом баланса: 0.7865\n",
      "F1-мера модели дерево решений с учетом баланса: 0.5260821309655938\n",
      "AUC-ROC модели дерево решений с учетом баланса: 0.7161204305842941\n"
     ]
    }
   ],
   "source": [
    "model1.fit(features_upsampled,target_upsampled)\n",
    "predicted_valid11 = model1.predict(features_valid)\n",
    "result11 = model1.score(features_valid, target_valid)\n",
    "f1_11=f1_score(target_valid, predicted_valid11)\n",
    "probabilities11 = model1.predict_proba(features_valid)\n",
    "probabilities_one11 = probabilities11[:, 1]\n",
    "auc_roc11 = roc_auc_score(target_valid, probabilities_one11)\n",
    "print (\"Качество прогноза модели дерево решений с учетом баланса:\", result11)\n",
    "print (\"F1-мера модели дерево решений с учетом баланса:\", f1_11)\n",
    "print (\"AUC-ROC модели дерево решений с учетом баланса:\", auc_roc11)"
   ]
  },
  {
   "cell_type": "markdown",
   "metadata": {},
   "source": [
    "Проверим какой будет результат у модели логистическая регрессия после дополнительного обчучения на сбалансированной выборке"
   ]
  },
  {
   "cell_type": "code",
   "execution_count": 46,
   "metadata": {},
   "outputs": [
    {
     "name": "stdout",
     "output_type": "stream",
     "text": [
      "Качество прогноза модели логистическая регрессия с учетом баланса: 0.6725\n",
      "F1-мера модели логистическая регрессия с учетом баланса: 0.4730490748189862\n",
      "AUC-ROC модели логистическая регрессия с учетом баланса: 0.8651421938121981\n"
     ]
    }
   ],
   "source": [
    "model3.fit(features_upsampled,target_upsampled)\n",
    "predicted_valid33 = model3.predict(features_valid)\n",
    "result33 = model3.score(features_valid, target_valid)\n",
    "f1_33=f1_score(target_valid, predicted_valid33)\n",
    "probabilities33 = model3.predict_proba(features_valid)\n",
    "probabilities_one33 = probabilities33[:, 1]\n",
    "auc_roc33 = roc_auc_score(target_valid, probabilities_one4)\n",
    "print (\"Качество прогноза модели логистическая регрессия с учетом баланса:\", result33)\n",
    "print (\"F1-мера модели логистическая регрессия с учетом баланса:\", f1_33)\n",
    "print (\"AUC-ROC модели логистическая регрессия с учетом баланса:\", auc_roc33)"
   ]
  },
  {
   "cell_type": "markdown",
   "metadata": {},
   "source": [
    "Вывод: Благодаря мерам по увеличению записей редкого класса и дополнительного обучения нашей лучшей модели мы смогли добиться ещё лучшего результата в плане для определения F1-меры (0.6346153846153846 против 0.5754276827371695), а значение AUC-ROC немного снизилось (0.8651421938121981 против 0.8738591856340527).   \n",
    "Мы проверили как поведут себя модели дерево решений и логистическая регрессия после дообучения на сболансированной выборке - результат по-прежнему не превзошёл показатели модели случайный лес.\n",
    "Мы сделали другую попытку в борьбе с дисбалансом - увеличили вес редкого класса, но эти действия не привели нас к улучшению модели, поэтому мы не стали это включать в наш проект.  "
   ]
  },
  {
   "cell_type": "markdown",
   "metadata": {},
   "source": [
    "## Тестирование модели"
   ]
  },
  {
   "cell_type": "markdown",
   "metadata": {},
   "source": [
    "Посмотрим как будет вести себя наша модель на тестовой выборке"
   ]
  },
  {
   "cell_type": "code",
   "execution_count": 47,
   "metadata": {},
   "outputs": [
    {
     "name": "stdout",
     "output_type": "stream",
     "text": [
      "Качество прогноза на тестовой выборке: 0.834\n",
      "F1-мера на тестовой выборке: 0.5911330049261083\n"
     ]
    }
   ],
   "source": [
    "predicted_test = model2.predict(features_test)\n",
    "result_test = model2.score(features_test, target_test)\n",
    "f1_test=f1_score(target_test, predicted_test)\n",
    "print (\"Качество прогноза на тестовой выборке:\", result_test)\n",
    "print (\"F1-мера на тестовой выборке:\", f1_test)"
   ]
  },
  {
   "cell_type": "markdown",
   "metadata": {},
   "source": [
    "Прекрасный результат! Точность модели на тестовой выборке 0.8285, а F1-мера 0.5931198102016607.  "
   ]
  },
  {
   "cell_type": "markdown",
   "metadata": {},
   "source": [
    "Посмотрим как будет выглядеть ROC-кривая для тестовой выборки"
   ]
  },
  {
   "cell_type": "code",
   "execution_count": 48,
   "metadata": {},
   "outputs": [
    {
     "data": {
      "image/png": "[encoded data removed]",
      "text/plain": [
       "<Figure size 432x288 with 1 Axes>"
      ]
     },
     "metadata": {
      "needs_background": "light"
     },
     "output_type": "display_data"
    }
   ],
   "source": [
    "probabilities = model2.predict_proba(features_test)\n",
    "probabilities_one = probabilities[:, 1]\n",
    "fpr, tpr, thresholds = roc_curve(target_test, probabilities_one)\n",
    "plt.figure()\n",
    "plt.plot(fpr, tpr)\n",
    "plt.plot([0, 1.0], [0, 1.0], linestyle='--')\n",
    "plt.title('ROC -  кривая')\n",
    "plt.xlabel('False Positive Rate')\n",
    "plt.ylabel('True Positive Rate');"
   ]
  },
  {
   "cell_type": "markdown",
   "metadata": {},
   "source": [
    "Практически идеально выглядит ROC-кривая: график высокий, что означает преобладание верных положительных ответов."
   ]
  },
  {
   "cell_type": "markdown",
   "metadata": {},
   "source": [
    "Проверим как сильно наша модель отличается от случайной, посчитаем площадь под ROC-кривой (AUC-ROC случайной модели равна 0.5)."
   ]
  },
  {
   "cell_type": "code",
   "execution_count": 49,
   "metadata": {},
   "outputs": [],
   "source": [
    "auc_roc = roc_auc_score(target_test, probabilities_one)"
   ]
  },
  {
   "cell_type": "code",
   "execution_count": 50,
   "metadata": {},
   "outputs": [
    {
     "name": "stdout",
     "output_type": "stream",
     "text": [
      "AUC-ROC для тестовой выборки: 0.8444129800062004\n"
     ]
    }
   ],
   "source": [
    "print(\"AUC-ROC для тестовой выборки:\", auc_roc)"
   ]
  },
  {
   "cell_type": "markdown",
   "metadata": {},
   "source": [
    "И опять замечательный результат: более чем на 65% AUC-ROC нашей модели превышает случайную."
   ]
  },
  {
   "cell_type": "markdown",
   "metadata": {},
   "source": [
    "Можно ещё сравнить качество нашей модели с наивным прогнозом."
   ]
  },
  {
   "cell_type": "code",
   "execution_count": 51,
   "metadata": {},
   "outputs": [
    {
     "name": "stdout",
     "output_type": "stream",
     "text": [
      "Качество наивного прогноза : 0.7965\n",
      "Качество нашего прогноза : 0.834\n"
     ]
    }
   ],
   "source": [
    "dmb = DummyClassifier(strategy='most_frequent', random_state=42)\n",
    "dmb.fit(features_train, target_train)\n",
    "acc = dmb.score(features_test, target_test)\n",
    "print(\"Качество наивного прогноза :\", acc)\n",
    "print(\"Качество нашего прогноза :\", result_test)"
   ]
  },
  {
   "cell_type": "markdown",
   "metadata": {},
   "source": [
    "Вывод: Мы получили задание спрогнозировать, уйдёт клиент из банка в ближайшее время или нет. Нам были переданы исторические данные о поведении клиентов и расторжении договоров с банком, эти данные содержат информацию о 10 000 клиентах. Мы проанализировали полученные данные и обнаружили пропуски у 9% клиентов в графе - сколько лет человек является клиентом банка, эти пропуски мы заменили на медианое значение - 5 лет. Мы провели исследование и выбрали наиболее точную модель машинного обучения- Случайный лес.  \n",
    "\n",
    "Дополнительно увеличив записи для наиболее редкого класс в обучающей выборке и мы смогли улучшить результат F1-меры (0.6346153846153846 против 0.5754276827371695), а значение AUC-ROC немного снизилось (0.8651421938121981 против 0.8738591856340527). \n",
    "Лучший результат на тестовой выборке в моделе Случайный лес с гиперпараметрами n_estimators=140, max_depth=9 и random_state=12345 составил F1=0.5911330049261083, AUC-ROC=0.8444129800062004.    \n",
    "\n",
    "Мы построили ROC кривую и убедились , что наша модель предсказывает верные положительные ответы чаще ложно положительных.   \n",
    "Мы уверены, что наша модель model2 будет очень эффективна в банке \"Бета-Банка\" и сможет с высокой долей вероятности предсказывать останется ли клиент в банке или уйдёт. И тем клиентам, которые могут покинуть банк, банковским сотрудникам нужно уделять большее внимание и стараться их удержать, предлагая те услуги и продукты, которые им требуются."
   ]
  },
  {
   "cell_type": "markdown",
   "metadata": {},
   "source": [
    "## Чек-лист готовности проекта"
   ]
  },
  {
   "cell_type": "markdown",
   "metadata": {},
   "source": [
    "Поставьте 'x' в выполненных пунктах. Далее нажмите Shift+Enter."
   ]
  },
  {
   "cell_type": "markdown",
   "metadata": {},
   "source": [
    "- [x]  Jupyter Notebook открыт\n",
    "- [x]  Весь код выполняется без ошибок\n",
    "- [x]  Ячейки с кодом расположены в порядке исполнения\n",
    "- [x]  Выполнен шаг 1: данные подготовлены\n",
    "- [x]  Выполнен шаг 2: задача исследована\n",
    "    - [x]  Исследован баланс классов\n",
    "    - [x]  Изучены модели без учёта дисбаланса\n",
    "    - [x]  Написаны выводы по результатам исследования\n",
    "- [x]  Выполнен шаг 3: учтён дисбаланс\n",
    "    - [x]  Применено несколько способов борьбы с дисбалансом\n",
    "    - [x]  Написаны выводы по результатам исследования\n",
    "- [x]  Выполнен шаг 4: проведено тестирование\n",
    "- [x]  Удалось достичь *F1*-меры не менее 0.59\n",
    "- [x]  Исследована метрика *AUC-ROC*"
   ]
  },
  {
   "cell_type": "code",
   "execution_count": null,
   "metadata": {},
   "outputs": [],
   "source": []
  }
 ],
 "metadata": {
  "ExecuteTimeLog": [
   {
    "duration": 1806,
    "start_time": "2022-06-01T13:05:21.258Z"
   },
   {
    "duration": 79,
    "start_time": "2022-06-01T13:05:23.066Z"
   },
   {
    "duration": 20,
    "start_time": "2022-06-01T13:05:23.282Z"
   },
   {
    "duration": 20,
    "start_time": "2022-06-01T13:05:28.962Z"
   },
   {
    "duration": 9,
    "start_time": "2022-06-01T13:05:30.378Z"
   },
   {
    "duration": 16,
    "start_time": "2022-06-01T13:08:25.488Z"
   },
   {
    "duration": 125,
    "start_time": "2022-06-01T13:13:15.167Z"
   },
   {
    "duration": 10,
    "start_time": "2022-06-01T13:13:21.582Z"
   },
   {
    "duration": 7,
    "start_time": "2022-06-01T13:14:05.134Z"
   },
   {
    "duration": 8,
    "start_time": "2022-06-01T13:14:41.375Z"
   },
   {
    "duration": 6,
    "start_time": "2022-06-01T13:15:12.741Z"
   },
   {
    "duration": 5,
    "start_time": "2022-06-01T13:15:23.028Z"
   },
   {
    "duration": 11,
    "start_time": "2022-06-01T13:15:47.222Z"
   },
   {
    "duration": 328,
    "start_time": "2022-06-01T13:23:38.229Z"
   },
   {
    "duration": 8,
    "start_time": "2022-06-01T13:32:28.390Z"
   },
   {
    "duration": 6,
    "start_time": "2022-06-01T13:45:46.598Z"
   },
   {
    "duration": 12,
    "start_time": "2022-06-01T13:46:06.064Z"
   },
   {
    "duration": 55,
    "start_time": "2022-06-01T13:47:56.248Z"
   },
   {
    "duration": 23,
    "start_time": "2022-06-01T13:48:03.419Z"
   },
   {
    "duration": 14,
    "start_time": "2022-06-01T13:48:18.175Z"
   },
   {
    "duration": 16,
    "start_time": "2022-06-01T13:48:53.127Z"
   },
   {
    "duration": 619,
    "start_time": "2022-06-01T13:49:23.427Z"
   },
   {
    "duration": 12,
    "start_time": "2022-06-01T13:49:36.036Z"
   },
   {
    "duration": 15,
    "start_time": "2022-06-01T13:49:43.368Z"
   },
   {
    "duration": 14,
    "start_time": "2022-06-01T13:50:31.282Z"
   },
   {
    "duration": 16,
    "start_time": "2022-06-01T13:50:54.992Z"
   },
   {
    "duration": 15,
    "start_time": "2022-06-01T13:51:45.136Z"
   },
   {
    "duration": 11,
    "start_time": "2022-06-01T13:51:45.656Z"
   },
   {
    "duration": 13,
    "start_time": "2022-06-01T13:51:46.200Z"
   },
   {
    "duration": 14,
    "start_time": "2022-06-01T13:51:58.730Z"
   },
   {
    "duration": 26,
    "start_time": "2022-06-01T13:52:03.321Z"
   },
   {
    "duration": 5,
    "start_time": "2022-06-01T13:54:28.330Z"
   },
   {
    "duration": 4,
    "start_time": "2022-06-01T13:54:37.304Z"
   },
   {
    "duration": 8,
    "start_time": "2022-06-01T13:54:44.360Z"
   },
   {
    "duration": 14,
    "start_time": "2022-06-01T13:56:24.741Z"
   },
   {
    "duration": 17,
    "start_time": "2022-06-01T13:56:27.935Z"
   },
   {
    "duration": 15,
    "start_time": "2022-06-01T13:57:53.834Z"
   },
   {
    "duration": 3,
    "start_time": "2022-06-01T13:57:54.505Z"
   },
   {
    "duration": 21,
    "start_time": "2022-06-01T13:57:55.568Z"
   },
   {
    "duration": 57,
    "start_time": "2022-06-03T08:35:44.163Z"
   },
   {
    "duration": 1538,
    "start_time": "2022-06-03T08:35:56.748Z"
   },
   {
    "duration": 83,
    "start_time": "2022-06-03T08:35:58.288Z"
   },
   {
    "duration": 15,
    "start_time": "2022-06-03T08:35:58.373Z"
   },
   {
    "duration": 19,
    "start_time": "2022-06-03T08:35:58.390Z"
   },
   {
    "duration": 7,
    "start_time": "2022-06-03T08:35:58.410Z"
   },
   {
    "duration": 20,
    "start_time": "2022-06-03T08:35:58.418Z"
   },
   {
    "duration": 4,
    "start_time": "2022-06-03T08:35:58.440Z"
   },
   {
    "duration": 8,
    "start_time": "2022-06-03T08:35:58.446Z"
   },
   {
    "duration": 5,
    "start_time": "2022-06-03T08:35:58.456Z"
   },
   {
    "duration": 5,
    "start_time": "2022-06-03T08:35:58.464Z"
   },
   {
    "duration": 11,
    "start_time": "2022-06-03T08:35:58.470Z"
   },
   {
    "duration": 8,
    "start_time": "2022-06-03T08:35:58.482Z"
   },
   {
    "duration": 35,
    "start_time": "2022-06-03T08:35:58.491Z"
   },
   {
    "duration": 6,
    "start_time": "2022-06-03T08:35:58.527Z"
   },
   {
    "duration": 18,
    "start_time": "2022-06-03T08:35:58.534Z"
   },
   {
    "duration": 10,
    "start_time": "2022-06-03T08:35:58.554Z"
   },
   {
    "duration": 18,
    "start_time": "2022-06-03T08:35:58.566Z"
   },
   {
    "duration": 13,
    "start_time": "2022-06-03T08:35:58.585Z"
   },
   {
    "duration": 16,
    "start_time": "2022-06-03T08:35:58.599Z"
   },
   {
    "duration": 14,
    "start_time": "2022-06-03T08:35:58.617Z"
   },
   {
    "duration": 8,
    "start_time": "2022-06-03T08:35:58.633Z"
   },
   {
    "duration": 6,
    "start_time": "2022-06-03T08:37:28.655Z"
   },
   {
    "duration": 5,
    "start_time": "2022-06-03T08:37:29.325Z"
   },
   {
    "duration": 3,
    "start_time": "2022-06-03T08:37:30.454Z"
   },
   {
    "duration": 4,
    "start_time": "2022-06-03T08:37:31.254Z"
   },
   {
    "duration": 4,
    "start_time": "2022-06-03T08:37:31.879Z"
   },
   {
    "duration": 4,
    "start_time": "2022-06-03T08:37:32.493Z"
   },
   {
    "duration": 4,
    "start_time": "2022-06-03T08:37:33.188Z"
   },
   {
    "duration": 5,
    "start_time": "2022-06-03T08:41:42.867Z"
   },
   {
    "duration": 134,
    "start_time": "2022-06-03T08:41:43.517Z"
   },
   {
    "duration": 1334,
    "start_time": "2022-06-03T08:42:10.241Z"
   },
   {
    "duration": 42,
    "start_time": "2022-06-03T08:42:11.578Z"
   },
   {
    "duration": 15,
    "start_time": "2022-06-03T08:42:11.621Z"
   },
   {
    "duration": 19,
    "start_time": "2022-06-03T08:42:11.638Z"
   },
   {
    "duration": 25,
    "start_time": "2022-06-03T08:42:11.658Z"
   },
   {
    "duration": 45,
    "start_time": "2022-06-03T08:42:11.685Z"
   },
   {
    "duration": 20,
    "start_time": "2022-06-03T08:42:11.732Z"
   },
   {
    "duration": 14,
    "start_time": "2022-06-03T08:42:11.754Z"
   },
   {
    "duration": 16,
    "start_time": "2022-06-03T08:42:11.769Z"
   },
   {
    "duration": 17,
    "start_time": "2022-06-03T08:42:11.788Z"
   },
   {
    "duration": 15,
    "start_time": "2022-06-03T08:42:11.806Z"
   },
   {
    "duration": 25,
    "start_time": "2022-06-03T08:42:11.823Z"
   },
   {
    "duration": 14,
    "start_time": "2022-06-03T08:42:11.850Z"
   },
   {
    "duration": 5,
    "start_time": "2022-06-03T08:42:11.866Z"
   },
   {
    "duration": 14,
    "start_time": "2022-06-03T08:42:11.872Z"
   },
   {
    "duration": 12,
    "start_time": "2022-06-03T08:42:11.887Z"
   },
   {
    "duration": 27,
    "start_time": "2022-06-03T08:42:11.901Z"
   },
   {
    "duration": 7,
    "start_time": "2022-06-03T08:42:11.930Z"
   },
   {
    "duration": 13,
    "start_time": "2022-06-03T08:42:11.939Z"
   },
   {
    "duration": 24,
    "start_time": "2022-06-03T08:42:11.953Z"
   },
   {
    "duration": 20,
    "start_time": "2022-06-03T08:42:11.979Z"
   },
   {
    "duration": 18,
    "start_time": "2022-06-03T08:42:12.000Z"
   },
   {
    "duration": 9,
    "start_time": "2022-06-03T08:42:12.020Z"
   },
   {
    "duration": 16,
    "start_time": "2022-06-03T08:42:12.030Z"
   },
   {
    "duration": 11,
    "start_time": "2022-06-03T08:42:12.048Z"
   },
   {
    "duration": 18,
    "start_time": "2022-06-03T08:42:12.061Z"
   },
   {
    "duration": 14,
    "start_time": "2022-06-03T08:42:12.081Z"
   },
   {
    "duration": 163,
    "start_time": "2022-06-03T08:42:12.098Z"
   },
   {
    "duration": 0,
    "start_time": "2022-06-03T08:42:12.262Z"
   },
   {
    "duration": 1344,
    "start_time": "2022-06-03T08:43:03.094Z"
   },
   {
    "duration": 45,
    "start_time": "2022-06-03T08:43:04.441Z"
   },
   {
    "duration": 16,
    "start_time": "2022-06-03T08:43:04.488Z"
   },
   {
    "duration": 26,
    "start_time": "2022-06-03T08:43:04.506Z"
   },
   {
    "duration": 17,
    "start_time": "2022-06-03T08:43:04.535Z"
   },
   {
    "duration": 25,
    "start_time": "2022-06-03T08:43:04.554Z"
   },
   {
    "duration": 8,
    "start_time": "2022-06-03T08:43:04.581Z"
   },
   {
    "duration": 14,
    "start_time": "2022-06-03T08:43:04.591Z"
   },
   {
    "duration": 19,
    "start_time": "2022-06-03T08:43:04.607Z"
   },
   {
    "duration": 7,
    "start_time": "2022-06-03T08:43:04.629Z"
   },
   {
    "duration": 16,
    "start_time": "2022-06-03T08:43:04.638Z"
   },
   {
    "duration": 8,
    "start_time": "2022-06-03T08:43:04.657Z"
   },
   {
    "duration": 16,
    "start_time": "2022-06-03T08:43:04.667Z"
   },
   {
    "duration": 5,
    "start_time": "2022-06-03T08:43:04.685Z"
   },
   {
    "duration": 37,
    "start_time": "2022-06-03T08:43:04.692Z"
   },
   {
    "duration": 12,
    "start_time": "2022-06-03T08:43:04.731Z"
   },
   {
    "duration": 17,
    "start_time": "2022-06-03T08:43:04.745Z"
   },
   {
    "duration": 12,
    "start_time": "2022-06-03T08:43:04.763Z"
   },
   {
    "duration": 5,
    "start_time": "2022-06-03T08:43:04.777Z"
   },
   {
    "duration": 24,
    "start_time": "2022-06-03T08:43:04.784Z"
   },
   {
    "duration": 16,
    "start_time": "2022-06-03T08:43:04.810Z"
   },
   {
    "duration": 3,
    "start_time": "2022-06-03T08:43:04.828Z"
   },
   {
    "duration": 8,
    "start_time": "2022-06-03T08:43:04.834Z"
   },
   {
    "duration": 11,
    "start_time": "2022-06-03T08:43:04.844Z"
   },
   {
    "duration": 6,
    "start_time": "2022-06-03T08:43:04.856Z"
   },
   {
    "duration": 9,
    "start_time": "2022-06-03T08:43:04.863Z"
   },
   {
    "duration": 9,
    "start_time": "2022-06-03T08:43:04.874Z"
   },
   {
    "duration": 64,
    "start_time": "2022-06-03T08:43:04.886Z"
   },
   {
    "duration": 5,
    "start_time": "2022-06-03T08:43:04.951Z"
   },
   {
    "duration": 3,
    "start_time": "2022-06-03T08:43:15.691Z"
   },
   {
    "duration": 50,
    "start_time": "2022-06-03T08:44:03.369Z"
   },
   {
    "duration": 54,
    "start_time": "2022-06-03T08:44:24.426Z"
   },
   {
    "duration": 432,
    "start_time": "2022-06-03T09:42:39.881Z"
   },
   {
    "duration": 49,
    "start_time": "2022-06-03T09:43:59.144Z"
   },
   {
    "duration": 43,
    "start_time": "2022-06-03T09:45:25.736Z"
   },
   {
    "duration": 241,
    "start_time": "2022-06-03T09:46:21.295Z"
   },
   {
    "duration": 109,
    "start_time": "2022-06-03T09:46:49.975Z"
   },
   {
    "duration": 9,
    "start_time": "2022-06-03T09:49:39.544Z"
   },
   {
    "duration": 11,
    "start_time": "2022-06-03T09:58:40.662Z"
   },
   {
    "duration": 1413,
    "start_time": "2022-06-03T09:59:13.162Z"
   },
   {
    "duration": 48,
    "start_time": "2022-06-03T09:59:14.579Z"
   },
   {
    "duration": 19,
    "start_time": "2022-06-03T09:59:14.629Z"
   },
   {
    "duration": 34,
    "start_time": "2022-06-03T09:59:14.650Z"
   },
   {
    "duration": 9,
    "start_time": "2022-06-03T09:59:14.687Z"
   },
   {
    "duration": 31,
    "start_time": "2022-06-03T09:59:14.697Z"
   },
   {
    "duration": 5,
    "start_time": "2022-06-03T09:59:14.730Z"
   },
   {
    "duration": 20,
    "start_time": "2022-06-03T09:59:14.736Z"
   },
   {
    "duration": 15,
    "start_time": "2022-06-03T09:59:14.757Z"
   },
   {
    "duration": 7,
    "start_time": "2022-06-03T09:59:14.774Z"
   },
   {
    "duration": 14,
    "start_time": "2022-06-03T09:59:14.782Z"
   },
   {
    "duration": 14,
    "start_time": "2022-06-03T09:59:14.798Z"
   },
   {
    "duration": 23,
    "start_time": "2022-06-03T09:59:14.814Z"
   },
   {
    "duration": 9,
    "start_time": "2022-06-03T09:59:14.841Z"
   },
   {
    "duration": 21,
    "start_time": "2022-06-03T09:59:14.852Z"
   },
   {
    "duration": 15,
    "start_time": "2022-06-03T09:59:14.875Z"
   },
   {
    "duration": 18,
    "start_time": "2022-06-03T09:59:14.891Z"
   },
   {
    "duration": 20,
    "start_time": "2022-06-03T09:59:14.910Z"
   },
   {
    "duration": 3,
    "start_time": "2022-06-03T09:59:14.932Z"
   },
   {
    "duration": 20,
    "start_time": "2022-06-03T09:59:14.937Z"
   },
   {
    "duration": 9,
    "start_time": "2022-06-03T09:59:14.959Z"
   },
   {
    "duration": 10,
    "start_time": "2022-06-03T09:59:14.970Z"
   },
   {
    "duration": 8,
    "start_time": "2022-06-03T09:59:14.981Z"
   },
   {
    "duration": 32,
    "start_time": "2022-06-03T09:59:14.990Z"
   },
   {
    "duration": 15,
    "start_time": "2022-06-03T09:59:15.024Z"
   },
   {
    "duration": 19,
    "start_time": "2022-06-03T09:59:15.040Z"
   },
   {
    "duration": 14,
    "start_time": "2022-06-03T09:59:15.061Z"
   },
   {
    "duration": 410,
    "start_time": "2022-06-03T09:59:15.077Z"
   },
   {
    "duration": 56,
    "start_time": "2022-06-03T09:59:15.489Z"
   },
   {
    "duration": 1398,
    "start_time": "2022-06-03T10:04:35.618Z"
   },
   {
    "duration": 44,
    "start_time": "2022-06-03T10:04:37.018Z"
   },
   {
    "duration": 13,
    "start_time": "2022-06-03T10:04:37.064Z"
   },
   {
    "duration": 34,
    "start_time": "2022-06-03T10:04:37.079Z"
   },
   {
    "duration": 8,
    "start_time": "2022-06-03T10:04:37.115Z"
   },
   {
    "duration": 27,
    "start_time": "2022-06-03T10:04:37.124Z"
   },
   {
    "duration": 5,
    "start_time": "2022-06-03T10:04:37.153Z"
   },
   {
    "duration": 10,
    "start_time": "2022-06-03T10:04:37.159Z"
   },
   {
    "duration": 10,
    "start_time": "2022-06-03T10:04:37.170Z"
   },
   {
    "duration": 12,
    "start_time": "2022-06-03T10:04:37.181Z"
   },
   {
    "duration": 18,
    "start_time": "2022-06-03T10:04:37.194Z"
   },
   {
    "duration": 8,
    "start_time": "2022-06-03T10:04:37.213Z"
   },
   {
    "duration": 16,
    "start_time": "2022-06-03T10:04:37.226Z"
   },
   {
    "duration": 4,
    "start_time": "2022-06-03T10:04:37.245Z"
   },
   {
    "duration": 21,
    "start_time": "2022-06-03T10:04:37.251Z"
   },
   {
    "duration": 14,
    "start_time": "2022-06-03T10:04:37.274Z"
   },
   {
    "duration": 19,
    "start_time": "2022-06-03T10:04:37.290Z"
   },
   {
    "duration": 16,
    "start_time": "2022-06-03T10:04:37.310Z"
   },
   {
    "duration": 8,
    "start_time": "2022-06-03T10:04:37.328Z"
   },
   {
    "duration": 13,
    "start_time": "2022-06-03T10:04:37.337Z"
   },
   {
    "duration": 6,
    "start_time": "2022-06-03T10:04:37.352Z"
   },
   {
    "duration": 5,
    "start_time": "2022-06-03T10:04:37.359Z"
   },
   {
    "duration": 7,
    "start_time": "2022-06-03T10:04:37.366Z"
   },
   {
    "duration": 22,
    "start_time": "2022-06-03T10:04:37.375Z"
   },
   {
    "duration": 22,
    "start_time": "2022-06-03T10:04:37.399Z"
   },
   {
    "duration": 10,
    "start_time": "2022-06-03T10:04:37.423Z"
   },
   {
    "duration": 6,
    "start_time": "2022-06-03T10:04:37.435Z"
   },
   {
    "duration": 406,
    "start_time": "2022-06-03T10:04:37.442Z"
   },
   {
    "duration": 43,
    "start_time": "2022-06-03T10:04:37.850Z"
   },
   {
    "duration": 139,
    "start_time": "2022-06-03T10:04:37.895Z"
   },
   {
    "duration": 8942,
    "start_time": "2022-06-03T10:07:45.984Z"
   },
   {
    "duration": 1391,
    "start_time": "2022-06-03T10:08:09.322Z"
   },
   {
    "duration": 42,
    "start_time": "2022-06-03T10:08:10.715Z"
   },
   {
    "duration": 15,
    "start_time": "2022-06-03T10:08:10.759Z"
   },
   {
    "duration": 49,
    "start_time": "2022-06-03T10:08:10.777Z"
   },
   {
    "duration": 33,
    "start_time": "2022-06-03T10:08:10.828Z"
   },
   {
    "duration": 93,
    "start_time": "2022-06-03T10:08:10.863Z"
   },
   {
    "duration": 68,
    "start_time": "2022-06-03T10:08:10.957Z"
   },
   {
    "duration": 72,
    "start_time": "2022-06-03T10:08:11.027Z"
   },
   {
    "duration": 61,
    "start_time": "2022-06-03T10:08:11.101Z"
   },
   {
    "duration": 37,
    "start_time": "2022-06-03T10:08:11.165Z"
   },
   {
    "duration": 23,
    "start_time": "2022-06-03T10:08:11.204Z"
   },
   {
    "duration": 46,
    "start_time": "2022-06-03T10:08:11.229Z"
   },
   {
    "duration": 34,
    "start_time": "2022-06-03T10:08:11.277Z"
   },
   {
    "duration": 23,
    "start_time": "2022-06-03T10:08:11.313Z"
   },
   {
    "duration": 28,
    "start_time": "2022-06-03T10:08:11.338Z"
   },
   {
    "duration": 28,
    "start_time": "2022-06-03T10:08:11.368Z"
   },
   {
    "duration": 45,
    "start_time": "2022-06-03T10:08:11.398Z"
   },
   {
    "duration": 28,
    "start_time": "2022-06-03T10:08:11.444Z"
   },
   {
    "duration": 22,
    "start_time": "2022-06-03T10:08:11.474Z"
   },
   {
    "duration": 18,
    "start_time": "2022-06-03T10:08:11.497Z"
   },
   {
    "duration": 15,
    "start_time": "2022-06-03T10:08:11.517Z"
   },
   {
    "duration": 21,
    "start_time": "2022-06-03T10:08:11.534Z"
   },
   {
    "duration": 13,
    "start_time": "2022-06-03T10:08:11.557Z"
   },
   {
    "duration": 11,
    "start_time": "2022-06-03T10:08:11.572Z"
   },
   {
    "duration": 16,
    "start_time": "2022-06-03T10:08:11.585Z"
   },
   {
    "duration": 37,
    "start_time": "2022-06-03T10:08:11.603Z"
   },
   {
    "duration": 42,
    "start_time": "2022-06-03T10:08:11.642Z"
   },
   {
    "duration": 421,
    "start_time": "2022-06-03T10:08:11.688Z"
   },
   {
    "duration": 52,
    "start_time": "2022-06-03T10:08:12.112Z"
   },
   {
    "duration": 9108,
    "start_time": "2022-06-03T10:08:12.165Z"
   },
   {
    "duration": 1441,
    "start_time": "2022-06-03T10:33:21.031Z"
   },
   {
    "duration": 43,
    "start_time": "2022-06-03T10:33:22.474Z"
   },
   {
    "duration": 15,
    "start_time": "2022-06-03T10:33:22.519Z"
   },
   {
    "duration": 29,
    "start_time": "2022-06-03T10:33:22.537Z"
   },
   {
    "duration": 8,
    "start_time": "2022-06-03T10:33:22.568Z"
   },
   {
    "duration": 18,
    "start_time": "2022-06-03T10:33:22.578Z"
   },
   {
    "duration": 5,
    "start_time": "2022-06-03T10:33:22.598Z"
   },
   {
    "duration": 22,
    "start_time": "2022-06-03T10:33:22.605Z"
   },
   {
    "duration": 5,
    "start_time": "2022-06-03T10:33:22.629Z"
   },
   {
    "duration": 11,
    "start_time": "2022-06-03T10:33:22.636Z"
   },
   {
    "duration": 18,
    "start_time": "2022-06-03T10:33:22.649Z"
   },
   {
    "duration": 12,
    "start_time": "2022-06-03T10:33:22.669Z"
   },
   {
    "duration": 29,
    "start_time": "2022-06-03T10:33:22.683Z"
   },
   {
    "duration": 6,
    "start_time": "2022-06-03T10:33:22.714Z"
   },
   {
    "duration": 20,
    "start_time": "2022-06-03T10:33:22.721Z"
   },
   {
    "duration": 19,
    "start_time": "2022-06-03T10:33:22.742Z"
   },
   {
    "duration": 27,
    "start_time": "2022-06-03T10:33:22.763Z"
   },
   {
    "duration": 30,
    "start_time": "2022-06-03T10:33:22.792Z"
   },
   {
    "duration": 24,
    "start_time": "2022-06-03T10:33:22.824Z"
   },
   {
    "duration": 28,
    "start_time": "2022-06-03T10:33:22.853Z"
   },
   {
    "duration": 15,
    "start_time": "2022-06-03T10:33:22.883Z"
   },
   {
    "duration": 6,
    "start_time": "2022-06-03T10:33:22.899Z"
   },
   {
    "duration": 18,
    "start_time": "2022-06-03T10:33:22.907Z"
   },
   {
    "duration": 6,
    "start_time": "2022-06-03T10:33:22.927Z"
   },
   {
    "duration": 14,
    "start_time": "2022-06-03T10:33:22.935Z"
   },
   {
    "duration": 16,
    "start_time": "2022-06-03T10:33:22.951Z"
   },
   {
    "duration": 20,
    "start_time": "2022-06-03T10:33:22.968Z"
   },
   {
    "duration": 402,
    "start_time": "2022-06-03T10:33:22.992Z"
   },
   {
    "duration": 57,
    "start_time": "2022-06-03T10:33:23.396Z"
   },
   {
    "duration": 1504,
    "start_time": "2022-06-03T10:33:23.454Z"
   },
   {
    "duration": 8725,
    "start_time": "2022-06-03T10:33:24.960Z"
   },
   {
    "duration": 46,
    "start_time": "2022-06-03T10:35:30.487Z"
   },
   {
    "duration": 1622,
    "start_time": "2022-06-03T10:36:23.137Z"
   },
   {
    "duration": 269,
    "start_time": "2022-06-03T10:38:15.945Z"
   },
   {
    "duration": 875,
    "start_time": "2022-06-03T10:50:28.054Z"
   },
   {
    "duration": 42,
    "start_time": "2022-06-03T11:11:29.665Z"
   },
   {
    "duration": 147,
    "start_time": "2022-06-03T11:15:17.086Z"
   },
   {
    "duration": 4,
    "start_time": "2022-06-03T11:15:40.916Z"
   },
   {
    "duration": 14,
    "start_time": "2022-06-03T11:15:47.198Z"
   },
   {
    "duration": 5,
    "start_time": "2022-06-03T11:16:01.893Z"
   },
   {
    "duration": 5,
    "start_time": "2022-06-03T11:17:45.526Z"
   },
   {
    "duration": 1396,
    "start_time": "2022-06-03T11:18:54.353Z"
   },
   {
    "duration": 45,
    "start_time": "2022-06-03T11:18:55.751Z"
   },
   {
    "duration": 15,
    "start_time": "2022-06-03T11:18:55.798Z"
   },
   {
    "duration": 39,
    "start_time": "2022-06-03T11:18:55.815Z"
   },
   {
    "duration": 7,
    "start_time": "2022-06-03T11:18:55.857Z"
   },
   {
    "duration": 17,
    "start_time": "2022-06-03T11:18:55.865Z"
   },
   {
    "duration": 5,
    "start_time": "2022-06-03T11:18:55.883Z"
   },
   {
    "duration": 7,
    "start_time": "2022-06-03T11:18:55.890Z"
   },
   {
    "duration": 11,
    "start_time": "2022-06-03T11:18:55.899Z"
   },
   {
    "duration": 16,
    "start_time": "2022-06-03T11:18:55.911Z"
   },
   {
    "duration": 9,
    "start_time": "2022-06-03T11:18:55.929Z"
   },
   {
    "duration": 10,
    "start_time": "2022-06-03T11:18:55.940Z"
   },
   {
    "duration": 13,
    "start_time": "2022-06-03T11:18:55.952Z"
   },
   {
    "duration": 4,
    "start_time": "2022-06-03T11:18:55.969Z"
   },
   {
    "duration": 22,
    "start_time": "2022-06-03T11:18:55.975Z"
   },
   {
    "duration": 32,
    "start_time": "2022-06-03T11:18:55.999Z"
   },
   {
    "duration": 13,
    "start_time": "2022-06-03T11:18:56.033Z"
   },
   {
    "duration": 13,
    "start_time": "2022-06-03T11:18:56.048Z"
   },
   {
    "duration": 9,
    "start_time": "2022-06-03T11:18:56.063Z"
   },
   {
    "duration": 13,
    "start_time": "2022-06-03T11:18:56.074Z"
   },
   {
    "duration": 19,
    "start_time": "2022-06-03T11:18:56.089Z"
   },
   {
    "duration": 8,
    "start_time": "2022-06-03T11:18:56.110Z"
   },
   {
    "duration": 5,
    "start_time": "2022-06-03T11:18:56.125Z"
   },
   {
    "duration": 8,
    "start_time": "2022-06-03T11:18:56.132Z"
   },
   {
    "duration": 10,
    "start_time": "2022-06-03T11:18:56.142Z"
   },
   {
    "duration": 9,
    "start_time": "2022-06-03T11:18:56.154Z"
   },
   {
    "duration": 18,
    "start_time": "2022-06-03T11:18:56.165Z"
   },
   {
    "duration": 7,
    "start_time": "2022-06-03T11:18:56.185Z"
   },
   {
    "duration": 432,
    "start_time": "2022-06-03T11:18:56.194Z"
   },
   {
    "duration": 47,
    "start_time": "2022-06-03T11:18:56.627Z"
   },
   {
    "duration": 1649,
    "start_time": "2022-06-03T11:18:56.676Z"
   },
   {
    "duration": 8882,
    "start_time": "2022-06-03T11:18:58.326Z"
   },
   {
    "duration": 259,
    "start_time": "2022-06-03T11:19:07.210Z"
   },
   {
    "duration": 1158,
    "start_time": "2022-06-03T11:19:07.471Z"
   },
   {
    "duration": 129,
    "start_time": "2022-06-03T11:19:08.632Z"
   },
   {
    "duration": 13,
    "start_time": "2022-06-03T11:19:08.763Z"
   },
   {
    "duration": 4,
    "start_time": "2022-06-03T11:19:08.778Z"
   },
   {
    "duration": 18,
    "start_time": "2022-06-03T11:19:20.961Z"
   },
   {
    "duration": 4,
    "start_time": "2022-06-03T11:19:22.433Z"
   },
   {
    "duration": 17,
    "start_time": "2022-06-03T11:23:15.660Z"
   },
   {
    "duration": 5,
    "start_time": "2022-06-03T11:23:18.049Z"
   },
   {
    "duration": 1358,
    "start_time": "2022-06-03T11:46:51.140Z"
   },
   {
    "duration": 42,
    "start_time": "2022-06-03T11:46:52.499Z"
   },
   {
    "duration": 14,
    "start_time": "2022-06-03T11:46:52.543Z"
   },
   {
    "duration": 19,
    "start_time": "2022-06-03T11:46:52.560Z"
   },
   {
    "duration": 11,
    "start_time": "2022-06-03T11:46:52.580Z"
   },
   {
    "duration": 35,
    "start_time": "2022-06-03T11:46:52.592Z"
   },
   {
    "duration": 5,
    "start_time": "2022-06-03T11:46:52.629Z"
   },
   {
    "duration": 5,
    "start_time": "2022-06-03T11:46:52.636Z"
   },
   {
    "duration": 14,
    "start_time": "2022-06-03T11:46:52.642Z"
   },
   {
    "duration": 16,
    "start_time": "2022-06-03T11:46:52.659Z"
   },
   {
    "duration": 15,
    "start_time": "2022-06-03T11:46:52.677Z"
   },
   {
    "duration": 7,
    "start_time": "2022-06-03T11:46:52.693Z"
   },
   {
    "duration": 13,
    "start_time": "2022-06-03T11:46:52.702Z"
   },
   {
    "duration": 5,
    "start_time": "2022-06-03T11:46:52.725Z"
   },
   {
    "duration": 16,
    "start_time": "2022-06-03T11:46:52.732Z"
   },
   {
    "duration": 15,
    "start_time": "2022-06-03T11:46:52.749Z"
   },
   {
    "duration": 26,
    "start_time": "2022-06-03T11:46:52.766Z"
   },
   {
    "duration": 11,
    "start_time": "2022-06-03T11:46:52.795Z"
   },
   {
    "duration": 5,
    "start_time": "2022-06-03T11:46:52.826Z"
   },
   {
    "duration": 25,
    "start_time": "2022-06-03T11:46:52.835Z"
   },
   {
    "duration": 23,
    "start_time": "2022-06-03T11:46:52.862Z"
   },
   {
    "duration": 9,
    "start_time": "2022-06-03T11:46:52.887Z"
   },
   {
    "duration": 6,
    "start_time": "2022-06-03T11:46:52.898Z"
   },
   {
    "duration": 13,
    "start_time": "2022-06-03T11:46:52.905Z"
   },
   {
    "duration": 7,
    "start_time": "2022-06-03T11:46:52.920Z"
   },
   {
    "duration": 7,
    "start_time": "2022-06-03T11:46:52.928Z"
   },
   {
    "duration": 13,
    "start_time": "2022-06-03T11:46:52.937Z"
   },
   {
    "duration": 7,
    "start_time": "2022-06-03T11:46:52.954Z"
   },
   {
    "duration": 415,
    "start_time": "2022-06-03T11:46:52.963Z"
   },
   {
    "duration": 53,
    "start_time": "2022-06-03T11:46:53.380Z"
   },
   {
    "duration": 1626,
    "start_time": "2022-06-03T11:46:53.436Z"
   },
   {
    "duration": 9099,
    "start_time": "2022-06-03T11:46:55.064Z"
   },
   {
    "duration": 254,
    "start_time": "2022-06-03T11:47:04.165Z"
   },
   {
    "duration": 508,
    "start_time": "2022-06-03T11:47:04.421Z"
   },
   {
    "duration": 128,
    "start_time": "2022-06-03T11:47:04.931Z"
   },
   {
    "duration": 15,
    "start_time": "2022-06-03T11:47:05.061Z"
   },
   {
    "duration": 8,
    "start_time": "2022-06-03T11:47:05.078Z"
   },
   {
    "duration": 130,
    "start_time": "2022-06-03T11:48:14.926Z"
   },
   {
    "duration": 5,
    "start_time": "2022-06-03T11:48:48.376Z"
   },
   {
    "duration": 7,
    "start_time": "2022-06-03T11:49:15.273Z"
   },
   {
    "duration": 11,
    "start_time": "2022-06-03T11:50:02.997Z"
   },
   {
    "duration": 4,
    "start_time": "2022-06-03T11:50:05.853Z"
   },
   {
    "duration": 183,
    "start_time": "2022-06-03T11:54:14.393Z"
   },
   {
    "duration": 36,
    "start_time": "2022-06-03T11:55:50.493Z"
   },
   {
    "duration": 461,
    "start_time": "2022-06-03T11:59:08.169Z"
   },
   {
    "duration": 148,
    "start_time": "2022-06-03T11:59:47.382Z"
   },
   {
    "duration": 54,
    "start_time": "2022-06-03T12:00:01.341Z"
   },
   {
    "duration": 102,
    "start_time": "2022-06-03T12:02:55.829Z"
   },
   {
    "duration": 4,
    "start_time": "2022-06-03T12:04:45.405Z"
   },
   {
    "duration": 15,
    "start_time": "2022-06-03T12:08:40.413Z"
   },
   {
    "duration": 14,
    "start_time": "2022-06-03T12:08:51.673Z"
   },
   {
    "duration": 4,
    "start_time": "2022-06-03T12:09:13.581Z"
   },
   {
    "duration": 171,
    "start_time": "2022-06-03T12:09:18.525Z"
   },
   {
    "duration": 120,
    "start_time": "2022-06-03T12:09:36.496Z"
   },
   {
    "duration": 190,
    "start_time": "2022-06-03T12:12:54.478Z"
   },
   {
    "duration": 133,
    "start_time": "2022-06-03T12:13:39.517Z"
   },
   {
    "duration": 5,
    "start_time": "2022-06-03T14:35:32.144Z"
   },
   {
    "duration": 6,
    "start_time": "2022-06-03T14:36:12.423Z"
   },
   {
    "duration": 44,
    "start_time": "2022-06-03T14:38:14.957Z"
   },
   {
    "duration": 39,
    "start_time": "2022-06-03T14:40:42.599Z"
   },
   {
    "duration": 6,
    "start_time": "2022-06-03T14:42:52.911Z"
   },
   {
    "duration": 7,
    "start_time": "2022-06-03T14:43:25.408Z"
   },
   {
    "duration": 71,
    "start_time": "2022-06-06T11:49:09.067Z"
   },
   {
    "duration": 1604,
    "start_time": "2022-06-06T11:49:23.301Z"
   },
   {
    "duration": 160,
    "start_time": "2022-06-06T11:49:24.907Z"
   },
   {
    "duration": 14,
    "start_time": "2022-06-06T11:49:25.069Z"
   },
   {
    "duration": 21,
    "start_time": "2022-06-06T11:49:25.085Z"
   },
   {
    "duration": 9,
    "start_time": "2022-06-06T11:49:25.108Z"
   },
   {
    "duration": 33,
    "start_time": "2022-06-06T11:49:25.118Z"
   },
   {
    "duration": 8,
    "start_time": "2022-06-06T11:49:25.153Z"
   },
   {
    "duration": 10,
    "start_time": "2022-06-06T11:49:25.163Z"
   },
   {
    "duration": 7,
    "start_time": "2022-06-06T11:49:25.175Z"
   },
   {
    "duration": 4,
    "start_time": "2022-06-06T11:49:25.185Z"
   },
   {
    "duration": 9,
    "start_time": "2022-06-06T11:49:25.191Z"
   },
   {
    "duration": 43,
    "start_time": "2022-06-06T11:49:25.201Z"
   },
   {
    "duration": 8,
    "start_time": "2022-06-06T11:49:25.246Z"
   },
   {
    "duration": 26,
    "start_time": "2022-06-06T11:49:25.256Z"
   },
   {
    "duration": 5,
    "start_time": "2022-06-06T11:49:25.284Z"
   },
   {
    "duration": 19,
    "start_time": "2022-06-06T11:49:25.291Z"
   },
   {
    "duration": 32,
    "start_time": "2022-06-06T11:49:25.311Z"
   },
   {
    "duration": 20,
    "start_time": "2022-06-06T11:49:25.345Z"
   },
   {
    "duration": 6,
    "start_time": "2022-06-06T11:49:25.367Z"
   },
   {
    "duration": 5,
    "start_time": "2022-06-06T11:49:25.375Z"
   },
   {
    "duration": 7,
    "start_time": "2022-06-06T11:49:25.381Z"
   },
   {
    "duration": 19,
    "start_time": "2022-06-06T11:49:25.390Z"
   },
   {
    "duration": 30,
    "start_time": "2022-06-06T11:49:25.411Z"
   },
   {
    "duration": 4,
    "start_time": "2022-06-06T11:49:25.443Z"
   },
   {
    "duration": 7,
    "start_time": "2022-06-06T11:49:25.449Z"
   },
   {
    "duration": 9,
    "start_time": "2022-06-06T11:49:25.458Z"
   },
   {
    "duration": 7,
    "start_time": "2022-06-06T11:49:25.469Z"
   },
   {
    "duration": 6,
    "start_time": "2022-06-06T11:49:25.480Z"
   },
   {
    "duration": 6,
    "start_time": "2022-06-06T11:49:25.488Z"
   },
   {
    "duration": 445,
    "start_time": "2022-06-06T11:49:25.496Z"
   },
   {
    "duration": 47,
    "start_time": "2022-06-06T11:49:25.943Z"
   },
   {
    "duration": 9625,
    "start_time": "2022-06-06T11:49:25.992Z"
   },
   {
    "duration": 268,
    "start_time": "2022-06-06T11:49:35.618Z"
   },
   {
    "duration": 1064,
    "start_time": "2022-06-06T11:49:35.888Z"
   },
   {
    "duration": 196,
    "start_time": "2022-06-06T11:49:36.957Z"
   },
   {
    "duration": 6,
    "start_time": "2022-06-06T11:49:37.154Z"
   },
   {
    "duration": 11,
    "start_time": "2022-06-06T11:49:37.162Z"
   },
   {
    "duration": 4,
    "start_time": "2022-06-06T11:49:37.175Z"
   },
   {
    "duration": 178,
    "start_time": "2022-06-06T11:49:37.180Z"
   },
   {
    "duration": 42,
    "start_time": "2022-06-06T11:49:37.361Z"
   },
   {
    "duration": 123,
    "start_time": "2022-06-06T11:49:37.404Z"
   },
   {
    "duration": 167,
    "start_time": "2022-06-06T11:49:37.528Z"
   },
   {
    "duration": 7,
    "start_time": "2022-06-06T11:49:37.697Z"
   },
   {
    "duration": 144,
    "start_time": "2022-06-06T11:52:37.799Z"
   },
   {
    "duration": 152,
    "start_time": "2022-06-06T11:53:21.278Z"
   },
   {
    "duration": 122,
    "start_time": "2022-06-06T13:46:14.820Z"
   },
   {
    "duration": 56,
    "start_time": "2022-06-06T14:11:11.057Z"
   },
   {
    "duration": 47,
    "start_time": "2022-06-06T14:11:59.057Z"
   },
   {
    "duration": 52,
    "start_time": "2022-06-06T14:13:35.149Z"
   },
   {
    "duration": 256,
    "start_time": "2022-06-06T14:18:50.546Z"
   },
   {
    "duration": 375,
    "start_time": "2022-06-06T14:19:20.353Z"
   },
   {
    "duration": 232,
    "start_time": "2022-06-06T14:19:40.929Z"
   },
   {
    "duration": 81,
    "start_time": "2022-06-06T14:19:42.016Z"
   },
   {
    "duration": 99,
    "start_time": "2022-06-06T14:23:06.954Z"
   },
   {
    "duration": 64,
    "start_time": "2022-06-06T14:23:10.425Z"
   },
   {
    "duration": 59,
    "start_time": "2022-06-06T14:23:59.298Z"
   },
   {
    "duration": 1553,
    "start_time": "2022-06-06T14:24:15.373Z"
   },
   {
    "duration": 119,
    "start_time": "2022-06-06T14:24:16.928Z"
   },
   {
    "duration": 16,
    "start_time": "2022-06-06T14:24:17.048Z"
   },
   {
    "duration": 25,
    "start_time": "2022-06-06T14:24:17.067Z"
   },
   {
    "duration": 10,
    "start_time": "2022-06-06T14:24:17.094Z"
   },
   {
    "duration": 44,
    "start_time": "2022-06-06T14:24:17.105Z"
   },
   {
    "duration": 9,
    "start_time": "2022-06-06T14:24:17.150Z"
   },
   {
    "duration": 5,
    "start_time": "2022-06-06T14:24:17.160Z"
   },
   {
    "duration": 177,
    "start_time": "2022-06-06T14:24:17.166Z"
   },
   {
    "duration": 5,
    "start_time": "2022-06-06T14:24:17.345Z"
   },
   {
    "duration": 8,
    "start_time": "2022-06-06T14:24:17.352Z"
   },
   {
    "duration": 9,
    "start_time": "2022-06-06T14:24:17.361Z"
   },
   {
    "duration": 7,
    "start_time": "2022-06-06T14:24:17.372Z"
   },
   {
    "duration": 16,
    "start_time": "2022-06-06T14:24:17.381Z"
   },
   {
    "duration": 6,
    "start_time": "2022-06-06T14:24:17.399Z"
   },
   {
    "duration": 16,
    "start_time": "2022-06-06T14:24:17.442Z"
   },
   {
    "duration": 12,
    "start_time": "2022-06-06T14:24:17.460Z"
   },
   {
    "duration": 20,
    "start_time": "2022-06-06T14:24:17.476Z"
   },
   {
    "duration": 9,
    "start_time": "2022-06-06T14:24:17.498Z"
   },
   {
    "duration": 9,
    "start_time": "2022-06-06T14:24:17.509Z"
   },
   {
    "duration": 9,
    "start_time": "2022-06-06T14:24:17.542Z"
   },
   {
    "duration": 7,
    "start_time": "2022-06-06T14:24:17.552Z"
   },
   {
    "duration": 5,
    "start_time": "2022-06-06T14:24:17.560Z"
   },
   {
    "duration": 6,
    "start_time": "2022-06-06T14:24:17.567Z"
   },
   {
    "duration": 7,
    "start_time": "2022-06-06T14:24:17.574Z"
   },
   {
    "duration": 5,
    "start_time": "2022-06-06T14:24:17.583Z"
   },
   {
    "duration": 7,
    "start_time": "2022-06-06T14:24:17.589Z"
   },
   {
    "duration": 4,
    "start_time": "2022-06-06T14:24:17.599Z"
   },
   {
    "duration": 518,
    "start_time": "2022-06-06T14:24:17.604Z"
   },
   {
    "duration": 57,
    "start_time": "2022-06-06T14:24:18.124Z"
   },
   {
    "duration": 9295,
    "start_time": "2022-06-06T14:24:18.183Z"
   },
   {
    "duration": 435,
    "start_time": "2022-06-06T14:24:27.481Z"
   },
   {
    "duration": 225,
    "start_time": "2022-06-06T14:24:27.918Z"
   },
   {
    "duration": 150,
    "start_time": "2022-06-06T14:24:28.145Z"
   },
   {
    "duration": 7,
    "start_time": "2022-06-06T14:24:28.297Z"
   },
   {
    "duration": 15,
    "start_time": "2022-06-06T14:24:28.306Z"
   },
   {
    "duration": 5,
    "start_time": "2022-06-06T14:24:28.342Z"
   },
   {
    "duration": 226,
    "start_time": "2022-06-06T14:24:28.349Z"
   },
   {
    "duration": 69,
    "start_time": "2022-06-06T14:24:28.578Z"
   },
   {
    "duration": 173,
    "start_time": "2022-06-06T14:24:28.649Z"
   },
   {
    "duration": 147,
    "start_time": "2022-06-06T14:24:28.824Z"
   },
   {
    "duration": 6,
    "start_time": "2022-06-06T14:24:28.973Z"
   },
   {
    "duration": 6,
    "start_time": "2022-06-06T14:28:43.454Z"
   },
   {
    "duration": 13,
    "start_time": "2022-06-06T14:29:49.214Z"
   },
   {
    "duration": 5,
    "start_time": "2022-06-06T14:29:50.765Z"
   },
   {
    "duration": 1314,
    "start_time": "2022-06-06T14:30:02.890Z"
   },
   {
    "duration": 39,
    "start_time": "2022-06-06T14:30:04.206Z"
   },
   {
    "duration": 13,
    "start_time": "2022-06-06T14:30:04.247Z"
   },
   {
    "duration": 25,
    "start_time": "2022-06-06T14:30:04.262Z"
   },
   {
    "duration": 12,
    "start_time": "2022-06-06T14:30:04.288Z"
   },
   {
    "duration": 19,
    "start_time": "2022-06-06T14:30:04.301Z"
   },
   {
    "duration": 21,
    "start_time": "2022-06-06T14:30:04.321Z"
   },
   {
    "duration": 5,
    "start_time": "2022-06-06T14:30:04.344Z"
   },
   {
    "duration": 157,
    "start_time": "2022-06-06T14:30:04.350Z"
   },
   {
    "duration": 4,
    "start_time": "2022-06-06T14:30:04.510Z"
   },
   {
    "duration": 37,
    "start_time": "2022-06-06T14:30:04.515Z"
   },
   {
    "duration": 27,
    "start_time": "2022-06-06T14:30:04.554Z"
   },
   {
    "duration": 28,
    "start_time": "2022-06-06T14:30:04.583Z"
   },
   {
    "duration": 29,
    "start_time": "2022-06-06T14:30:04.613Z"
   },
   {
    "duration": 11,
    "start_time": "2022-06-06T14:30:04.644Z"
   },
   {
    "duration": 24,
    "start_time": "2022-06-06T14:30:04.657Z"
   },
   {
    "duration": 22,
    "start_time": "2022-06-06T14:30:04.683Z"
   },
   {
    "duration": 24,
    "start_time": "2022-06-06T14:30:04.707Z"
   },
   {
    "duration": 31,
    "start_time": "2022-06-06T14:30:04.733Z"
   },
   {
    "duration": 12,
    "start_time": "2022-06-06T14:30:04.766Z"
   },
   {
    "duration": 30,
    "start_time": "2022-06-06T14:30:04.780Z"
   },
   {
    "duration": 24,
    "start_time": "2022-06-06T14:30:04.812Z"
   },
   {
    "duration": 29,
    "start_time": "2022-06-06T14:30:04.837Z"
   },
   {
    "duration": 17,
    "start_time": "2022-06-06T14:30:04.868Z"
   },
   {
    "duration": 22,
    "start_time": "2022-06-06T14:30:04.887Z"
   },
   {
    "duration": 24,
    "start_time": "2022-06-06T14:30:04.911Z"
   },
   {
    "duration": 33,
    "start_time": "2022-06-06T14:30:04.936Z"
   },
   {
    "duration": 24,
    "start_time": "2022-06-06T14:30:04.973Z"
   },
   {
    "duration": 421,
    "start_time": "2022-06-06T14:30:04.999Z"
   },
   {
    "duration": 56,
    "start_time": "2022-06-06T14:30:05.422Z"
   },
   {
    "duration": 9084,
    "start_time": "2022-06-06T14:30:05.480Z"
   },
   {
    "duration": 390,
    "start_time": "2022-06-06T14:30:14.566Z"
   },
   {
    "duration": 184,
    "start_time": "2022-06-06T14:30:14.958Z"
   },
   {
    "duration": 100,
    "start_time": "2022-06-06T14:30:15.144Z"
   },
   {
    "duration": 24,
    "start_time": "2022-06-06T14:30:15.246Z"
   },
   {
    "duration": 40,
    "start_time": "2022-06-06T14:30:15.272Z"
   },
   {
    "duration": 541,
    "start_time": "2022-06-06T14:30:15.313Z"
   },
   {
    "duration": 65,
    "start_time": "2022-06-06T14:30:15.856Z"
   },
   {
    "duration": 208,
    "start_time": "2022-06-06T14:30:15.923Z"
   },
   {
    "duration": 159,
    "start_time": "2022-06-06T14:30:16.133Z"
   },
   {
    "duration": 8,
    "start_time": "2022-06-06T14:30:16.294Z"
   },
   {
    "duration": 262,
    "start_time": "2022-06-06T14:32:59.875Z"
   },
   {
    "duration": 1374,
    "start_time": "2022-06-06T14:33:06.436Z"
   },
   {
    "duration": 49,
    "start_time": "2022-06-06T14:33:07.813Z"
   },
   {
    "duration": 19,
    "start_time": "2022-06-06T14:33:07.864Z"
   },
   {
    "duration": 29,
    "start_time": "2022-06-06T14:33:07.886Z"
   },
   {
    "duration": 28,
    "start_time": "2022-06-06T14:33:07.917Z"
   },
   {
    "duration": 27,
    "start_time": "2022-06-06T14:33:07.948Z"
   },
   {
    "duration": 11,
    "start_time": "2022-06-06T14:33:07.977Z"
   },
   {
    "duration": 9,
    "start_time": "2022-06-06T14:33:07.990Z"
   },
   {
    "duration": 201,
    "start_time": "2022-06-06T14:33:08.001Z"
   },
   {
    "duration": 5,
    "start_time": "2022-06-06T14:33:08.206Z"
   },
   {
    "duration": 10,
    "start_time": "2022-06-06T14:33:08.213Z"
   },
   {
    "duration": 20,
    "start_time": "2022-06-06T14:33:08.225Z"
   },
   {
    "duration": 14,
    "start_time": "2022-06-06T14:33:08.247Z"
   },
   {
    "duration": 32,
    "start_time": "2022-06-06T14:33:08.262Z"
   },
   {
    "duration": 12,
    "start_time": "2022-06-06T14:33:08.296Z"
   },
   {
    "duration": 15,
    "start_time": "2022-06-06T14:33:08.310Z"
   },
   {
    "duration": 25,
    "start_time": "2022-06-06T14:33:08.326Z"
   },
   {
    "duration": 19,
    "start_time": "2022-06-06T14:33:08.353Z"
   },
   {
    "duration": 7,
    "start_time": "2022-06-06T14:33:08.376Z"
   },
   {
    "duration": 14,
    "start_time": "2022-06-06T14:33:08.385Z"
   },
   {
    "duration": 22,
    "start_time": "2022-06-06T14:33:08.401Z"
   },
   {
    "duration": 7,
    "start_time": "2022-06-06T14:33:08.425Z"
   },
   {
    "duration": 8,
    "start_time": "2022-06-06T14:33:08.434Z"
   },
   {
    "duration": 8,
    "start_time": "2022-06-06T14:33:08.444Z"
   },
   {
    "duration": 7,
    "start_time": "2022-06-06T14:33:08.454Z"
   },
   {
    "duration": 8,
    "start_time": "2022-06-06T14:33:08.462Z"
   },
   {
    "duration": 10,
    "start_time": "2022-06-06T14:33:08.472Z"
   },
   {
    "duration": 10,
    "start_time": "2022-06-06T14:33:08.485Z"
   },
   {
    "duration": 433,
    "start_time": "2022-06-06T14:33:08.496Z"
   },
   {
    "duration": 50,
    "start_time": "2022-06-06T14:33:08.931Z"
   },
   {
    "duration": 9358,
    "start_time": "2022-06-06T14:33:08.983Z"
   },
   {
    "duration": 260,
    "start_time": "2022-06-06T14:33:18.342Z"
   },
   {
    "duration": 237,
    "start_time": "2022-06-06T14:33:18.604Z"
   },
   {
    "duration": 9,
    "start_time": "2022-06-06T14:33:18.844Z"
   },
   {
    "duration": 88,
    "start_time": "2022-06-06T14:33:18.856Z"
   },
   {
    "duration": 5,
    "start_time": "2022-06-06T14:33:18.945Z"
   },
   {
    "duration": 353,
    "start_time": "2022-06-06T14:33:18.952Z"
   },
   {
    "duration": 56,
    "start_time": "2022-06-06T14:33:19.306Z"
   },
   {
    "duration": 131,
    "start_time": "2022-06-06T14:33:19.364Z"
   },
   {
    "duration": 170,
    "start_time": "2022-06-06T14:33:19.497Z"
   },
   {
    "duration": 6,
    "start_time": "2022-06-06T14:33:19.669Z"
   },
   {
    "duration": 341,
    "start_time": "2022-06-06T14:36:33.648Z"
   },
   {
    "duration": 49,
    "start_time": "2022-06-06T14:37:00.709Z"
   },
   {
    "duration": 383,
    "start_time": "2022-06-06T14:37:53.248Z"
   },
   {
    "duration": 48,
    "start_time": "2022-06-06T14:38:30.895Z"
   },
   {
    "duration": 11,
    "start_time": "2022-06-06T14:39:59.007Z"
   },
   {
    "duration": 17,
    "start_time": "2022-06-06T14:40:31.125Z"
   },
   {
    "duration": 8,
    "start_time": "2022-06-06T14:44:06.173Z"
   },
   {
    "duration": 1421,
    "start_time": "2022-06-06T14:44:16.855Z"
   },
   {
    "duration": 54,
    "start_time": "2022-06-06T14:44:18.279Z"
   },
   {
    "duration": 21,
    "start_time": "2022-06-06T14:44:18.336Z"
   },
   {
    "duration": 36,
    "start_time": "2022-06-06T14:44:18.360Z"
   },
   {
    "duration": 11,
    "start_time": "2022-06-06T14:44:18.399Z"
   },
   {
    "duration": 45,
    "start_time": "2022-06-06T14:44:18.413Z"
   },
   {
    "duration": 12,
    "start_time": "2022-06-06T14:44:18.461Z"
   },
   {
    "duration": 7,
    "start_time": "2022-06-06T14:44:18.475Z"
   },
   {
    "duration": 217,
    "start_time": "2022-06-06T14:44:18.484Z"
   },
   {
    "duration": 8,
    "start_time": "2022-06-06T14:44:18.705Z"
   },
   {
    "duration": 30,
    "start_time": "2022-06-06T14:44:18.715Z"
   },
   {
    "duration": 12,
    "start_time": "2022-06-06T14:44:18.747Z"
   },
   {
    "duration": 13,
    "start_time": "2022-06-06T14:44:18.760Z"
   },
   {
    "duration": 25,
    "start_time": "2022-06-06T14:44:18.776Z"
   },
   {
    "duration": 5,
    "start_time": "2022-06-06T14:44:18.803Z"
   },
   {
    "duration": 33,
    "start_time": "2022-06-06T14:44:18.810Z"
   },
   {
    "duration": 17,
    "start_time": "2022-06-06T14:44:18.845Z"
   },
   {
    "duration": 33,
    "start_time": "2022-06-06T14:44:18.864Z"
   },
   {
    "duration": 10,
    "start_time": "2022-06-06T14:44:18.899Z"
   },
   {
    "duration": 18,
    "start_time": "2022-06-06T14:44:18.911Z"
   },
   {
    "duration": 13,
    "start_time": "2022-06-06T14:44:18.931Z"
   },
   {
    "duration": 8,
    "start_time": "2022-06-06T14:44:18.946Z"
   },
   {
    "duration": 22,
    "start_time": "2022-06-06T14:44:18.956Z"
   },
   {
    "duration": 14,
    "start_time": "2022-06-06T14:44:18.980Z"
   },
   {
    "duration": 12,
    "start_time": "2022-06-06T14:44:18.996Z"
   },
   {
    "duration": 31,
    "start_time": "2022-06-06T14:44:19.010Z"
   },
   {
    "duration": 17,
    "start_time": "2022-06-06T14:44:19.043Z"
   },
   {
    "duration": 28,
    "start_time": "2022-06-06T14:44:19.065Z"
   },
   {
    "duration": 428,
    "start_time": "2022-06-06T14:44:19.095Z"
   },
   {
    "duration": 53,
    "start_time": "2022-06-06T14:44:19.526Z"
   },
   {
    "duration": 9473,
    "start_time": "2022-06-06T14:44:19.581Z"
   },
   {
    "duration": 288,
    "start_time": "2022-06-06T14:44:29.057Z"
   },
   {
    "duration": 98,
    "start_time": "2022-06-06T14:44:29.347Z"
   },
   {
    "duration": 98,
    "start_time": "2022-06-06T14:44:29.447Z"
   },
   {
    "duration": 15,
    "start_time": "2022-06-06T14:44:29.547Z"
   },
   {
    "duration": 5,
    "start_time": "2022-06-06T14:44:29.564Z"
   },
   {
    "duration": 16,
    "start_time": "2022-06-06T14:44:29.571Z"
   },
   {
    "duration": 377,
    "start_time": "2022-06-06T14:44:29.589Z"
   },
   {
    "duration": 49,
    "start_time": "2022-06-06T14:44:29.968Z"
   },
   {
    "duration": 184,
    "start_time": "2022-06-06T14:44:30.020Z"
   },
   {
    "duration": 162,
    "start_time": "2022-06-06T14:44:30.206Z"
   },
   {
    "duration": 8,
    "start_time": "2022-06-06T14:44:30.370Z"
   },
   {
    "duration": 6,
    "start_time": "2022-06-06T14:45:20.703Z"
   },
   {
    "duration": 4,
    "start_time": "2022-06-06T14:45:35.630Z"
   },
   {
    "duration": 181,
    "start_time": "2022-06-06T14:52:21.270Z"
   },
   {
    "duration": 91,
    "start_time": "2022-06-06T14:54:02.134Z"
   },
   {
    "duration": 70,
    "start_time": "2022-06-06T14:54:40.286Z"
   },
   {
    "duration": 146,
    "start_time": "2022-06-06T14:55:52.284Z"
   },
   {
    "duration": 134,
    "start_time": "2022-06-06T14:55:58.627Z"
   },
   {
    "duration": 148,
    "start_time": "2022-06-06T14:55:59.508Z"
   },
   {
    "duration": 58,
    "start_time": "2022-06-06T15:04:33.250Z"
   },
   {
    "duration": 68,
    "start_time": "2022-06-06T15:04:43.011Z"
   },
   {
    "duration": 5,
    "start_time": "2022-06-06T15:09:16.661Z"
   },
   {
    "duration": 11,
    "start_time": "2022-06-06T15:11:54.017Z"
   },
   {
    "duration": 12,
    "start_time": "2022-06-06T15:13:20.203Z"
   },
   {
    "duration": 1464,
    "start_time": "2022-06-06T15:13:27.516Z"
   },
   {
    "duration": 45,
    "start_time": "2022-06-06T15:13:28.982Z"
   },
   {
    "duration": 20,
    "start_time": "2022-06-06T15:13:29.029Z"
   },
   {
    "duration": 33,
    "start_time": "2022-06-06T15:13:29.051Z"
   },
   {
    "duration": 9,
    "start_time": "2022-06-06T15:13:29.086Z"
   },
   {
    "duration": 22,
    "start_time": "2022-06-06T15:13:29.097Z"
   },
   {
    "duration": 27,
    "start_time": "2022-06-06T15:13:29.121Z"
   },
   {
    "duration": 13,
    "start_time": "2022-06-06T15:13:29.150Z"
   },
   {
    "duration": 194,
    "start_time": "2022-06-06T15:13:29.167Z"
   },
   {
    "duration": 6,
    "start_time": "2022-06-06T15:13:29.367Z"
   },
   {
    "duration": 9,
    "start_time": "2022-06-06T15:13:29.375Z"
   },
   {
    "duration": 9,
    "start_time": "2022-06-06T15:13:29.388Z"
   },
   {
    "duration": 8,
    "start_time": "2022-06-06T15:13:29.399Z"
   },
   {
    "duration": 14,
    "start_time": "2022-06-06T15:13:29.408Z"
   },
   {
    "duration": 24,
    "start_time": "2022-06-06T15:13:29.423Z"
   },
   {
    "duration": 35,
    "start_time": "2022-06-06T15:13:29.449Z"
   },
   {
    "duration": 11,
    "start_time": "2022-06-06T15:13:29.485Z"
   },
   {
    "duration": 18,
    "start_time": "2022-06-06T15:13:29.498Z"
   },
   {
    "duration": 9,
    "start_time": "2022-06-06T15:13:29.517Z"
   },
   {
    "duration": 3,
    "start_time": "2022-06-06T15:13:29.528Z"
   },
   {
    "duration": 26,
    "start_time": "2022-06-06T15:13:29.533Z"
   },
   {
    "duration": 12,
    "start_time": "2022-06-06T15:13:29.561Z"
   },
   {
    "duration": 9,
    "start_time": "2022-06-06T15:13:29.575Z"
   },
   {
    "duration": 6,
    "start_time": "2022-06-06T15:13:29.585Z"
   },
   {
    "duration": 9,
    "start_time": "2022-06-06T15:13:29.593Z"
   },
   {
    "duration": 6,
    "start_time": "2022-06-06T15:13:29.604Z"
   },
   {
    "duration": 9,
    "start_time": "2022-06-06T15:13:29.611Z"
   },
   {
    "duration": 29,
    "start_time": "2022-06-06T15:13:29.622Z"
   },
   {
    "duration": 15,
    "start_time": "2022-06-06T15:13:29.657Z"
   },
   {
    "duration": 362,
    "start_time": "2022-06-06T15:13:29.673Z"
   },
   {
    "duration": 51,
    "start_time": "2022-06-06T15:13:30.036Z"
   },
   {
    "duration": 9122,
    "start_time": "2022-06-06T15:13:30.089Z"
   },
   {
    "duration": 259,
    "start_time": "2022-06-06T15:13:39.212Z"
   },
   {
    "duration": 82,
    "start_time": "2022-06-06T15:13:39.474Z"
   },
   {
    "duration": 90,
    "start_time": "2022-06-06T15:13:39.558Z"
   },
   {
    "duration": 139,
    "start_time": "2022-06-06T15:13:39.650Z"
   },
   {
    "duration": 0,
    "start_time": "2022-06-06T15:13:39.790Z"
   },
   {
    "duration": 0,
    "start_time": "2022-06-06T15:13:39.791Z"
   },
   {
    "duration": 0,
    "start_time": "2022-06-06T15:13:39.792Z"
   },
   {
    "duration": 0,
    "start_time": "2022-06-06T15:13:39.793Z"
   },
   {
    "duration": 0,
    "start_time": "2022-06-06T15:13:39.794Z"
   },
   {
    "duration": 0,
    "start_time": "2022-06-06T15:13:39.795Z"
   },
   {
    "duration": 0,
    "start_time": "2022-06-06T15:13:39.796Z"
   },
   {
    "duration": 0,
    "start_time": "2022-06-06T15:13:39.797Z"
   },
   {
    "duration": 63,
    "start_time": "2022-06-06T20:17:26.472Z"
   },
   {
    "duration": 1472,
    "start_time": "2022-06-06T20:17:49.221Z"
   },
   {
    "duration": 77,
    "start_time": "2022-06-06T20:17:50.695Z"
   },
   {
    "duration": 15,
    "start_time": "2022-06-06T20:17:50.774Z"
   },
   {
    "duration": 17,
    "start_time": "2022-06-06T20:17:50.791Z"
   },
   {
    "duration": 6,
    "start_time": "2022-06-06T20:17:50.809Z"
   },
   {
    "duration": 17,
    "start_time": "2022-06-06T20:17:50.817Z"
   },
   {
    "duration": 12,
    "start_time": "2022-06-06T20:17:50.836Z"
   },
   {
    "duration": 5,
    "start_time": "2022-06-06T20:17:50.849Z"
   },
   {
    "duration": 155,
    "start_time": "2022-06-06T20:17:50.855Z"
   },
   {
    "duration": 5,
    "start_time": "2022-06-06T20:17:51.013Z"
   },
   {
    "duration": 9,
    "start_time": "2022-06-06T20:17:51.019Z"
   },
   {
    "duration": 11,
    "start_time": "2022-06-06T20:17:51.030Z"
   },
   {
    "duration": 16,
    "start_time": "2022-06-06T20:17:51.043Z"
   },
   {
    "duration": 19,
    "start_time": "2022-06-06T20:17:51.061Z"
   },
   {
    "duration": 6,
    "start_time": "2022-06-06T20:17:51.094Z"
   },
   {
    "duration": 18,
    "start_time": "2022-06-06T20:17:51.102Z"
   },
   {
    "duration": 12,
    "start_time": "2022-06-06T20:17:51.123Z"
   },
   {
    "duration": 14,
    "start_time": "2022-06-06T20:17:51.137Z"
   },
   {
    "duration": 9,
    "start_time": "2022-06-06T20:17:51.152Z"
   },
   {
    "duration": 3,
    "start_time": "2022-06-06T20:17:51.163Z"
   },
   {
    "duration": 10,
    "start_time": "2022-06-06T20:17:51.193Z"
   },
   {
    "duration": 8,
    "start_time": "2022-06-06T20:17:51.205Z"
   },
   {
    "duration": 9,
    "start_time": "2022-06-06T20:17:51.214Z"
   },
   {
    "duration": 7,
    "start_time": "2022-06-06T20:17:51.224Z"
   },
   {
    "duration": 6,
    "start_time": "2022-06-06T20:17:51.232Z"
   },
   {
    "duration": 6,
    "start_time": "2022-06-06T20:17:51.240Z"
   },
   {
    "duration": 6,
    "start_time": "2022-06-06T20:17:51.247Z"
   },
   {
    "duration": 8,
    "start_time": "2022-06-06T20:17:51.256Z"
   },
   {
    "duration": 50,
    "start_time": "2022-06-06T20:17:51.266Z"
   },
   {
    "duration": 401,
    "start_time": "2022-06-06T20:17:51.318Z"
   },
   {
    "duration": 40,
    "start_time": "2022-06-06T20:17:51.721Z"
   },
   {
    "duration": 8176,
    "start_time": "2022-06-06T20:17:51.763Z"
   },
   {
    "duration": 355,
    "start_time": "2022-06-06T20:17:59.942Z"
   },
   {
    "duration": 97,
    "start_time": "2022-06-06T20:18:00.299Z"
   },
   {
    "duration": 114,
    "start_time": "2022-06-06T20:18:00.398Z"
   },
   {
    "duration": 39,
    "start_time": "2022-06-06T20:18:00.514Z"
   },
   {
    "duration": 26,
    "start_time": "2022-06-06T20:18:00.554Z"
   },
   {
    "duration": 473,
    "start_time": "2022-06-06T20:18:00.581Z"
   },
   {
    "duration": 61,
    "start_time": "2022-06-06T20:18:01.055Z"
   },
   {
    "duration": 112,
    "start_time": "2022-06-06T20:18:01.118Z"
   },
   {
    "duration": 136,
    "start_time": "2022-06-06T20:18:01.232Z"
   },
   {
    "duration": 6,
    "start_time": "2022-06-06T20:18:01.370Z"
   },
   {
    "duration": 1289,
    "start_time": "2022-06-06T20:19:50.858Z"
   },
   {
    "duration": 39,
    "start_time": "2022-06-06T20:19:52.150Z"
   },
   {
    "duration": 14,
    "start_time": "2022-06-06T20:19:52.190Z"
   },
   {
    "duration": 18,
    "start_time": "2022-06-06T20:19:52.206Z"
   },
   {
    "duration": 8,
    "start_time": "2022-06-06T20:19:52.226Z"
   },
   {
    "duration": 18,
    "start_time": "2022-06-06T20:19:52.235Z"
   },
   {
    "duration": 12,
    "start_time": "2022-06-06T20:19:52.254Z"
   },
   {
    "duration": 5,
    "start_time": "2022-06-06T20:19:52.295Z"
   },
   {
    "duration": 157,
    "start_time": "2022-06-06T20:19:52.302Z"
   },
   {
    "duration": 5,
    "start_time": "2022-06-06T20:19:52.461Z"
   },
   {
    "duration": 13,
    "start_time": "2022-06-06T20:19:52.467Z"
   },
   {
    "duration": 22,
    "start_time": "2022-06-06T20:19:52.482Z"
   },
   {
    "duration": 10,
    "start_time": "2022-06-06T20:19:52.506Z"
   },
   {
    "duration": 19,
    "start_time": "2022-06-06T20:19:52.520Z"
   },
   {
    "duration": 4,
    "start_time": "2022-06-06T20:19:52.541Z"
   },
   {
    "duration": 15,
    "start_time": "2022-06-06T20:19:52.547Z"
   },
   {
    "duration": 34,
    "start_time": "2022-06-06T20:19:52.563Z"
   },
   {
    "duration": 18,
    "start_time": "2022-06-06T20:19:52.599Z"
   },
   {
    "duration": 9,
    "start_time": "2022-06-06T20:19:52.619Z"
   },
   {
    "duration": 6,
    "start_time": "2022-06-06T20:19:52.629Z"
   },
   {
    "duration": 17,
    "start_time": "2022-06-06T20:19:52.636Z"
   },
   {
    "duration": 7,
    "start_time": "2022-06-06T20:19:52.654Z"
   },
   {
    "duration": 4,
    "start_time": "2022-06-06T20:19:52.662Z"
   },
   {
    "duration": 5,
    "start_time": "2022-06-06T20:19:52.667Z"
   },
   {
    "duration": 4,
    "start_time": "2022-06-06T20:19:52.694Z"
   },
   {
    "duration": 15,
    "start_time": "2022-06-06T20:19:52.699Z"
   },
   {
    "duration": 14,
    "start_time": "2022-06-06T20:19:52.715Z"
   },
   {
    "duration": 6,
    "start_time": "2022-06-06T20:19:52.731Z"
   },
   {
    "duration": 32,
    "start_time": "2022-06-06T20:19:52.739Z"
   },
   {
    "duration": 367,
    "start_time": "2022-06-06T20:19:52.773Z"
   },
   {
    "duration": 40,
    "start_time": "2022-06-06T20:19:53.142Z"
   },
   {
    "duration": 8103,
    "start_time": "2022-06-06T20:19:53.195Z"
   },
   {
    "duration": 124,
    "start_time": "2022-06-06T20:20:01.299Z"
   },
   {
    "duration": 76,
    "start_time": "2022-06-06T20:20:01.424Z"
   },
   {
    "duration": 94,
    "start_time": "2022-06-06T20:20:01.502Z"
   },
   {
    "duration": 27,
    "start_time": "2022-06-06T20:20:01.598Z"
   },
   {
    "duration": 4,
    "start_time": "2022-06-06T20:20:01.627Z"
   },
   {
    "duration": 164,
    "start_time": "2022-06-06T20:20:01.633Z"
   },
   {
    "duration": 25,
    "start_time": "2022-06-06T20:20:01.798Z"
   },
   {
    "duration": 45,
    "start_time": "2022-06-06T20:20:01.824Z"
   },
   {
    "duration": 136,
    "start_time": "2022-06-06T20:20:01.894Z"
   },
   {
    "duration": 7,
    "start_time": "2022-06-06T20:20:02.031Z"
   },
   {
    "duration": 1341,
    "start_time": "2022-06-06T20:21:25.958Z"
   },
   {
    "duration": 40,
    "start_time": "2022-06-06T20:21:27.301Z"
   },
   {
    "duration": 14,
    "start_time": "2022-06-06T20:21:27.342Z"
   },
   {
    "duration": 21,
    "start_time": "2022-06-06T20:21:27.358Z"
   },
   {
    "duration": 8,
    "start_time": "2022-06-06T20:21:27.381Z"
   },
   {
    "duration": 19,
    "start_time": "2022-06-06T20:21:27.390Z"
   },
   {
    "duration": 9,
    "start_time": "2022-06-06T20:21:27.411Z"
   },
   {
    "duration": 5,
    "start_time": "2022-06-06T20:21:27.422Z"
   },
   {
    "duration": 186,
    "start_time": "2022-06-06T20:21:27.429Z"
   },
   {
    "duration": 5,
    "start_time": "2022-06-06T20:21:27.617Z"
   },
   {
    "duration": 8,
    "start_time": "2022-06-06T20:21:27.624Z"
   },
   {
    "duration": 7,
    "start_time": "2022-06-06T20:21:27.633Z"
   },
   {
    "duration": 6,
    "start_time": "2022-06-06T20:21:27.642Z"
   },
   {
    "duration": 11,
    "start_time": "2022-06-06T20:21:27.651Z"
   },
   {
    "duration": 32,
    "start_time": "2022-06-06T20:21:27.664Z"
   },
   {
    "duration": 31,
    "start_time": "2022-06-06T20:21:27.698Z"
   },
   {
    "duration": 13,
    "start_time": "2022-06-06T20:21:27.731Z"
   },
   {
    "duration": 25,
    "start_time": "2022-06-06T20:21:27.745Z"
   },
   {
    "duration": 8,
    "start_time": "2022-06-06T20:21:27.772Z"
   },
   {
    "duration": 5,
    "start_time": "2022-06-06T20:21:27.781Z"
   },
   {
    "duration": 10,
    "start_time": "2022-06-06T20:21:27.788Z"
   },
   {
    "duration": 6,
    "start_time": "2022-06-06T20:21:27.800Z"
   },
   {
    "duration": 5,
    "start_time": "2022-06-06T20:21:27.807Z"
   },
   {
    "duration": 5,
    "start_time": "2022-06-06T20:21:27.813Z"
   },
   {
    "duration": 5,
    "start_time": "2022-06-06T20:21:27.820Z"
   },
   {
    "duration": 11,
    "start_time": "2022-06-06T20:21:27.826Z"
   },
   {
    "duration": 6,
    "start_time": "2022-06-06T20:21:27.838Z"
   },
   {
    "duration": 5,
    "start_time": "2022-06-06T20:21:27.845Z"
   },
   {
    "duration": 63,
    "start_time": "2022-06-06T20:21:27.851Z"
   },
   {
    "duration": 413,
    "start_time": "2022-06-06T20:21:27.916Z"
   },
   {
    "duration": 47,
    "start_time": "2022-06-06T20:21:28.330Z"
   },
   {
    "duration": 8548,
    "start_time": "2022-06-06T20:21:28.379Z"
   },
   {
    "duration": 336,
    "start_time": "2022-06-06T20:21:36.929Z"
   },
   {
    "duration": 38,
    "start_time": "2022-06-06T20:21:37.267Z"
   },
   {
    "duration": 94,
    "start_time": "2022-06-06T20:21:37.307Z"
   },
   {
    "duration": 118,
    "start_time": "2022-06-06T20:21:37.403Z"
   },
   {
    "duration": 15,
    "start_time": "2022-06-06T20:21:37.523Z"
   },
   {
    "duration": 435,
    "start_time": "2022-06-06T20:21:37.540Z"
   },
   {
    "duration": 65,
    "start_time": "2022-06-06T20:21:37.977Z"
   },
   {
    "duration": 105,
    "start_time": "2022-06-06T20:21:38.044Z"
   },
   {
    "duration": 130,
    "start_time": "2022-06-06T20:21:38.153Z"
   },
   {
    "duration": 14,
    "start_time": "2022-06-06T20:21:38.284Z"
   },
   {
    "duration": 148,
    "start_time": "2022-06-06T20:23:42.283Z"
   },
   {
    "duration": 6,
    "start_time": "2022-06-06T20:23:47.885Z"
   },
   {
    "duration": 6,
    "start_time": "2022-06-06T20:24:51.255Z"
   },
   {
    "duration": 172,
    "start_time": "2022-06-06T20:29:19.926Z"
   },
   {
    "duration": 1301,
    "start_time": "2022-06-06T20:29:27.461Z"
   },
   {
    "duration": 37,
    "start_time": "2022-06-06T20:29:28.764Z"
   },
   {
    "duration": 13,
    "start_time": "2022-06-06T20:29:28.806Z"
   },
   {
    "duration": 23,
    "start_time": "2022-06-06T20:29:28.821Z"
   },
   {
    "duration": 9,
    "start_time": "2022-06-06T20:29:28.847Z"
   },
   {
    "duration": 50,
    "start_time": "2022-06-06T20:29:28.858Z"
   },
   {
    "duration": 11,
    "start_time": "2022-06-06T20:29:28.911Z"
   },
   {
    "duration": 14,
    "start_time": "2022-06-06T20:29:28.925Z"
   },
   {
    "duration": 189,
    "start_time": "2022-06-06T20:29:28.941Z"
   },
   {
    "duration": 4,
    "start_time": "2022-06-06T20:29:29.132Z"
   },
   {
    "duration": 8,
    "start_time": "2022-06-06T20:29:29.138Z"
   },
   {
    "duration": 11,
    "start_time": "2022-06-06T20:29:29.148Z"
   },
   {
    "duration": 6,
    "start_time": "2022-06-06T20:29:29.162Z"
   },
   {
    "duration": 34,
    "start_time": "2022-06-06T20:29:29.170Z"
   },
   {
    "duration": 4,
    "start_time": "2022-06-06T20:29:29.206Z"
   },
   {
    "duration": 14,
    "start_time": "2022-06-06T20:29:29.211Z"
   },
   {
    "duration": 10,
    "start_time": "2022-06-06T20:29:29.227Z"
   },
   {
    "duration": 14,
    "start_time": "2022-06-06T20:29:29.238Z"
   },
   {
    "duration": 7,
    "start_time": "2022-06-06T20:29:29.254Z"
   },
   {
    "duration": 34,
    "start_time": "2022-06-06T20:29:29.262Z"
   },
   {
    "duration": 12,
    "start_time": "2022-06-06T20:29:29.298Z"
   },
   {
    "duration": 7,
    "start_time": "2022-06-06T20:29:29.311Z"
   },
   {
    "duration": 4,
    "start_time": "2022-06-06T20:29:29.319Z"
   },
   {
    "duration": 5,
    "start_time": "2022-06-06T20:29:29.325Z"
   },
   {
    "duration": 7,
    "start_time": "2022-06-06T20:29:29.331Z"
   },
   {
    "duration": 5,
    "start_time": "2022-06-06T20:29:29.339Z"
   },
   {
    "duration": 8,
    "start_time": "2022-06-06T20:29:29.346Z"
   },
   {
    "duration": 40,
    "start_time": "2022-06-06T20:29:29.356Z"
   },
   {
    "duration": 29,
    "start_time": "2022-06-06T20:29:29.398Z"
   },
   {
    "duration": 407,
    "start_time": "2022-06-06T20:29:29.429Z"
   },
   {
    "duration": 43,
    "start_time": "2022-06-06T20:29:29.838Z"
   },
   {
    "duration": 8598,
    "start_time": "2022-06-06T20:29:29.883Z"
   },
   {
    "duration": 343,
    "start_time": "2022-06-06T20:29:38.483Z"
   },
   {
    "duration": 69,
    "start_time": "2022-06-06T20:29:38.828Z"
   },
   {
    "duration": 96,
    "start_time": "2022-06-06T20:29:38.899Z"
   },
   {
    "duration": 22,
    "start_time": "2022-06-06T20:29:38.997Z"
   },
   {
    "duration": 7,
    "start_time": "2022-06-06T20:29:39.022Z"
   },
   {
    "duration": 482,
    "start_time": "2022-06-06T20:29:39.031Z"
   },
   {
    "duration": 54,
    "start_time": "2022-06-06T20:29:39.514Z"
   },
   {
    "duration": 180,
    "start_time": "2022-06-06T20:29:39.571Z"
   },
   {
    "duration": 99,
    "start_time": "2022-06-06T20:29:39.753Z"
   },
   {
    "duration": 153,
    "start_time": "2022-06-06T20:29:39.853Z"
   },
   {
    "duration": 6,
    "start_time": "2022-06-06T20:29:40.007Z"
   },
   {
    "duration": 57,
    "start_time": "2022-06-07T19:09:53.076Z"
   },
   {
    "duration": 1468,
    "start_time": "2022-06-07T19:10:05.398Z"
   },
   {
    "duration": 72,
    "start_time": "2022-06-07T19:10:06.871Z"
   },
   {
    "duration": 25,
    "start_time": "2022-06-07T19:10:06.945Z"
   },
   {
    "duration": 32,
    "start_time": "2022-06-07T19:10:06.972Z"
   },
   {
    "duration": 7,
    "start_time": "2022-06-07T19:10:07.006Z"
   },
   {
    "duration": 14,
    "start_time": "2022-06-07T19:10:07.015Z"
   },
   {
    "duration": 8,
    "start_time": "2022-06-07T19:10:07.030Z"
   },
   {
    "duration": 4,
    "start_time": "2022-06-07T19:10:07.039Z"
   },
   {
    "duration": 152,
    "start_time": "2022-06-07T19:10:07.045Z"
   },
   {
    "duration": 131,
    "start_time": "2022-06-07T19:10:07.199Z"
   },
   {
    "duration": 0,
    "start_time": "2022-06-07T19:10:07.332Z"
   },
   {
    "duration": 1,
    "start_time": "2022-06-07T19:10:07.333Z"
   },
   {
    "duration": 0,
    "start_time": "2022-06-07T19:10:07.335Z"
   },
   {
    "duration": 0,
    "start_time": "2022-06-07T19:10:07.336Z"
   },
   {
    "duration": 0,
    "start_time": "2022-06-07T19:10:07.337Z"
   },
   {
    "duration": 0,
    "start_time": "2022-06-07T19:10:07.353Z"
   },
   {
    "duration": 1,
    "start_time": "2022-06-07T19:10:07.354Z"
   },
   {
    "duration": 0,
    "start_time": "2022-06-07T19:10:07.355Z"
   },
   {
    "duration": 0,
    "start_time": "2022-06-07T19:10:07.356Z"
   },
   {
    "duration": 0,
    "start_time": "2022-06-07T19:10:07.356Z"
   },
   {
    "duration": 0,
    "start_time": "2022-06-07T19:10:07.358Z"
   },
   {
    "duration": 0,
    "start_time": "2022-06-07T19:10:07.359Z"
   },
   {
    "duration": 0,
    "start_time": "2022-06-07T19:10:07.359Z"
   },
   {
    "duration": 0,
    "start_time": "2022-06-07T19:10:07.360Z"
   },
   {
    "duration": 0,
    "start_time": "2022-06-07T19:10:07.360Z"
   },
   {
    "duration": 0,
    "start_time": "2022-06-07T19:10:07.361Z"
   },
   {
    "duration": 0,
    "start_time": "2022-06-07T19:10:07.363Z"
   },
   {
    "duration": 0,
    "start_time": "2022-06-07T19:10:07.364Z"
   },
   {
    "duration": 0,
    "start_time": "2022-06-07T19:10:07.366Z"
   },
   {
    "duration": 0,
    "start_time": "2022-06-07T19:10:07.369Z"
   },
   {
    "duration": 0,
    "start_time": "2022-06-07T19:10:07.370Z"
   },
   {
    "duration": 0,
    "start_time": "2022-06-07T19:10:07.371Z"
   },
   {
    "duration": 0,
    "start_time": "2022-06-07T19:10:07.372Z"
   },
   {
    "duration": 0,
    "start_time": "2022-06-07T19:10:07.373Z"
   },
   {
    "duration": 0,
    "start_time": "2022-06-07T19:10:07.374Z"
   },
   {
    "duration": 0,
    "start_time": "2022-06-07T19:10:07.375Z"
   },
   {
    "duration": 0,
    "start_time": "2022-06-07T19:10:07.376Z"
   },
   {
    "duration": 0,
    "start_time": "2022-06-07T19:10:07.377Z"
   },
   {
    "duration": 0,
    "start_time": "2022-06-07T19:10:07.377Z"
   },
   {
    "duration": 0,
    "start_time": "2022-06-07T19:10:07.378Z"
   },
   {
    "duration": 0,
    "start_time": "2022-06-07T19:10:07.379Z"
   },
   {
    "duration": 0,
    "start_time": "2022-06-07T19:10:07.380Z"
   },
   {
    "duration": 0,
    "start_time": "2022-06-07T19:10:07.380Z"
   },
   {
    "duration": 4,
    "start_time": "2022-06-07T19:11:07.590Z"
   },
   {
    "duration": 1263,
    "start_time": "2022-06-07T19:11:15.342Z"
   },
   {
    "duration": 37,
    "start_time": "2022-06-07T19:11:16.607Z"
   },
   {
    "duration": 19,
    "start_time": "2022-06-07T19:11:16.646Z"
   },
   {
    "duration": 27,
    "start_time": "2022-06-07T19:11:16.672Z"
   },
   {
    "duration": 7,
    "start_time": "2022-06-07T19:11:16.701Z"
   },
   {
    "duration": 14,
    "start_time": "2022-06-07T19:11:16.710Z"
   },
   {
    "duration": 8,
    "start_time": "2022-06-07T19:11:16.726Z"
   },
   {
    "duration": 4,
    "start_time": "2022-06-07T19:11:16.735Z"
   },
   {
    "duration": 159,
    "start_time": "2022-06-07T19:11:16.753Z"
   },
   {
    "duration": 3,
    "start_time": "2022-06-07T19:11:16.914Z"
   },
   {
    "duration": 9,
    "start_time": "2022-06-07T19:11:16.919Z"
   },
   {
    "duration": 8,
    "start_time": "2022-06-07T19:11:16.929Z"
   },
   {
    "duration": 7,
    "start_time": "2022-06-07T19:11:16.952Z"
   },
   {
    "duration": 27,
    "start_time": "2022-06-07T19:11:16.964Z"
   },
   {
    "duration": 3,
    "start_time": "2022-06-07T19:11:16.993Z"
   },
   {
    "duration": 17,
    "start_time": "2022-06-07T19:11:16.998Z"
   },
   {
    "duration": 9,
    "start_time": "2022-06-07T19:11:17.016Z"
   },
   {
    "duration": 12,
    "start_time": "2022-06-07T19:11:17.026Z"
   },
   {
    "duration": 15,
    "start_time": "2022-06-07T19:11:17.040Z"
   },
   {
    "duration": 5,
    "start_time": "2022-06-07T19:11:17.059Z"
   },
   {
    "duration": 28,
    "start_time": "2022-06-07T19:11:17.065Z"
   },
   {
    "duration": 5,
    "start_time": "2022-06-07T19:11:17.095Z"
   },
   {
    "duration": 4,
    "start_time": "2022-06-07T19:11:17.102Z"
   },
   {
    "duration": 8,
    "start_time": "2022-06-07T19:11:17.108Z"
   },
   {
    "duration": 7,
    "start_time": "2022-06-07T19:11:17.117Z"
   },
   {
    "duration": 5,
    "start_time": "2022-06-07T19:11:17.125Z"
   },
   {
    "duration": 6,
    "start_time": "2022-06-07T19:11:17.132Z"
   },
   {
    "duration": 4,
    "start_time": "2022-06-07T19:11:17.141Z"
   },
   {
    "duration": 39,
    "start_time": "2022-06-07T19:11:17.146Z"
   },
   {
    "duration": 385,
    "start_time": "2022-06-07T19:11:17.187Z"
   },
   {
    "duration": 39,
    "start_time": "2022-06-07T19:11:17.578Z"
   },
   {
    "duration": 8665,
    "start_time": "2022-06-07T19:11:17.618Z"
   },
   {
    "duration": 341,
    "start_time": "2022-06-07T19:11:26.285Z"
   },
   {
    "duration": 45,
    "start_time": "2022-06-07T19:11:26.627Z"
   },
   {
    "duration": 79,
    "start_time": "2022-06-07T19:11:26.679Z"
   },
   {
    "duration": 141,
    "start_time": "2022-06-07T19:11:26.760Z"
   },
   {
    "duration": 11,
    "start_time": "2022-06-07T19:11:26.903Z"
   },
   {
    "duration": 469,
    "start_time": "2022-06-07T19:11:26.916Z"
   },
   {
    "duration": 51,
    "start_time": "2022-06-07T19:11:27.387Z"
   },
   {
    "duration": 166,
    "start_time": "2022-06-07T19:11:27.458Z"
   },
   {
    "duration": 90,
    "start_time": "2022-06-07T19:11:27.626Z"
   },
   {
    "duration": 159,
    "start_time": "2022-06-07T19:11:27.718Z"
   },
   {
    "duration": 6,
    "start_time": "2022-06-07T19:11:27.881Z"
   },
   {
    "duration": 17392,
    "start_time": "2022-06-07T19:40:01.703Z"
   },
   {
    "duration": 55,
    "start_time": "2022-06-07T19:40:19.097Z"
   },
   {
    "duration": 1144,
    "start_time": "2022-06-07T19:41:20.904Z"
   },
   {
    "duration": 37,
    "start_time": "2022-06-07T19:41:22.050Z"
   },
   {
    "duration": 12,
    "start_time": "2022-06-07T19:41:22.088Z"
   },
   {
    "duration": 18,
    "start_time": "2022-06-07T19:41:22.102Z"
   },
   {
    "duration": 8,
    "start_time": "2022-06-07T19:41:22.121Z"
   },
   {
    "duration": 30,
    "start_time": "2022-06-07T19:41:22.131Z"
   },
   {
    "duration": 10,
    "start_time": "2022-06-07T19:41:22.163Z"
   },
   {
    "duration": 7,
    "start_time": "2022-06-07T19:41:22.175Z"
   },
   {
    "duration": 175,
    "start_time": "2022-06-07T19:41:22.183Z"
   },
   {
    "duration": 4,
    "start_time": "2022-06-07T19:41:22.361Z"
   },
   {
    "duration": 9,
    "start_time": "2022-06-07T19:41:22.366Z"
   },
   {
    "duration": 10,
    "start_time": "2022-06-07T19:41:22.376Z"
   },
   {
    "duration": 5,
    "start_time": "2022-06-07T19:41:22.388Z"
   },
   {
    "duration": 13,
    "start_time": "2022-06-07T19:41:22.394Z"
   },
   {
    "duration": 4,
    "start_time": "2022-06-07T19:41:22.408Z"
   },
   {
    "duration": 44,
    "start_time": "2022-06-07T19:41:22.414Z"
   },
   {
    "duration": 13,
    "start_time": "2022-06-07T19:41:22.460Z"
   },
   {
    "duration": 23,
    "start_time": "2022-06-07T19:41:22.475Z"
   },
   {
    "duration": 9,
    "start_time": "2022-06-07T19:41:22.500Z"
   },
   {
    "duration": 5,
    "start_time": "2022-06-07T19:41:22.510Z"
   },
   {
    "duration": 17,
    "start_time": "2022-06-07T19:41:22.516Z"
   },
   {
    "duration": 19,
    "start_time": "2022-06-07T19:41:22.535Z"
   },
   {
    "duration": 4,
    "start_time": "2022-06-07T19:41:22.556Z"
   },
   {
    "duration": 11,
    "start_time": "2022-06-07T19:41:22.562Z"
   },
   {
    "duration": 25,
    "start_time": "2022-06-07T19:41:22.576Z"
   },
   {
    "duration": 13,
    "start_time": "2022-06-07T19:41:22.603Z"
   },
   {
    "duration": 8,
    "start_time": "2022-06-07T19:41:22.618Z"
   },
   {
    "duration": 6,
    "start_time": "2022-06-07T19:41:22.631Z"
   },
   {
    "duration": 34,
    "start_time": "2022-06-07T19:41:22.639Z"
   },
   {
    "duration": 394,
    "start_time": "2022-06-07T19:41:22.675Z"
   },
   {
    "duration": 36,
    "start_time": "2022-06-07T19:41:23.071Z"
   },
   {
    "duration": 17523,
    "start_time": "2022-06-07T19:41:23.109Z"
   },
   {
    "duration": 50,
    "start_time": "2022-06-07T19:41:40.634Z"
   },
   {
    "duration": 71,
    "start_time": "2022-06-07T19:41:40.685Z"
   },
   {
    "duration": 95,
    "start_time": "2022-06-07T19:41:40.758Z"
   },
   {
    "duration": 17,
    "start_time": "2022-06-07T19:41:40.855Z"
   },
   {
    "duration": 4,
    "start_time": "2022-06-07T19:41:40.873Z"
   },
   {
    "duration": 24284,
    "start_time": "2022-06-07T19:41:40.878Z"
   },
   {
    "duration": 65,
    "start_time": "2022-06-07T19:42:05.164Z"
   },
   {
    "duration": 7881,
    "start_time": "2022-06-07T19:42:05.231Z"
   },
   {
    "duration": 78,
    "start_time": "2022-06-07T19:42:13.113Z"
   },
   {
    "duration": 144,
    "start_time": "2022-06-07T19:42:13.192Z"
   },
   {
    "duration": 16,
    "start_time": "2022-06-07T19:42:13.338Z"
   },
   {
    "duration": 4,
    "start_time": "2022-06-07T19:47:09.916Z"
   },
   {
    "duration": 5,
    "start_time": "2022-06-07T19:47:28.726Z"
   },
   {
    "duration": 1355,
    "start_time": "2022-06-07T19:51:05.149Z"
   },
   {
    "duration": 36,
    "start_time": "2022-06-07T19:51:06.506Z"
   },
   {
    "duration": 11,
    "start_time": "2022-06-07T19:51:06.543Z"
   },
   {
    "duration": 17,
    "start_time": "2022-06-07T19:51:06.556Z"
   },
   {
    "duration": 6,
    "start_time": "2022-06-07T19:51:06.576Z"
   },
   {
    "duration": 15,
    "start_time": "2022-06-07T19:51:06.584Z"
   },
   {
    "duration": 10,
    "start_time": "2022-06-07T19:51:06.600Z"
   },
   {
    "duration": 6,
    "start_time": "2022-06-07T19:51:06.611Z"
   },
   {
    "duration": 168,
    "start_time": "2022-06-07T19:51:06.618Z"
   },
   {
    "duration": 4,
    "start_time": "2022-06-07T19:51:06.788Z"
   },
   {
    "duration": 28,
    "start_time": "2022-06-07T19:51:06.794Z"
   },
   {
    "duration": 8,
    "start_time": "2022-06-07T19:51:06.824Z"
   },
   {
    "duration": 5,
    "start_time": "2022-06-07T19:51:06.834Z"
   },
   {
    "duration": 15,
    "start_time": "2022-06-07T19:51:06.842Z"
   },
   {
    "duration": 22,
    "start_time": "2022-06-07T19:51:06.859Z"
   },
   {
    "duration": 13,
    "start_time": "2022-06-07T19:51:06.883Z"
   },
   {
    "duration": 9,
    "start_time": "2022-06-07T19:51:06.897Z"
   },
   {
    "duration": 12,
    "start_time": "2022-06-07T19:51:06.908Z"
   },
   {
    "duration": 7,
    "start_time": "2022-06-07T19:51:06.922Z"
   },
   {
    "duration": 6,
    "start_time": "2022-06-07T19:51:06.930Z"
   },
   {
    "duration": 20,
    "start_time": "2022-06-07T19:51:06.937Z"
   },
   {
    "duration": 5,
    "start_time": "2022-06-07T19:51:06.959Z"
   },
   {
    "duration": 6,
    "start_time": "2022-06-07T19:51:06.966Z"
   },
   {
    "duration": 5,
    "start_time": "2022-06-07T19:51:06.974Z"
   },
   {
    "duration": 6,
    "start_time": "2022-06-07T19:51:06.981Z"
   },
   {
    "duration": 6,
    "start_time": "2022-06-07T19:51:06.988Z"
   },
   {
    "duration": 6,
    "start_time": "2022-06-07T19:51:06.996Z"
   },
   {
    "duration": 8,
    "start_time": "2022-06-07T19:51:07.003Z"
   },
   {
    "duration": 386,
    "start_time": "2022-06-07T19:51:07.013Z"
   },
   {
    "duration": 59,
    "start_time": "2022-06-07T19:51:07.401Z"
   },
   {
    "duration": 17595,
    "start_time": "2022-06-07T19:51:07.463Z"
   },
   {
    "duration": 51,
    "start_time": "2022-06-07T19:51:25.060Z"
   },
   {
    "duration": 60,
    "start_time": "2022-06-07T19:51:25.113Z"
   },
   {
    "duration": 82,
    "start_time": "2022-06-07T19:51:25.174Z"
   },
   {
    "duration": 114,
    "start_time": "2022-06-07T19:51:25.258Z"
   },
   {
    "duration": 4,
    "start_time": "2022-06-07T19:51:25.374Z"
   },
   {
    "duration": 9,
    "start_time": "2022-06-07T19:51:25.380Z"
   },
   {
    "duration": 26,
    "start_time": "2022-06-07T19:51:25.392Z"
   },
   {
    "duration": 24506,
    "start_time": "2022-06-07T19:51:25.420Z"
   },
   {
    "duration": 43,
    "start_time": "2022-06-07T19:51:49.927Z"
   },
   {
    "duration": 8603,
    "start_time": "2022-06-07T19:51:49.974Z"
   },
   {
    "duration": 132,
    "start_time": "2022-06-07T19:51:58.579Z"
   },
   {
    "duration": 147,
    "start_time": "2022-06-07T19:51:58.713Z"
   },
   {
    "duration": 6,
    "start_time": "2022-06-07T19:51:58.862Z"
   },
   {
    "duration": 1198,
    "start_time": "2022-06-07T19:54:37.250Z"
   },
   {
    "duration": 37,
    "start_time": "2022-06-07T19:54:38.450Z"
   },
   {
    "duration": 19,
    "start_time": "2022-06-07T19:54:38.491Z"
   },
   {
    "duration": 18,
    "start_time": "2022-06-07T19:54:38.514Z"
   },
   {
    "duration": 7,
    "start_time": "2022-06-07T19:54:38.534Z"
   },
   {
    "duration": 14,
    "start_time": "2022-06-07T19:54:38.552Z"
   },
   {
    "duration": 13,
    "start_time": "2022-06-07T19:54:38.568Z"
   },
   {
    "duration": 9,
    "start_time": "2022-06-07T19:54:38.583Z"
   },
   {
    "duration": 160,
    "start_time": "2022-06-07T19:54:38.593Z"
   },
   {
    "duration": 5,
    "start_time": "2022-06-07T19:54:38.755Z"
   },
   {
    "duration": 9,
    "start_time": "2022-06-07T19:54:38.761Z"
   },
   {
    "duration": 10,
    "start_time": "2022-06-07T19:54:38.771Z"
   },
   {
    "duration": 5,
    "start_time": "2022-06-07T19:54:38.785Z"
   },
   {
    "duration": 13,
    "start_time": "2022-06-07T19:54:38.792Z"
   },
   {
    "duration": 5,
    "start_time": "2022-06-07T19:54:38.806Z"
   },
   {
    "duration": 15,
    "start_time": "2022-06-07T19:54:38.813Z"
   },
   {
    "duration": 10,
    "start_time": "2022-06-07T19:54:38.852Z"
   },
   {
    "duration": 14,
    "start_time": "2022-06-07T19:54:38.863Z"
   },
   {
    "duration": 8,
    "start_time": "2022-06-07T19:54:38.878Z"
   },
   {
    "duration": 3,
    "start_time": "2022-06-07T19:54:38.888Z"
   },
   {
    "duration": 21,
    "start_time": "2022-06-07T19:54:38.893Z"
   },
   {
    "duration": 7,
    "start_time": "2022-06-07T19:54:38.915Z"
   },
   {
    "duration": 5,
    "start_time": "2022-06-07T19:54:38.923Z"
   },
   {
    "duration": 7,
    "start_time": "2022-06-07T19:54:38.929Z"
   },
   {
    "duration": 18,
    "start_time": "2022-06-07T19:54:38.937Z"
   },
   {
    "duration": 13,
    "start_time": "2022-06-07T19:54:38.956Z"
   },
   {
    "duration": 9,
    "start_time": "2022-06-07T19:54:38.970Z"
   },
   {
    "duration": 16,
    "start_time": "2022-06-07T19:54:38.981Z"
   },
   {
    "duration": 345,
    "start_time": "2022-06-07T19:54:38.999Z"
   },
   {
    "duration": 40,
    "start_time": "2022-06-07T19:54:39.346Z"
   },
   {
    "duration": 17643,
    "start_time": "2022-06-07T19:54:39.388Z"
   },
   {
    "duration": 53,
    "start_time": "2022-06-07T19:54:57.032Z"
   },
   {
    "duration": 69,
    "start_time": "2022-06-07T19:54:57.086Z"
   },
   {
    "duration": 5,
    "start_time": "2022-06-07T19:54:57.157Z"
   },
   {
    "duration": 13,
    "start_time": "2022-06-07T19:54:57.253Z"
   },
   {
    "duration": 5,
    "start_time": "2022-06-07T19:54:57.267Z"
   },
   {
    "duration": 15,
    "start_time": "2022-06-07T19:54:57.273Z"
   },
   {
    "duration": 24208,
    "start_time": "2022-06-07T19:54:57.289Z"
   },
   {
    "duration": 55,
    "start_time": "2022-06-07T19:55:21.498Z"
   },
   {
    "duration": 7968,
    "start_time": "2022-06-07T19:55:21.556Z"
   },
   {
    "duration": 135,
    "start_time": "2022-06-07T19:55:29.526Z"
   },
   {
    "duration": 138,
    "start_time": "2022-06-07T19:55:29.662Z"
   },
   {
    "duration": 5,
    "start_time": "2022-06-07T19:55:29.802Z"
   },
   {
    "duration": 176,
    "start_time": "2022-06-07T20:10:06.454Z"
   },
   {
    "duration": 1280,
    "start_time": "2022-06-07T20:10:51.466Z"
   },
   {
    "duration": 37,
    "start_time": "2022-06-07T20:10:52.748Z"
   },
   {
    "duration": 12,
    "start_time": "2022-06-07T20:10:52.787Z"
   },
   {
    "duration": 18,
    "start_time": "2022-06-07T20:10:52.801Z"
   },
   {
    "duration": 9,
    "start_time": "2022-06-07T20:10:52.821Z"
   },
   {
    "duration": 23,
    "start_time": "2022-06-07T20:10:52.831Z"
   },
   {
    "duration": 8,
    "start_time": "2022-06-07T20:10:52.856Z"
   },
   {
    "duration": 9,
    "start_time": "2022-06-07T20:10:52.866Z"
   },
   {
    "duration": 191,
    "start_time": "2022-06-07T20:10:52.876Z"
   },
   {
    "duration": 4,
    "start_time": "2022-06-07T20:10:53.070Z"
   },
   {
    "duration": 10,
    "start_time": "2022-06-07T20:10:53.076Z"
   },
   {
    "duration": 10,
    "start_time": "2022-06-07T20:10:53.087Z"
   },
   {
    "duration": 7,
    "start_time": "2022-06-07T20:10:53.099Z"
   },
   {
    "duration": 19,
    "start_time": "2022-06-07T20:10:53.108Z"
   },
   {
    "duration": 25,
    "start_time": "2022-06-07T20:10:53.128Z"
   },
   {
    "duration": 15,
    "start_time": "2022-06-07T20:10:53.155Z"
   },
   {
    "duration": 12,
    "start_time": "2022-06-07T20:10:53.171Z"
   },
   {
    "duration": 20,
    "start_time": "2022-06-07T20:10:53.185Z"
   },
   {
    "duration": 8,
    "start_time": "2022-06-07T20:10:53.210Z"
   },
   {
    "duration": 10,
    "start_time": "2022-06-07T20:10:53.222Z"
   },
   {
    "duration": 18,
    "start_time": "2022-06-07T20:10:53.234Z"
   },
   {
    "duration": 6,
    "start_time": "2022-06-07T20:10:53.255Z"
   },
   {
    "duration": 18,
    "start_time": "2022-06-07T20:10:53.263Z"
   },
   {
    "duration": 13,
    "start_time": "2022-06-07T20:10:53.283Z"
   },
   {
    "duration": 9,
    "start_time": "2022-06-07T20:10:53.297Z"
   },
   {
    "duration": 7,
    "start_time": "2022-06-07T20:10:53.307Z"
   },
   {
    "duration": 6,
    "start_time": "2022-06-07T20:10:53.316Z"
   },
   {
    "duration": 5,
    "start_time": "2022-06-07T20:10:53.325Z"
   },
   {
    "duration": 396,
    "start_time": "2022-06-07T20:10:53.331Z"
   },
   {
    "duration": 44,
    "start_time": "2022-06-07T20:10:53.729Z"
   },
   {
    "duration": 17298,
    "start_time": "2022-06-07T20:10:53.775Z"
   },
   {
    "duration": 46,
    "start_time": "2022-06-07T20:11:11.075Z"
   },
   {
    "duration": 55,
    "start_time": "2022-06-07T20:11:11.122Z"
   },
   {
    "duration": 6,
    "start_time": "2022-06-07T20:11:11.253Z"
   },
   {
    "duration": 104,
    "start_time": "2022-06-07T20:11:11.261Z"
   },
   {
    "duration": 3,
    "start_time": "2022-06-07T20:11:11.367Z"
   },
   {
    "duration": 11,
    "start_time": "2022-06-07T20:11:11.371Z"
   },
   {
    "duration": 24244,
    "start_time": "2022-06-07T20:11:11.383Z"
   },
   {
    "duration": 56,
    "start_time": "2022-06-07T20:11:35.628Z"
   },
   {
    "duration": 7831,
    "start_time": "2022-06-07T20:11:35.685Z"
   },
   {
    "duration": 126,
    "start_time": "2022-06-07T20:11:43.517Z"
   },
   {
    "duration": 133,
    "start_time": "2022-06-07T20:11:43.645Z"
   },
   {
    "duration": 167,
    "start_time": "2022-06-07T20:11:43.780Z"
   },
   {
    "duration": 0,
    "start_time": "2022-06-07T20:11:43.952Z"
   },
   {
    "duration": 187,
    "start_time": "2022-06-07T20:12:33.190Z"
   },
   {
    "duration": 56,
    "start_time": "2022-06-08T09:45:43.943Z"
   },
   {
    "duration": 1553,
    "start_time": "2022-06-08T09:46:00.050Z"
   },
   {
    "duration": 79,
    "start_time": "2022-06-08T09:46:01.606Z"
   },
   {
    "duration": 14,
    "start_time": "2022-06-08T09:46:01.687Z"
   },
   {
    "duration": 28,
    "start_time": "2022-06-08T09:46:01.703Z"
   },
   {
    "duration": 45,
    "start_time": "2022-06-08T09:46:01.732Z"
   },
   {
    "duration": 34,
    "start_time": "2022-06-08T09:46:01.778Z"
   },
   {
    "duration": 9,
    "start_time": "2022-06-08T09:46:01.814Z"
   },
   {
    "duration": 16,
    "start_time": "2022-06-08T09:46:01.825Z"
   },
   {
    "duration": 158,
    "start_time": "2022-06-08T09:46:01.843Z"
   },
   {
    "duration": 4,
    "start_time": "2022-06-08T09:46:02.004Z"
   },
   {
    "duration": 27,
    "start_time": "2022-06-08T09:46:02.010Z"
   },
   {
    "duration": 12,
    "start_time": "2022-06-08T09:46:02.039Z"
   },
   {
    "duration": 18,
    "start_time": "2022-06-08T09:46:02.052Z"
   },
   {
    "duration": 17,
    "start_time": "2022-06-08T09:46:02.072Z"
   },
   {
    "duration": 5,
    "start_time": "2022-06-08T09:46:02.091Z"
   },
   {
    "duration": 21,
    "start_time": "2022-06-08T09:46:02.098Z"
   },
   {
    "duration": 14,
    "start_time": "2022-06-08T09:46:02.121Z"
   },
   {
    "duration": 14,
    "start_time": "2022-06-08T09:46:02.137Z"
   },
   {
    "duration": 16,
    "start_time": "2022-06-08T09:46:02.152Z"
   },
   {
    "duration": 8,
    "start_time": "2022-06-08T09:46:02.170Z"
   },
   {
    "duration": 20,
    "start_time": "2022-06-08T09:46:02.180Z"
   },
   {
    "duration": 6,
    "start_time": "2022-06-08T09:46:02.202Z"
   },
   {
    "duration": 10,
    "start_time": "2022-06-08T09:46:02.210Z"
   },
   {
    "duration": 8,
    "start_time": "2022-06-08T09:46:02.222Z"
   },
   {
    "duration": 10,
    "start_time": "2022-06-08T09:46:02.232Z"
   },
   {
    "duration": 17,
    "start_time": "2022-06-08T09:46:02.244Z"
   },
   {
    "duration": 5,
    "start_time": "2022-06-08T09:46:02.263Z"
   },
   {
    "duration": 6,
    "start_time": "2022-06-08T09:46:02.271Z"
   },
   {
    "duration": 393,
    "start_time": "2022-06-08T09:46:02.279Z"
   },
   {
    "duration": 41,
    "start_time": "2022-06-08T09:46:02.674Z"
   },
   {
    "duration": 18733,
    "start_time": "2022-06-08T09:46:02.717Z"
   },
   {
    "duration": 52,
    "start_time": "2022-06-08T09:46:21.452Z"
   },
   {
    "duration": 160,
    "start_time": "2022-06-08T09:46:21.506Z"
   },
   {
    "duration": 97,
    "start_time": "2022-06-08T09:46:21.668Z"
   },
   {
    "duration": 11,
    "start_time": "2022-06-08T09:46:21.767Z"
   },
   {
    "duration": 4,
    "start_time": "2022-06-08T09:46:21.780Z"
   },
   {
    "duration": 7,
    "start_time": "2022-06-08T09:46:21.785Z"
   },
   {
    "duration": 26152,
    "start_time": "2022-06-08T09:46:21.794Z"
   },
   {
    "duration": 70,
    "start_time": "2022-06-08T09:46:47.948Z"
   },
   {
    "duration": 10,
    "start_time": "2022-06-08T09:46:48.020Z"
   },
   {
    "duration": 8292,
    "start_time": "2022-06-08T09:46:48.031Z"
   },
   {
    "duration": 134,
    "start_time": "2022-06-08T09:46:56.324Z"
   },
   {
    "duration": 140,
    "start_time": "2022-06-08T09:46:56.465Z"
   },
   {
    "duration": 190,
    "start_time": "2022-06-08T09:46:56.607Z"
   },
   {
    "duration": 6,
    "start_time": "2022-06-08T09:46:56.799Z"
   },
   {
    "duration": 14,
    "start_time": "2022-06-08T09:48:20.960Z"
   },
   {
    "duration": 11,
    "start_time": "2022-06-08T09:49:27.751Z"
   },
   {
    "duration": 97,
    "start_time": "2022-06-08T09:49:28.974Z"
   },
   {
    "duration": 1280,
    "start_time": "2022-06-08T10:00:42.011Z"
   },
   {
    "duration": 40,
    "start_time": "2022-06-08T10:00:43.292Z"
   },
   {
    "duration": 14,
    "start_time": "2022-06-08T10:00:43.333Z"
   },
   {
    "duration": 18,
    "start_time": "2022-06-08T10:00:43.349Z"
   },
   {
    "duration": 7,
    "start_time": "2022-06-08T10:00:43.368Z"
   },
   {
    "duration": 22,
    "start_time": "2022-06-08T10:00:43.377Z"
   },
   {
    "duration": 8,
    "start_time": "2022-06-08T10:00:43.401Z"
   },
   {
    "duration": 7,
    "start_time": "2022-06-08T10:00:43.410Z"
   },
   {
    "duration": 170,
    "start_time": "2022-06-08T10:00:43.418Z"
   },
   {
    "duration": 4,
    "start_time": "2022-06-08T10:00:43.591Z"
   },
   {
    "duration": 27,
    "start_time": "2022-06-08T10:00:43.596Z"
   },
   {
    "duration": 14,
    "start_time": "2022-06-08T10:00:43.625Z"
   },
   {
    "duration": 6,
    "start_time": "2022-06-08T10:00:43.641Z"
   },
   {
    "duration": 16,
    "start_time": "2022-06-08T10:00:43.649Z"
   },
   {
    "duration": 4,
    "start_time": "2022-06-08T10:00:43.667Z"
   },
   {
    "duration": 27,
    "start_time": "2022-06-08T10:00:43.672Z"
   },
   {
    "duration": 14,
    "start_time": "2022-06-08T10:00:43.701Z"
   },
   {
    "duration": 13,
    "start_time": "2022-06-08T10:00:43.717Z"
   },
   {
    "duration": 12,
    "start_time": "2022-06-08T10:00:43.731Z"
   },
   {
    "duration": 3,
    "start_time": "2022-06-08T10:00:43.744Z"
   },
   {
    "duration": 24,
    "start_time": "2022-06-08T10:00:43.748Z"
   },
   {
    "duration": 8,
    "start_time": "2022-06-08T10:00:43.773Z"
   },
   {
    "duration": 4,
    "start_time": "2022-06-08T10:00:43.783Z"
   },
   {
    "duration": 6,
    "start_time": "2022-06-08T10:00:43.788Z"
   },
   {
    "duration": 6,
    "start_time": "2022-06-08T10:00:43.796Z"
   },
   {
    "duration": 6,
    "start_time": "2022-06-08T10:00:43.804Z"
   },
   {
    "duration": 9,
    "start_time": "2022-06-08T10:00:43.811Z"
   },
   {
    "duration": 9,
    "start_time": "2022-06-08T10:00:43.823Z"
   },
   {
    "duration": 412,
    "start_time": "2022-06-08T10:00:43.834Z"
   },
   {
    "duration": 52,
    "start_time": "2022-06-08T10:00:44.248Z"
   },
   {
    "duration": 1346,
    "start_time": "2022-06-08T10:07:45.977Z"
   },
   {
    "duration": 43,
    "start_time": "2022-06-08T10:07:47.324Z"
   },
   {
    "duration": 16,
    "start_time": "2022-06-08T10:07:47.369Z"
   },
   {
    "duration": 21,
    "start_time": "2022-06-08T10:07:47.388Z"
   },
   {
    "duration": 11,
    "start_time": "2022-06-08T10:07:47.411Z"
   },
   {
    "duration": 50,
    "start_time": "2022-06-08T10:07:47.424Z"
   },
   {
    "duration": 9,
    "start_time": "2022-06-08T10:07:47.476Z"
   },
   {
    "duration": 8,
    "start_time": "2022-06-08T10:07:47.487Z"
   },
   {
    "duration": 160,
    "start_time": "2022-06-08T10:07:47.497Z"
   },
   {
    "duration": 4,
    "start_time": "2022-06-08T10:07:47.666Z"
   },
   {
    "duration": 9,
    "start_time": "2022-06-08T10:07:47.671Z"
   },
   {
    "duration": 13,
    "start_time": "2022-06-08T10:07:47.681Z"
   },
   {
    "duration": 6,
    "start_time": "2022-06-08T10:07:47.695Z"
   },
   {
    "duration": 12,
    "start_time": "2022-06-08T10:07:47.702Z"
   },
   {
    "duration": 3,
    "start_time": "2022-06-08T10:07:47.716Z"
   },
   {
    "duration": 14,
    "start_time": "2022-06-08T10:07:47.721Z"
   },
   {
    "duration": 12,
    "start_time": "2022-06-08T10:07:47.764Z"
   },
   {
    "duration": 15,
    "start_time": "2022-06-08T10:07:47.778Z"
   },
   {
    "duration": 6,
    "start_time": "2022-06-08T10:07:47.795Z"
   },
   {
    "duration": 9,
    "start_time": "2022-06-08T10:07:47.803Z"
   },
   {
    "duration": 22,
    "start_time": "2022-06-08T10:07:47.814Z"
   },
   {
    "duration": 29,
    "start_time": "2022-06-08T10:07:47.838Z"
   },
   {
    "duration": 3,
    "start_time": "2022-06-08T10:07:47.869Z"
   },
   {
    "duration": 6,
    "start_time": "2022-06-08T10:07:47.874Z"
   },
   {
    "duration": 8,
    "start_time": "2022-06-08T10:07:47.882Z"
   },
   {
    "duration": 6,
    "start_time": "2022-06-08T10:07:47.892Z"
   },
   {
    "duration": 7,
    "start_time": "2022-06-08T10:07:47.899Z"
   },
   {
    "duration": 6,
    "start_time": "2022-06-08T10:07:47.909Z"
   },
   {
    "duration": 418,
    "start_time": "2022-06-08T10:07:47.916Z"
   },
   {
    "duration": 48,
    "start_time": "2022-06-08T10:07:48.336Z"
   },
   {
    "duration": 17188,
    "start_time": "2022-06-08T10:07:48.386Z"
   },
   {
    "duration": 1382,
    "start_time": "2022-06-08T10:09:29.709Z"
   },
   {
    "duration": 41,
    "start_time": "2022-06-08T10:09:31.093Z"
   },
   {
    "duration": 14,
    "start_time": "2022-06-08T10:09:31.136Z"
   },
   {
    "duration": 39,
    "start_time": "2022-06-08T10:09:31.152Z"
   },
   {
    "duration": 32,
    "start_time": "2022-06-08T10:09:31.193Z"
   },
   {
    "duration": 30,
    "start_time": "2022-06-08T10:09:31.227Z"
   },
   {
    "duration": 26,
    "start_time": "2022-06-08T10:09:31.258Z"
   },
   {
    "duration": 11,
    "start_time": "2022-06-08T10:09:31.286Z"
   },
   {
    "duration": 151,
    "start_time": "2022-06-08T10:09:31.298Z"
   },
   {
    "duration": 4,
    "start_time": "2022-06-08T10:09:31.452Z"
   },
   {
    "duration": 12,
    "start_time": "2022-06-08T10:09:31.465Z"
   },
   {
    "duration": 13,
    "start_time": "2022-06-08T10:09:31.479Z"
   },
   {
    "duration": 17,
    "start_time": "2022-06-08T10:09:31.493Z"
   },
   {
    "duration": 45,
    "start_time": "2022-06-08T10:09:31.511Z"
   },
   {
    "duration": 17,
    "start_time": "2022-06-08T10:09:31.558Z"
   },
   {
    "duration": 33,
    "start_time": "2022-06-08T10:09:31.576Z"
   },
   {
    "duration": 15,
    "start_time": "2022-06-08T10:09:31.611Z"
   },
   {
    "duration": 41,
    "start_time": "2022-06-08T10:09:31.628Z"
   },
   {
    "duration": 42,
    "start_time": "2022-06-08T10:09:31.671Z"
   },
   {
    "duration": 35,
    "start_time": "2022-06-08T10:09:31.715Z"
   },
   {
    "duration": 13,
    "start_time": "2022-06-08T10:09:31.752Z"
   },
   {
    "duration": 18,
    "start_time": "2022-06-08T10:09:31.767Z"
   },
   {
    "duration": 6,
    "start_time": "2022-06-08T10:09:31.787Z"
   },
   {
    "duration": 8,
    "start_time": "2022-06-08T10:09:31.795Z"
   },
   {
    "duration": 10,
    "start_time": "2022-06-08T10:09:31.805Z"
   },
   {
    "duration": 16,
    "start_time": "2022-06-08T10:09:31.817Z"
   },
   {
    "duration": 10,
    "start_time": "2022-06-08T10:09:31.836Z"
   },
   {
    "duration": 8,
    "start_time": "2022-06-08T10:09:31.849Z"
   },
   {
    "duration": 468,
    "start_time": "2022-06-08T10:09:31.859Z"
   },
   {
    "duration": 60,
    "start_time": "2022-06-08T10:09:32.329Z"
   },
   {
    "duration": 470551,
    "start_time": "2022-06-08T10:09:32.391Z"
   },
   {
    "duration": 110,
    "start_time": "2022-06-08T10:17:22.944Z"
   },
   {
    "duration": 111,
    "start_time": "2022-06-08T10:17:23.056Z"
   },
   {
    "duration": 97,
    "start_time": "2022-06-08T10:17:23.169Z"
   },
   {
    "duration": 13,
    "start_time": "2022-06-08T10:17:23.268Z"
   },
   {
    "duration": 9,
    "start_time": "2022-06-08T10:17:23.283Z"
   },
   {
    "duration": 8,
    "start_time": "2022-06-08T10:17:23.293Z"
   },
   {
    "duration": 632551,
    "start_time": "2022-06-08T10:17:23.302Z"
   },
   {
    "duration": 154,
    "start_time": "2022-06-08T10:27:55.855Z"
   },
   {
    "duration": 262014,
    "start_time": "2022-06-08T10:27:56.011Z"
   },
   {
    "duration": 202,
    "start_time": "2022-06-08T10:32:18.027Z"
   },
   {
    "duration": 159,
    "start_time": "2022-06-08T10:32:18.231Z"
   },
   {
    "duration": 225,
    "start_time": "2022-06-08T10:32:18.392Z"
   },
   {
    "duration": 5,
    "start_time": "2022-06-08T10:32:18.619Z"
   },
   {
    "duration": 49,
    "start_time": "2022-06-08T12:53:58.786Z"
   },
   {
    "duration": 663280,
    "start_time": "2022-06-08T13:23:20.147Z"
   },
   {
    "duration": 4,
    "start_time": "2022-06-08T13:34:23.429Z"
   },
   {
    "duration": 8,
    "start_time": "2022-06-08T13:50:39.272Z"
   },
   {
    "duration": 4,
    "start_time": "2022-06-08T13:51:31.740Z"
   },
   {
    "duration": 1560,
    "start_time": "2022-06-08T14:52:44.000Z"
   },
   {
    "duration": 104,
    "start_time": "2022-06-08T14:52:45.562Z"
   },
   {
    "duration": 19,
    "start_time": "2022-06-08T14:52:45.668Z"
   },
   {
    "duration": 23,
    "start_time": "2022-06-08T14:52:45.690Z"
   },
   {
    "duration": 9,
    "start_time": "2022-06-08T14:52:45.715Z"
   },
   {
    "duration": 28,
    "start_time": "2022-06-08T14:52:45.726Z"
   },
   {
    "duration": 5,
    "start_time": "2022-06-08T14:52:45.756Z"
   },
   {
    "duration": 38,
    "start_time": "2022-06-08T14:52:45.762Z"
   },
   {
    "duration": 5,
    "start_time": "2022-06-08T14:52:45.802Z"
   },
   {
    "duration": 218,
    "start_time": "2022-06-08T14:52:45.811Z"
   },
   {
    "duration": 5,
    "start_time": "2022-06-08T14:52:46.031Z"
   },
   {
    "duration": 16,
    "start_time": "2022-06-08T14:52:46.038Z"
   },
   {
    "duration": 11,
    "start_time": "2022-06-08T14:52:46.055Z"
   },
   {
    "duration": 6,
    "start_time": "2022-06-08T14:52:46.068Z"
   },
   {
    "duration": 17,
    "start_time": "2022-06-08T14:52:46.076Z"
   },
   {
    "duration": 4,
    "start_time": "2022-06-08T14:52:46.095Z"
   },
   {
    "duration": 28,
    "start_time": "2022-06-08T14:52:46.101Z"
   },
   {
    "duration": 11,
    "start_time": "2022-06-08T14:52:46.131Z"
   },
   {
    "duration": 24,
    "start_time": "2022-06-08T14:52:46.143Z"
   },
   {
    "duration": 7,
    "start_time": "2022-06-08T14:52:46.169Z"
   },
   {
    "duration": 6,
    "start_time": "2022-06-08T14:52:46.178Z"
   },
   {
    "duration": 23,
    "start_time": "2022-06-08T14:52:46.189Z"
   },
   {
    "duration": 19,
    "start_time": "2022-06-08T14:52:46.215Z"
   },
   {
    "duration": 14,
    "start_time": "2022-06-08T14:52:46.236Z"
   },
   {
    "duration": 26,
    "start_time": "2022-06-08T14:52:46.253Z"
   },
   {
    "duration": 19,
    "start_time": "2022-06-08T14:52:46.282Z"
   },
   {
    "duration": 11,
    "start_time": "2022-06-08T14:52:46.303Z"
   },
   {
    "duration": 11,
    "start_time": "2022-06-08T14:52:46.318Z"
   },
   {
    "duration": 12,
    "start_time": "2022-06-08T14:52:46.331Z"
   },
   {
    "duration": 394,
    "start_time": "2022-06-08T14:52:46.345Z"
   },
   {
    "duration": 44,
    "start_time": "2022-06-08T14:52:46.741Z"
   },
   {
    "duration": 499851,
    "start_time": "2022-06-08T14:52:46.787Z"
   },
   {
    "duration": 161,
    "start_time": "2022-06-08T15:01:06.640Z"
   },
   {
    "duration": 127,
    "start_time": "2022-06-08T15:01:06.804Z"
   },
   {
    "duration": 77,
    "start_time": "2022-06-08T15:01:06.954Z"
   },
   {
    "duration": 21,
    "start_time": "2022-06-08T15:01:07.033Z"
   },
   {
    "duration": 26,
    "start_time": "2022-06-08T15:01:07.056Z"
   },
   {
    "duration": 13,
    "start_time": "2022-06-08T15:01:07.084Z"
   },
   {
    "duration": 687374,
    "start_time": "2022-06-08T15:01:07.099Z"
   },
   {
    "duration": 244,
    "start_time": "2022-06-08T15:12:34.474Z"
   },
   {
    "duration": 273,
    "start_time": "2022-06-08T15:12:34.719Z"
   },
   {
    "duration": 8,
    "start_time": "2022-06-08T15:12:34.993Z"
   },
   {
    "duration": 5,
    "start_time": "2022-06-08T15:12:35.002Z"
   },
   {
    "duration": 18,
    "start_time": "2022-06-08T15:12:35.009Z"
   },
   {
    "duration": 129,
    "start_time": "2022-06-08T15:18:53.616Z"
   },
   {
    "duration": 4,
    "start_time": "2022-06-08T15:19:50.134Z"
   },
   {
    "duration": 38,
    "start_time": "2022-06-08T15:19:52.093Z"
   },
   {
    "duration": 11,
    "start_time": "2022-06-08T15:19:53.786Z"
   },
   {
    "duration": 13,
    "start_time": "2022-06-08T15:19:54.493Z"
   },
   {
    "duration": 8,
    "start_time": "2022-06-08T15:19:59.759Z"
   },
   {
    "duration": 14,
    "start_time": "2022-06-08T15:20:03.982Z"
   },
   {
    "duration": 6,
    "start_time": "2022-06-08T15:20:06.486Z"
   },
   {
    "duration": 8,
    "start_time": "2022-06-08T15:20:07.343Z"
   },
   {
    "duration": 5,
    "start_time": "2022-06-08T15:20:08.480Z"
   },
   {
    "duration": 110,
    "start_time": "2022-06-08T15:20:09.469Z"
   },
   {
    "duration": 45,
    "start_time": "2022-06-08T19:26:48.165Z"
   },
   {
    "duration": 1455,
    "start_time": "2022-06-08T19:31:28.678Z"
   },
   {
    "duration": 87,
    "start_time": "2022-06-08T19:31:34.566Z"
   },
   {
    "duration": 15,
    "start_time": "2022-06-08T19:31:37.160Z"
   },
   {
    "duration": 18,
    "start_time": "2022-06-08T19:31:38.602Z"
   },
   {
    "duration": 11,
    "start_time": "2022-06-08T19:31:44.685Z"
   },
   {
    "duration": 20,
    "start_time": "2022-06-08T19:31:51.466Z"
   },
   {
    "duration": 6,
    "start_time": "2022-06-08T19:31:52.662Z"
   },
   {
    "duration": 10,
    "start_time": "2022-06-08T19:31:54.273Z"
   },
   {
    "duration": 6,
    "start_time": "2022-06-08T19:31:57.816Z"
   },
   {
    "duration": 140,
    "start_time": "2022-06-08T19:31:58.878Z"
   },
   {
    "duration": 5,
    "start_time": "2022-06-08T19:32:05.581Z"
   },
   {
    "duration": 6,
    "start_time": "2022-06-08T19:32:06.475Z"
   },
   {
    "duration": 10,
    "start_time": "2022-06-08T19:32:08.578Z"
   },
   {
    "duration": 6,
    "start_time": "2022-06-08T19:32:14.758Z"
   },
   {
    "duration": 6,
    "start_time": "2022-06-08T19:32:23.237Z"
   },
   {
    "duration": 12,
    "start_time": "2022-06-08T19:32:27.059Z"
   },
   {
    "duration": 5,
    "start_time": "2022-06-08T19:32:37.459Z"
   },
   {
    "duration": 12,
    "start_time": "2022-06-08T19:32:47.231Z"
   },
   {
    "duration": 10,
    "start_time": "2022-06-08T19:32:50.928Z"
   },
   {
    "duration": 1390,
    "start_time": "2022-06-08T20:24:41.696Z"
   },
   {
    "duration": 151,
    "start_time": "2022-06-08T20:24:43.088Z"
   },
   {
    "duration": 16,
    "start_time": "2022-06-08T20:24:43.241Z"
   },
   {
    "duration": 23,
    "start_time": "2022-06-08T20:24:43.259Z"
   },
   {
    "duration": 26,
    "start_time": "2022-06-08T20:24:43.284Z"
   },
   {
    "duration": 42,
    "start_time": "2022-06-08T20:24:43.312Z"
   },
   {
    "duration": 17,
    "start_time": "2022-06-08T20:24:43.356Z"
   },
   {
    "duration": 14,
    "start_time": "2022-06-08T20:24:43.375Z"
   },
   {
    "duration": 9,
    "start_time": "2022-06-08T20:24:43.391Z"
   },
   {
    "duration": 151,
    "start_time": "2022-06-08T20:24:43.403Z"
   },
   {
    "duration": 5,
    "start_time": "2022-06-08T20:24:43.556Z"
   },
   {
    "duration": 33,
    "start_time": "2022-06-08T20:24:43.563Z"
   },
   {
    "duration": 30,
    "start_time": "2022-06-08T20:24:43.598Z"
   },
   {
    "duration": 30,
    "start_time": "2022-06-08T20:24:43.630Z"
   },
   {
    "duration": 21,
    "start_time": "2022-06-08T20:24:43.662Z"
   },
   {
    "duration": 25,
    "start_time": "2022-06-08T20:24:43.685Z"
   },
   {
    "duration": 5,
    "start_time": "2022-06-08T20:24:43.711Z"
   },
   {
    "duration": 37,
    "start_time": "2022-06-08T20:24:43.717Z"
   },
   {
    "duration": 35,
    "start_time": "2022-06-08T20:24:43.756Z"
   },
   {
    "duration": 140,
    "start_time": "2022-06-08T20:24:43.793Z"
   },
   {
    "duration": 0,
    "start_time": "2022-06-08T20:24:43.936Z"
   },
   {
    "duration": 0,
    "start_time": "2022-06-08T20:24:43.937Z"
   },
   {
    "duration": 0,
    "start_time": "2022-06-08T20:24:43.938Z"
   },
   {
    "duration": 0,
    "start_time": "2022-06-08T20:24:43.939Z"
   },
   {
    "duration": 0,
    "start_time": "2022-06-08T20:24:43.941Z"
   },
   {
    "duration": 0,
    "start_time": "2022-06-08T20:24:43.942Z"
   },
   {
    "duration": 0,
    "start_time": "2022-06-08T20:24:43.943Z"
   },
   {
    "duration": 0,
    "start_time": "2022-06-08T20:24:43.944Z"
   },
   {
    "duration": 0,
    "start_time": "2022-06-08T20:24:43.945Z"
   },
   {
    "duration": 0,
    "start_time": "2022-06-08T20:24:43.947Z"
   },
   {
    "duration": 0,
    "start_time": "2022-06-08T20:24:43.948Z"
   },
   {
    "duration": 0,
    "start_time": "2022-06-08T20:24:43.949Z"
   },
   {
    "duration": 0,
    "start_time": "2022-06-08T20:24:43.950Z"
   },
   {
    "duration": 1,
    "start_time": "2022-06-08T20:24:43.952Z"
   },
   {
    "duration": 0,
    "start_time": "2022-06-08T20:24:43.958Z"
   },
   {
    "duration": 0,
    "start_time": "2022-06-08T20:24:43.959Z"
   },
   {
    "duration": 0,
    "start_time": "2022-06-08T20:24:43.960Z"
   },
   {
    "duration": 0,
    "start_time": "2022-06-08T20:24:43.962Z"
   },
   {
    "duration": 0,
    "start_time": "2022-06-08T20:24:43.963Z"
   },
   {
    "duration": 0,
    "start_time": "2022-06-08T20:24:43.964Z"
   },
   {
    "duration": 0,
    "start_time": "2022-06-08T20:24:43.966Z"
   },
   {
    "duration": 0,
    "start_time": "2022-06-08T20:24:43.966Z"
   },
   {
    "duration": 0,
    "start_time": "2022-06-08T20:24:43.967Z"
   },
   {
    "duration": 0,
    "start_time": "2022-06-08T20:24:43.968Z"
   },
   {
    "duration": 0,
    "start_time": "2022-06-08T20:24:43.969Z"
   },
   {
    "duration": 0,
    "start_time": "2022-06-08T20:24:43.970Z"
   },
   {
    "duration": 576,
    "start_time": "2022-06-08T20:26:26.430Z"
   },
   {
    "duration": 237,
    "start_time": "2022-06-08T20:27:03.029Z"
   },
   {
    "duration": 1556,
    "start_time": "2022-06-08T20:35:37.201Z"
   },
   {
    "duration": 1144,
    "start_time": "2022-06-08T20:36:10.146Z"
   },
   {
    "duration": 37,
    "start_time": "2022-06-08T20:36:11.291Z"
   },
   {
    "duration": 11,
    "start_time": "2022-06-08T20:36:11.330Z"
   },
   {
    "duration": 15,
    "start_time": "2022-06-08T20:36:11.342Z"
   },
   {
    "duration": 6,
    "start_time": "2022-06-08T20:36:11.358Z"
   },
   {
    "duration": 17,
    "start_time": "2022-06-08T20:36:11.365Z"
   },
   {
    "duration": 7,
    "start_time": "2022-06-08T20:36:11.383Z"
   },
   {
    "duration": 35,
    "start_time": "2022-06-08T20:36:11.391Z"
   },
   {
    "duration": 4,
    "start_time": "2022-06-08T20:36:11.427Z"
   },
   {
    "duration": 124,
    "start_time": "2022-06-08T20:36:11.433Z"
   },
   {
    "duration": 4,
    "start_time": "2022-06-08T20:36:11.558Z"
   },
   {
    "duration": 7,
    "start_time": "2022-06-08T20:36:11.563Z"
   },
   {
    "duration": 7,
    "start_time": "2022-06-08T20:36:11.571Z"
   },
   {
    "duration": 5,
    "start_time": "2022-06-08T20:36:11.580Z"
   },
   {
    "duration": 6,
    "start_time": "2022-06-08T20:36:11.586Z"
   },
   {
    "duration": 35,
    "start_time": "2022-06-08T20:36:11.594Z"
   },
   {
    "duration": 3,
    "start_time": "2022-06-08T20:36:11.630Z"
   },
   {
    "duration": 12,
    "start_time": "2022-06-08T20:36:11.635Z"
   },
   {
    "duration": 7,
    "start_time": "2022-06-08T20:36:11.649Z"
   },
   {
    "duration": 121,
    "start_time": "2022-06-08T20:36:11.658Z"
   },
   {
    "duration": 0,
    "start_time": "2022-06-08T20:36:11.781Z"
   },
   {
    "duration": 0,
    "start_time": "2022-06-08T20:36:11.782Z"
   },
   {
    "duration": 0,
    "start_time": "2022-06-08T20:36:11.783Z"
   },
   {
    "duration": 0,
    "start_time": "2022-06-08T20:36:11.784Z"
   },
   {
    "duration": 0,
    "start_time": "2022-06-08T20:36:11.786Z"
   },
   {
    "duration": 0,
    "start_time": "2022-06-08T20:36:11.787Z"
   },
   {
    "duration": 0,
    "start_time": "2022-06-08T20:36:11.788Z"
   },
   {
    "duration": 1,
    "start_time": "2022-06-08T20:36:11.789Z"
   },
   {
    "duration": 0,
    "start_time": "2022-06-08T20:36:11.790Z"
   },
   {
    "duration": 0,
    "start_time": "2022-06-08T20:36:11.791Z"
   },
   {
    "duration": 0,
    "start_time": "2022-06-08T20:36:11.793Z"
   },
   {
    "duration": 0,
    "start_time": "2022-06-08T20:36:11.794Z"
   },
   {
    "duration": 0,
    "start_time": "2022-06-08T20:36:11.795Z"
   },
   {
    "duration": 0,
    "start_time": "2022-06-08T20:36:11.797Z"
   },
   {
    "duration": 0,
    "start_time": "2022-06-08T20:36:11.798Z"
   },
   {
    "duration": 0,
    "start_time": "2022-06-08T20:36:11.825Z"
   },
   {
    "duration": 0,
    "start_time": "2022-06-08T20:36:11.827Z"
   },
   {
    "duration": 0,
    "start_time": "2022-06-08T20:36:11.828Z"
   },
   {
    "duration": 0,
    "start_time": "2022-06-08T20:36:11.829Z"
   },
   {
    "duration": 0,
    "start_time": "2022-06-08T20:36:11.830Z"
   },
   {
    "duration": 0,
    "start_time": "2022-06-08T20:36:11.831Z"
   },
   {
    "duration": 0,
    "start_time": "2022-06-08T20:36:11.833Z"
   },
   {
    "duration": 0,
    "start_time": "2022-06-08T20:36:11.834Z"
   },
   {
    "duration": 0,
    "start_time": "2022-06-08T20:36:11.835Z"
   },
   {
    "duration": 0,
    "start_time": "2022-06-08T20:36:11.837Z"
   },
   {
    "duration": 0,
    "start_time": "2022-06-08T20:36:11.838Z"
   },
   {
    "duration": 1219,
    "start_time": "2022-06-08T20:37:05.306Z"
   },
   {
    "duration": 43,
    "start_time": "2022-06-08T20:37:06.528Z"
   },
   {
    "duration": 16,
    "start_time": "2022-06-08T20:37:06.573Z"
   },
   {
    "duration": 26,
    "start_time": "2022-06-08T20:37:06.591Z"
   },
   {
    "duration": 12,
    "start_time": "2022-06-08T20:37:06.620Z"
   },
   {
    "duration": 22,
    "start_time": "2022-06-08T20:37:06.634Z"
   },
   {
    "duration": 16,
    "start_time": "2022-06-08T20:37:06.659Z"
   },
   {
    "duration": 28,
    "start_time": "2022-06-08T20:37:06.676Z"
   },
   {
    "duration": 6,
    "start_time": "2022-06-08T20:37:06.707Z"
   },
   {
    "duration": 131,
    "start_time": "2022-06-08T20:37:06.715Z"
   },
   {
    "duration": 5,
    "start_time": "2022-06-08T20:37:06.847Z"
   },
   {
    "duration": 12,
    "start_time": "2022-06-08T20:37:06.854Z"
   },
   {
    "duration": 45,
    "start_time": "2022-06-08T20:37:06.868Z"
   },
   {
    "duration": 12,
    "start_time": "2022-06-08T20:37:06.917Z"
   },
   {
    "duration": 8,
    "start_time": "2022-06-08T20:37:06.930Z"
   },
   {
    "duration": 14,
    "start_time": "2022-06-08T20:37:06.940Z"
   },
   {
    "duration": 4,
    "start_time": "2022-06-08T20:37:06.955Z"
   },
   {
    "duration": 16,
    "start_time": "2022-06-08T20:37:06.961Z"
   },
   {
    "duration": 10,
    "start_time": "2022-06-08T20:37:06.978Z"
   },
   {
    "duration": 3,
    "start_time": "2022-06-08T20:37:06.989Z"
   },
   {
    "duration": 37,
    "start_time": "2022-06-08T20:37:06.994Z"
   },
   {
    "duration": 9,
    "start_time": "2022-06-08T20:37:07.033Z"
   },
   {
    "duration": 5,
    "start_time": "2022-06-08T20:37:07.044Z"
   },
   {
    "duration": 12,
    "start_time": "2022-06-08T20:37:07.051Z"
   },
   {
    "duration": 6,
    "start_time": "2022-06-08T20:37:07.065Z"
   },
   {
    "duration": 4,
    "start_time": "2022-06-08T20:37:07.072Z"
   },
   {
    "duration": 9,
    "start_time": "2022-06-08T20:37:07.077Z"
   },
   {
    "duration": 6,
    "start_time": "2022-06-08T20:37:07.087Z"
   },
   {
    "duration": 5,
    "start_time": "2022-06-08T20:37:07.095Z"
   },
   {
    "duration": 26,
    "start_time": "2022-06-08T20:37:07.102Z"
   },
   {
    "duration": 8,
    "start_time": "2022-06-08T20:37:07.130Z"
   },
   {
    "duration": 309,
    "start_time": "2022-06-08T20:37:07.140Z"
   },
   {
    "duration": 4,
    "start_time": "2022-06-08T20:37:07.451Z"
   },
   {
    "duration": 0,
    "start_time": "2022-06-08T20:37:07.457Z"
   },
   {
    "duration": 0,
    "start_time": "2022-06-08T20:37:07.458Z"
   },
   {
    "duration": 0,
    "start_time": "2022-06-08T20:37:07.459Z"
   },
   {
    "duration": 0,
    "start_time": "2022-06-08T20:37:07.460Z"
   },
   {
    "duration": 0,
    "start_time": "2022-06-08T20:37:07.461Z"
   },
   {
    "duration": 0,
    "start_time": "2022-06-08T20:37:07.462Z"
   },
   {
    "duration": 0,
    "start_time": "2022-06-08T20:37:07.463Z"
   },
   {
    "duration": 0,
    "start_time": "2022-06-08T20:37:07.464Z"
   },
   {
    "duration": 0,
    "start_time": "2022-06-08T20:37:07.465Z"
   },
   {
    "duration": 0,
    "start_time": "2022-06-08T20:37:07.466Z"
   },
   {
    "duration": 0,
    "start_time": "2022-06-08T20:37:07.467Z"
   },
   {
    "duration": 0,
    "start_time": "2022-06-08T20:37:07.468Z"
   },
   {
    "duration": 0,
    "start_time": "2022-06-08T20:37:07.469Z"
   },
   {
    "duration": 6,
    "start_time": "2022-06-08T20:38:21.959Z"
   },
   {
    "duration": 534,
    "start_time": "2022-06-08T20:38:41.779Z"
   },
   {
    "duration": 6,
    "start_time": "2022-06-08T20:38:53.941Z"
   },
   {
    "duration": 6,
    "start_time": "2022-06-08T20:39:28.623Z"
   },
   {
    "duration": 5,
    "start_time": "2022-06-08T20:39:57.517Z"
   },
   {
    "duration": 6,
    "start_time": "2022-06-08T20:40:36.145Z"
   },
   {
    "duration": 6,
    "start_time": "2022-06-08T20:40:36.745Z"
   },
   {
    "duration": 5,
    "start_time": "2022-06-08T20:40:37.468Z"
   },
   {
    "duration": 1301,
    "start_time": "2022-06-08T20:40:55.078Z"
   },
   {
    "duration": 38,
    "start_time": "2022-06-08T20:40:56.381Z"
   },
   {
    "duration": 14,
    "start_time": "2022-06-08T20:40:56.421Z"
   },
   {
    "duration": 29,
    "start_time": "2022-06-08T20:40:56.437Z"
   },
   {
    "duration": 8,
    "start_time": "2022-06-08T20:40:56.468Z"
   },
   {
    "duration": 56,
    "start_time": "2022-06-08T20:40:56.478Z"
   },
   {
    "duration": 14,
    "start_time": "2022-06-08T20:40:56.536Z"
   },
   {
    "duration": 19,
    "start_time": "2022-06-08T20:40:56.553Z"
   },
   {
    "duration": 6,
    "start_time": "2022-06-08T20:40:56.574Z"
   },
   {
    "duration": 224,
    "start_time": "2022-06-08T20:40:56.583Z"
   },
   {
    "duration": 6,
    "start_time": "2022-06-08T20:40:56.809Z"
   },
   {
    "duration": 7,
    "start_time": "2022-06-08T20:40:56.826Z"
   },
   {
    "duration": 12,
    "start_time": "2022-06-08T20:40:56.835Z"
   },
   {
    "duration": 8,
    "start_time": "2022-06-08T20:40:56.849Z"
   },
   {
    "duration": 7,
    "start_time": "2022-06-08T20:40:56.859Z"
   },
   {
    "duration": 14,
    "start_time": "2022-06-08T20:40:56.868Z"
   },
   {
    "duration": 4,
    "start_time": "2022-06-08T20:40:56.884Z"
   },
   {
    "duration": 44,
    "start_time": "2022-06-08T20:40:56.889Z"
   },
   {
    "duration": 11,
    "start_time": "2022-06-08T20:40:56.935Z"
   },
   {
    "duration": 12,
    "start_time": "2022-06-08T20:40:56.948Z"
   },
   {
    "duration": 8,
    "start_time": "2022-06-08T20:40:56.962Z"
   },
   {
    "duration": 8,
    "start_time": "2022-06-08T20:40:56.972Z"
   },
   {
    "duration": 6,
    "start_time": "2022-06-08T20:40:56.983Z"
   },
   {
    "duration": 54,
    "start_time": "2022-06-08T20:40:56.991Z"
   },
   {
    "duration": 6,
    "start_time": "2022-06-08T20:40:57.048Z"
   },
   {
    "duration": 4,
    "start_time": "2022-06-08T20:40:57.056Z"
   },
   {
    "duration": 10,
    "start_time": "2022-06-08T20:40:57.062Z"
   },
   {
    "duration": 6,
    "start_time": "2022-06-08T20:40:57.075Z"
   },
   {
    "duration": 8,
    "start_time": "2022-06-08T20:40:57.083Z"
   },
   {
    "duration": 34,
    "start_time": "2022-06-08T20:40:57.093Z"
   },
   {
    "duration": 7,
    "start_time": "2022-06-08T20:40:57.129Z"
   },
   {
    "duration": 8,
    "start_time": "2022-06-08T20:40:57.137Z"
   },
   {
    "duration": 11,
    "start_time": "2022-06-08T20:40:57.147Z"
   },
   {
    "duration": 6,
    "start_time": "2022-06-08T20:40:57.160Z"
   },
   {
    "duration": 345,
    "start_time": "2022-06-08T20:40:57.167Z"
   },
   {
    "duration": 43,
    "start_time": "2022-06-08T20:40:57.514Z"
   },
   {
    "duration": 13427,
    "start_time": "2022-06-08T20:40:57.559Z"
   },
   {
    "duration": 5,
    "start_time": "2022-06-08T20:41:10.988Z"
   },
   {
    "duration": 0,
    "start_time": "2022-06-08T20:41:10.994Z"
   },
   {
    "duration": 0,
    "start_time": "2022-06-08T20:41:10.996Z"
   },
   {
    "duration": 0,
    "start_time": "2022-06-08T20:41:10.997Z"
   },
   {
    "duration": 0,
    "start_time": "2022-06-08T20:41:10.998Z"
   },
   {
    "duration": 0,
    "start_time": "2022-06-08T20:41:10.999Z"
   },
   {
    "duration": 0,
    "start_time": "2022-06-08T20:41:11.025Z"
   },
   {
    "duration": 0,
    "start_time": "2022-06-08T20:41:11.026Z"
   },
   {
    "duration": 0,
    "start_time": "2022-06-08T20:41:11.028Z"
   },
   {
    "duration": 0,
    "start_time": "2022-06-08T20:41:11.029Z"
   },
   {
    "duration": 0,
    "start_time": "2022-06-08T20:41:11.030Z"
   },
   {
    "duration": 0,
    "start_time": "2022-06-08T20:41:11.031Z"
   },
   {
    "duration": 1360,
    "start_time": "2022-06-08T20:41:50.826Z"
   },
   {
    "duration": 38,
    "start_time": "2022-06-08T20:41:52.188Z"
   },
   {
    "duration": 12,
    "start_time": "2022-06-08T20:41:52.228Z"
   },
   {
    "duration": 18,
    "start_time": "2022-06-08T20:41:52.242Z"
   },
   {
    "duration": 8,
    "start_time": "2022-06-08T20:41:52.262Z"
   },
   {
    "duration": 15,
    "start_time": "2022-06-08T20:41:52.272Z"
   },
   {
    "duration": 38,
    "start_time": "2022-06-08T20:41:52.288Z"
   },
   {
    "duration": 8,
    "start_time": "2022-06-08T20:41:52.328Z"
   },
   {
    "duration": 5,
    "start_time": "2022-06-08T20:41:52.337Z"
   },
   {
    "duration": 153,
    "start_time": "2022-06-08T20:41:52.344Z"
   },
   {
    "duration": 4,
    "start_time": "2022-06-08T20:41:52.499Z"
   },
   {
    "duration": 9,
    "start_time": "2022-06-08T20:41:52.504Z"
   },
   {
    "duration": 16,
    "start_time": "2022-06-08T20:41:52.515Z"
   },
   {
    "duration": 7,
    "start_time": "2022-06-08T20:41:52.532Z"
   },
   {
    "duration": 7,
    "start_time": "2022-06-08T20:41:52.541Z"
   },
   {
    "duration": 11,
    "start_time": "2022-06-08T20:41:52.550Z"
   },
   {
    "duration": 3,
    "start_time": "2022-06-08T20:41:52.563Z"
   },
   {
    "duration": 12,
    "start_time": "2022-06-08T20:41:52.568Z"
   },
   {
    "duration": 44,
    "start_time": "2022-06-08T20:41:52.581Z"
   },
   {
    "duration": 6,
    "start_time": "2022-06-08T20:41:52.627Z"
   },
   {
    "duration": 9,
    "start_time": "2022-06-08T20:41:52.634Z"
   },
   {
    "duration": 7,
    "start_time": "2022-06-08T20:41:52.645Z"
   },
   {
    "duration": 7,
    "start_time": "2022-06-08T20:41:52.653Z"
   },
   {
    "duration": 17,
    "start_time": "2022-06-08T20:41:52.662Z"
   },
   {
    "duration": 6,
    "start_time": "2022-06-08T20:41:52.681Z"
   },
   {
    "duration": 36,
    "start_time": "2022-06-08T20:41:52.689Z"
   },
   {
    "duration": 9,
    "start_time": "2022-06-08T20:41:52.727Z"
   },
   {
    "duration": 8,
    "start_time": "2022-06-08T20:41:52.739Z"
   },
   {
    "duration": 12,
    "start_time": "2022-06-08T20:41:52.749Z"
   },
   {
    "duration": 11,
    "start_time": "2022-06-08T20:41:52.763Z"
   },
   {
    "duration": 9,
    "start_time": "2022-06-08T20:41:52.776Z"
   },
   {
    "duration": 8,
    "start_time": "2022-06-08T20:41:52.787Z"
   },
   {
    "duration": 29,
    "start_time": "2022-06-08T20:41:52.797Z"
   },
   {
    "duration": 10,
    "start_time": "2022-06-08T20:41:52.828Z"
   },
   {
    "duration": 448,
    "start_time": "2022-06-08T20:41:52.840Z"
   },
   {
    "duration": 73,
    "start_time": "2022-06-08T20:41:53.291Z"
   },
   {
    "duration": 13684,
    "start_time": "2022-06-08T20:41:53.366Z"
   },
   {
    "duration": 204,
    "start_time": "2022-06-08T20:42:07.052Z"
   },
   {
    "duration": 215,
    "start_time": "2022-06-08T20:42:07.258Z"
   },
   {
    "duration": 5,
    "start_time": "2022-06-08T20:42:07.475Z"
   },
   {
    "duration": 13,
    "start_time": "2022-06-08T20:42:07.482Z"
   },
   {
    "duration": 4,
    "start_time": "2022-06-08T20:42:07.497Z"
   },
   {
    "duration": 5,
    "start_time": "2022-06-08T20:42:07.526Z"
   },
   {
    "duration": 18073,
    "start_time": "2022-06-08T20:42:07.533Z"
   },
   {
    "duration": 134,
    "start_time": "2022-06-08T20:42:25.607Z"
   },
   {
    "duration": 178,
    "start_time": "2022-06-08T20:42:25.743Z"
   },
   {
    "duration": 5,
    "start_time": "2022-06-08T20:42:25.926Z"
   },
   {
    "duration": 6,
    "start_time": "2022-06-08T20:42:25.932Z"
   },
   {
    "duration": 9,
    "start_time": "2022-06-08T20:42:25.939Z"
   },
   {
    "duration": 331,
    "start_time": "2022-06-08T20:55:17.742Z"
   },
   {
    "duration": 56,
    "start_time": "2022-06-08T20:55:43.294Z"
   },
   {
    "duration": 47,
    "start_time": "2022-06-08T20:56:12.492Z"
   },
   {
    "duration": 407,
    "start_time": "2022-06-08T20:59:01.719Z"
   },
   {
    "duration": 134,
    "start_time": "2022-06-08T20:59:14.891Z"
   },
   {
    "duration": 1214,
    "start_time": "2022-06-08T21:01:37.139Z"
   },
   {
    "duration": 38,
    "start_time": "2022-06-08T21:01:38.355Z"
   },
   {
    "duration": 11,
    "start_time": "2022-06-08T21:01:38.395Z"
   },
   {
    "duration": 16,
    "start_time": "2022-06-08T21:01:38.408Z"
   },
   {
    "duration": 7,
    "start_time": "2022-06-08T21:01:38.425Z"
   },
   {
    "duration": 16,
    "start_time": "2022-06-08T21:01:38.433Z"
   },
   {
    "duration": 6,
    "start_time": "2022-06-08T21:01:38.451Z"
   },
   {
    "duration": 13,
    "start_time": "2022-06-08T21:01:38.459Z"
   },
   {
    "duration": 5,
    "start_time": "2022-06-08T21:01:38.474Z"
   },
   {
    "duration": 162,
    "start_time": "2022-06-08T21:01:38.482Z"
   },
   {
    "duration": 4,
    "start_time": "2022-06-08T21:01:38.646Z"
   },
   {
    "duration": 11,
    "start_time": "2022-06-08T21:01:38.652Z"
   },
   {
    "duration": 7,
    "start_time": "2022-06-08T21:01:38.665Z"
   },
   {
    "duration": 5,
    "start_time": "2022-06-08T21:01:38.673Z"
   },
   {
    "duration": 7,
    "start_time": "2022-06-08T21:01:38.679Z"
   },
   {
    "duration": 11,
    "start_time": "2022-06-08T21:01:38.687Z"
   },
   {
    "duration": 4,
    "start_time": "2022-06-08T21:01:38.725Z"
   },
   {
    "duration": 14,
    "start_time": "2022-06-08T21:01:38.730Z"
   },
   {
    "duration": 20,
    "start_time": "2022-06-08T21:01:38.745Z"
   },
   {
    "duration": 32,
    "start_time": "2022-06-08T21:01:38.767Z"
   },
   {
    "duration": 10,
    "start_time": "2022-06-08T21:01:38.800Z"
   },
   {
    "duration": 10,
    "start_time": "2022-06-08T21:01:38.813Z"
   },
   {
    "duration": 14,
    "start_time": "2022-06-08T21:01:38.825Z"
   },
   {
    "duration": 21,
    "start_time": "2022-06-08T21:01:38.841Z"
   },
   {
    "duration": 10,
    "start_time": "2022-06-08T21:01:38.864Z"
   },
   {
    "duration": 5,
    "start_time": "2022-06-08T21:01:38.876Z"
   },
   {
    "duration": 12,
    "start_time": "2022-06-08T21:01:38.883Z"
   },
   {
    "duration": 6,
    "start_time": "2022-06-08T21:01:38.898Z"
   },
   {
    "duration": 5,
    "start_time": "2022-06-08T21:01:38.906Z"
   },
   {
    "duration": 15,
    "start_time": "2022-06-08T21:01:38.912Z"
   },
   {
    "duration": 6,
    "start_time": "2022-06-08T21:01:38.929Z"
   },
   {
    "duration": 10,
    "start_time": "2022-06-08T21:01:38.937Z"
   },
   {
    "duration": 16,
    "start_time": "2022-06-08T21:01:38.949Z"
   },
   {
    "duration": 6,
    "start_time": "2022-06-08T21:01:38.966Z"
   },
   {
    "duration": 289,
    "start_time": "2022-06-08T21:01:38.974Z"
   },
   {
    "duration": 37,
    "start_time": "2022-06-08T21:01:39.266Z"
   },
   {
    "duration": 114990,
    "start_time": "2022-06-08T21:01:39.307Z"
   },
   {
    "duration": 165,
    "start_time": "2022-06-08T21:03:34.299Z"
   },
   {
    "duration": 212,
    "start_time": "2022-06-08T21:03:34.466Z"
   },
   {
    "duration": 46,
    "start_time": "2022-06-08T21:03:34.680Z"
   },
   {
    "duration": 14,
    "start_time": "2022-06-08T21:03:34.728Z"
   },
   {
    "duration": 8,
    "start_time": "2022-06-08T21:03:34.744Z"
   },
   {
    "duration": 19,
    "start_time": "2022-06-08T21:03:34.754Z"
   },
   {
    "duration": 150586,
    "start_time": "2022-06-08T21:03:34.776Z"
   },
   {
    "duration": 44,
    "start_time": "2022-06-08T21:06:05.364Z"
   },
   {
    "duration": 121,
    "start_time": "2022-06-08T21:06:05.410Z"
   },
   {
    "duration": 277,
    "start_time": "2022-06-08T21:06:05.532Z"
   },
   {
    "duration": 196,
    "start_time": "2022-06-08T21:06:05.811Z"
   },
   {
    "duration": 4,
    "start_time": "2022-06-08T21:06:06.008Z"
   },
   {
    "duration": 12,
    "start_time": "2022-06-08T21:06:06.014Z"
   },
   {
    "duration": 6,
    "start_time": "2022-06-08T21:06:06.027Z"
   },
   {
    "duration": 57184,
    "start_time": "2022-06-08T21:12:16.671Z"
   },
   {
    "duration": 1163,
    "start_time": "2022-06-08T21:14:58.827Z"
   },
   {
    "duration": 40,
    "start_time": "2022-06-08T21:14:59.991Z"
   },
   {
    "duration": 13,
    "start_time": "2022-06-08T21:15:00.033Z"
   },
   {
    "duration": 20,
    "start_time": "2022-06-08T21:15:00.049Z"
   },
   {
    "duration": 12,
    "start_time": "2022-06-08T21:15:00.071Z"
   },
   {
    "duration": 16,
    "start_time": "2022-06-08T21:15:00.084Z"
   },
   {
    "duration": 27,
    "start_time": "2022-06-08T21:15:00.102Z"
   },
   {
    "duration": 23,
    "start_time": "2022-06-08T21:15:00.131Z"
   },
   {
    "duration": 7,
    "start_time": "2022-06-08T21:15:00.155Z"
   },
   {
    "duration": 122,
    "start_time": "2022-06-08T21:15:00.164Z"
   },
   {
    "duration": 5,
    "start_time": "2022-06-08T21:15:00.287Z"
   },
   {
    "duration": 18,
    "start_time": "2022-06-08T21:15:00.293Z"
   },
   {
    "duration": 13,
    "start_time": "2022-06-08T21:15:00.313Z"
   },
   {
    "duration": 6,
    "start_time": "2022-06-08T21:15:00.328Z"
   },
   {
    "duration": 18,
    "start_time": "2022-06-08T21:15:00.335Z"
   },
   {
    "duration": 13,
    "start_time": "2022-06-08T21:15:00.355Z"
   },
   {
    "duration": 4,
    "start_time": "2022-06-08T21:15:00.369Z"
   },
   {
    "duration": 18,
    "start_time": "2022-06-08T21:15:00.375Z"
   },
   {
    "duration": 11,
    "start_time": "2022-06-08T21:15:00.395Z"
   },
   {
    "duration": 21,
    "start_time": "2022-06-08T21:15:00.408Z"
   },
   {
    "duration": 11,
    "start_time": "2022-06-08T21:15:00.430Z"
   },
   {
    "duration": 7,
    "start_time": "2022-06-08T21:15:00.443Z"
   },
   {
    "duration": 8,
    "start_time": "2022-06-08T21:15:00.452Z"
   },
   {
    "duration": 15,
    "start_time": "2022-06-08T21:15:00.461Z"
   },
   {
    "duration": 8,
    "start_time": "2022-06-08T21:15:00.477Z"
   },
   {
    "duration": 4,
    "start_time": "2022-06-08T21:15:00.486Z"
   },
   {
    "duration": 14,
    "start_time": "2022-06-08T21:15:00.492Z"
   },
   {
    "duration": 17,
    "start_time": "2022-06-08T21:15:00.509Z"
   },
   {
    "duration": 3,
    "start_time": "2022-06-08T21:15:00.528Z"
   },
   {
    "duration": 8,
    "start_time": "2022-06-08T21:15:00.532Z"
   },
   {
    "duration": 13,
    "start_time": "2022-06-08T21:15:00.542Z"
   },
   {
    "duration": 14,
    "start_time": "2022-06-08T21:15:00.556Z"
   },
   {
    "duration": 12,
    "start_time": "2022-06-08T21:15:00.572Z"
   },
   {
    "duration": 12,
    "start_time": "2022-06-08T21:15:00.587Z"
   },
   {
    "duration": 310,
    "start_time": "2022-06-08T21:15:00.601Z"
   },
   {
    "duration": 47,
    "start_time": "2022-06-08T21:15:00.913Z"
   },
   {
    "duration": 108,
    "start_time": "2022-06-08T21:15:00.962Z"
   },
   {
    "duration": 0,
    "start_time": "2022-06-08T21:15:01.071Z"
   },
   {
    "duration": 0,
    "start_time": "2022-06-08T21:15:01.072Z"
   },
   {
    "duration": 0,
    "start_time": "2022-06-08T21:15:01.073Z"
   },
   {
    "duration": 0,
    "start_time": "2022-06-08T21:15:01.074Z"
   },
   {
    "duration": 0,
    "start_time": "2022-06-08T21:15:01.076Z"
   },
   {
    "duration": 0,
    "start_time": "2022-06-08T21:15:01.077Z"
   },
   {
    "duration": 0,
    "start_time": "2022-06-08T21:15:01.077Z"
   },
   {
    "duration": 0,
    "start_time": "2022-06-08T21:15:01.078Z"
   },
   {
    "duration": 0,
    "start_time": "2022-06-08T21:15:01.079Z"
   },
   {
    "duration": 0,
    "start_time": "2022-06-08T21:15:01.080Z"
   },
   {
    "duration": 0,
    "start_time": "2022-06-08T21:15:01.081Z"
   },
   {
    "duration": 0,
    "start_time": "2022-06-08T21:15:01.082Z"
   },
   {
    "duration": 0,
    "start_time": "2022-06-08T21:15:01.083Z"
   },
   {
    "duration": 0,
    "start_time": "2022-06-08T21:15:01.083Z"
   },
   {
    "duration": 1149,
    "start_time": "2022-06-08T21:15:31.653Z"
   },
   {
    "duration": 37,
    "start_time": "2022-06-08T21:15:32.804Z"
   },
   {
    "duration": 11,
    "start_time": "2022-06-08T21:15:32.843Z"
   },
   {
    "duration": 15,
    "start_time": "2022-06-08T21:15:32.856Z"
   },
   {
    "duration": 6,
    "start_time": "2022-06-08T21:15:32.873Z"
   },
   {
    "duration": 14,
    "start_time": "2022-06-08T21:15:32.880Z"
   },
   {
    "duration": 5,
    "start_time": "2022-06-08T21:15:32.895Z"
   },
   {
    "duration": 32,
    "start_time": "2022-06-08T21:15:32.901Z"
   },
   {
    "duration": 4,
    "start_time": "2022-06-08T21:15:32.935Z"
   },
   {
    "duration": 130,
    "start_time": "2022-06-08T21:15:32.942Z"
   },
   {
    "duration": 3,
    "start_time": "2022-06-08T21:15:33.074Z"
   },
   {
    "duration": 8,
    "start_time": "2022-06-08T21:15:33.079Z"
   },
   {
    "duration": 9,
    "start_time": "2022-06-08T21:15:33.089Z"
   },
   {
    "duration": 5,
    "start_time": "2022-06-08T21:15:33.099Z"
   },
   {
    "duration": 20,
    "start_time": "2022-06-08T21:15:33.106Z"
   },
   {
    "duration": 12,
    "start_time": "2022-06-08T21:15:33.127Z"
   },
   {
    "duration": 4,
    "start_time": "2022-06-08T21:15:33.140Z"
   },
   {
    "duration": 11,
    "start_time": "2022-06-08T21:15:33.145Z"
   },
   {
    "duration": 14,
    "start_time": "2022-06-08T21:15:33.157Z"
   },
   {
    "duration": 4,
    "start_time": "2022-06-08T21:15:33.173Z"
   },
   {
    "duration": 4,
    "start_time": "2022-06-08T21:15:33.179Z"
   },
   {
    "duration": 6,
    "start_time": "2022-06-08T21:15:33.185Z"
   },
   {
    "duration": 33,
    "start_time": "2022-06-08T21:15:33.193Z"
   },
   {
    "duration": 14,
    "start_time": "2022-06-08T21:15:33.228Z"
   },
   {
    "duration": 7,
    "start_time": "2022-06-08T21:15:33.244Z"
   },
   {
    "duration": 3,
    "start_time": "2022-06-08T21:15:33.252Z"
   },
   {
    "duration": 11,
    "start_time": "2022-06-08T21:15:33.256Z"
   },
   {
    "duration": 5,
    "start_time": "2022-06-08T21:15:33.270Z"
   },
   {
    "duration": 8,
    "start_time": "2022-06-08T21:15:33.276Z"
   },
   {
    "duration": 7,
    "start_time": "2022-06-08T21:15:33.286Z"
   },
   {
    "duration": 9,
    "start_time": "2022-06-08T21:15:33.294Z"
   },
   {
    "duration": 5,
    "start_time": "2022-06-08T21:15:33.304Z"
   },
   {
    "duration": 17,
    "start_time": "2022-06-08T21:15:33.310Z"
   },
   {
    "duration": 5,
    "start_time": "2022-06-08T21:15:33.328Z"
   },
   {
    "duration": 285,
    "start_time": "2022-06-08T21:15:33.334Z"
   },
   {
    "duration": 35,
    "start_time": "2022-06-08T21:15:33.626Z"
   },
   {
    "duration": 175675,
    "start_time": "2022-06-08T21:15:33.662Z"
   },
   {
    "duration": 227,
    "start_time": "2022-06-08T21:18:29.339Z"
   },
   {
    "duration": 331,
    "start_time": "2022-06-08T21:18:29.568Z"
   },
   {
    "duration": 4,
    "start_time": "2022-06-08T21:18:29.901Z"
   },
   {
    "duration": 25,
    "start_time": "2022-06-08T21:18:29.907Z"
   },
   {
    "duration": 4,
    "start_time": "2022-06-08T21:18:29.934Z"
   },
   {
    "duration": 10,
    "start_time": "2022-06-08T21:18:29.939Z"
   },
   {
    "duration": 236009,
    "start_time": "2022-06-08T21:18:29.951Z"
   },
   {
    "duration": 44,
    "start_time": "2022-06-08T21:22:25.962Z"
   },
   {
    "duration": 124,
    "start_time": "2022-06-08T21:22:26.007Z"
   },
   {
    "duration": 201,
    "start_time": "2022-06-08T21:22:26.133Z"
   },
   {
    "duration": 176,
    "start_time": "2022-06-08T21:22:26.338Z"
   },
   {
    "duration": 14,
    "start_time": "2022-06-08T21:22:26.516Z"
   },
   {
    "duration": 6,
    "start_time": "2022-06-08T21:22:26.533Z"
   },
   {
    "duration": 17,
    "start_time": "2022-06-08T21:22:26.542Z"
   },
   {
    "duration": 1243,
    "start_time": "2022-06-08T21:29:45.599Z"
   },
   {
    "duration": 39,
    "start_time": "2022-06-08T21:29:46.844Z"
   },
   {
    "duration": 11,
    "start_time": "2022-06-08T21:29:46.884Z"
   },
   {
    "duration": 15,
    "start_time": "2022-06-08T21:29:46.897Z"
   },
   {
    "duration": 6,
    "start_time": "2022-06-08T21:29:46.913Z"
   },
   {
    "duration": 14,
    "start_time": "2022-06-08T21:29:46.920Z"
   },
   {
    "duration": 11,
    "start_time": "2022-06-08T21:29:46.935Z"
   },
   {
    "duration": 13,
    "start_time": "2022-06-08T21:29:46.947Z"
   },
   {
    "duration": 4,
    "start_time": "2022-06-08T21:29:46.961Z"
   },
   {
    "duration": 124,
    "start_time": "2022-06-08T21:29:46.967Z"
   },
   {
    "duration": 4,
    "start_time": "2022-06-08T21:29:47.092Z"
   },
   {
    "duration": 6,
    "start_time": "2022-06-08T21:29:47.097Z"
   },
   {
    "duration": 22,
    "start_time": "2022-06-08T21:29:47.104Z"
   },
   {
    "duration": 4,
    "start_time": "2022-06-08T21:29:47.128Z"
   },
   {
    "duration": 6,
    "start_time": "2022-06-08T21:29:47.134Z"
   },
   {
    "duration": 11,
    "start_time": "2022-06-08T21:29:47.141Z"
   },
   {
    "duration": 3,
    "start_time": "2022-06-08T21:29:47.153Z"
   },
   {
    "duration": 12,
    "start_time": "2022-06-08T21:29:47.157Z"
   },
   {
    "duration": 9,
    "start_time": "2022-06-08T21:29:47.170Z"
   },
   {
    "duration": 6,
    "start_time": "2022-06-08T21:29:47.180Z"
   },
   {
    "duration": 38,
    "start_time": "2022-06-08T21:29:47.187Z"
   },
   {
    "duration": 5,
    "start_time": "2022-06-08T21:29:47.227Z"
   },
   {
    "duration": 5,
    "start_time": "2022-06-08T21:29:47.234Z"
   },
   {
    "duration": 10,
    "start_time": "2022-06-08T21:29:47.241Z"
   },
   {
    "duration": 6,
    "start_time": "2022-06-08T21:29:47.252Z"
   },
   {
    "duration": 5,
    "start_time": "2022-06-08T21:29:47.259Z"
   },
   {
    "duration": 9,
    "start_time": "2022-06-08T21:29:47.265Z"
   },
   {
    "duration": 5,
    "start_time": "2022-06-08T21:29:47.276Z"
   },
   {
    "duration": 5,
    "start_time": "2022-06-08T21:29:47.283Z"
   },
   {
    "duration": 37,
    "start_time": "2022-06-08T21:29:47.289Z"
   },
   {
    "duration": 6,
    "start_time": "2022-06-08T21:29:47.327Z"
   },
   {
    "duration": 6,
    "start_time": "2022-06-08T21:29:47.334Z"
   },
   {
    "duration": 5,
    "start_time": "2022-06-08T21:29:47.341Z"
   },
   {
    "duration": 5,
    "start_time": "2022-06-08T21:29:47.348Z"
   },
   {
    "duration": 294,
    "start_time": "2022-06-08T21:29:47.354Z"
   },
   {
    "duration": 35,
    "start_time": "2022-06-08T21:29:47.650Z"
   },
   {
    "duration": 732,
    "start_time": "2022-06-08T21:29:47.687Z"
   },
   {
    "duration": 190,
    "start_time": "2022-06-08T21:29:48.425Z"
   },
   {
    "duration": 258,
    "start_time": "2022-06-08T21:29:48.617Z"
   },
   {
    "duration": 5,
    "start_time": "2022-06-08T21:29:48.876Z"
   },
   {
    "duration": 10,
    "start_time": "2022-06-08T21:29:48.884Z"
   },
   {
    "duration": 3,
    "start_time": "2022-06-08T21:29:48.896Z"
   },
   {
    "duration": 27,
    "start_time": "2022-06-08T21:29:48.900Z"
   },
   {
    "duration": 1205,
    "start_time": "2022-06-08T21:29:48.928Z"
   },
   {
    "duration": 43,
    "start_time": "2022-06-08T21:29:50.134Z"
   },
   {
    "duration": 60,
    "start_time": "2022-06-08T21:29:50.178Z"
   },
   {
    "duration": 228,
    "start_time": "2022-06-08T21:29:50.326Z"
   },
   {
    "duration": 182,
    "start_time": "2022-06-08T21:29:50.555Z"
   },
   {
    "duration": 4,
    "start_time": "2022-06-08T21:29:50.738Z"
   },
   {
    "duration": 6,
    "start_time": "2022-06-08T21:29:50.744Z"
   },
   {
    "duration": 8,
    "start_time": "2022-06-08T21:29:50.752Z"
   },
   {
    "duration": 1235,
    "start_time": "2022-06-08T21:30:42.405Z"
   },
   {
    "duration": 39,
    "start_time": "2022-06-08T21:30:43.641Z"
   },
   {
    "duration": 12,
    "start_time": "2022-06-08T21:30:43.682Z"
   },
   {
    "duration": 19,
    "start_time": "2022-06-08T21:30:43.696Z"
   },
   {
    "duration": 11,
    "start_time": "2022-06-08T21:30:43.717Z"
   },
   {
    "duration": 15,
    "start_time": "2022-06-08T21:30:43.729Z"
   },
   {
    "duration": 4,
    "start_time": "2022-06-08T21:30:43.746Z"
   },
   {
    "duration": 8,
    "start_time": "2022-06-08T21:30:43.752Z"
   },
   {
    "duration": 3,
    "start_time": "2022-06-08T21:30:43.762Z"
   },
   {
    "duration": 146,
    "start_time": "2022-06-08T21:30:43.768Z"
   },
   {
    "duration": 12,
    "start_time": "2022-06-08T21:30:43.916Z"
   },
   {
    "duration": 6,
    "start_time": "2022-06-08T21:30:43.930Z"
   },
   {
    "duration": 9,
    "start_time": "2022-06-08T21:30:43.938Z"
   },
   {
    "duration": 8,
    "start_time": "2022-06-08T21:30:43.948Z"
   },
   {
    "duration": 8,
    "start_time": "2022-06-08T21:30:43.957Z"
   },
   {
    "duration": 14,
    "start_time": "2022-06-08T21:30:43.967Z"
   },
   {
    "duration": 4,
    "start_time": "2022-06-08T21:30:43.982Z"
   },
   {
    "duration": 49,
    "start_time": "2022-06-08T21:30:43.988Z"
   },
   {
    "duration": 12,
    "start_time": "2022-06-08T21:30:44.039Z"
   },
   {
    "duration": 5,
    "start_time": "2022-06-08T21:30:44.052Z"
   },
   {
    "duration": 6,
    "start_time": "2022-06-08T21:30:44.059Z"
   },
   {
    "duration": 6,
    "start_time": "2022-06-08T21:30:44.066Z"
   },
   {
    "duration": 9,
    "start_time": "2022-06-08T21:30:44.073Z"
   },
   {
    "duration": 15,
    "start_time": "2022-06-08T21:30:44.083Z"
   },
   {
    "duration": 5,
    "start_time": "2022-06-08T21:30:44.126Z"
   },
   {
    "duration": 7,
    "start_time": "2022-06-08T21:30:44.133Z"
   },
   {
    "duration": 14,
    "start_time": "2022-06-08T21:30:44.141Z"
   },
   {
    "duration": 6,
    "start_time": "2022-06-08T21:30:44.159Z"
   },
   {
    "duration": 4,
    "start_time": "2022-06-08T21:30:44.167Z"
   },
   {
    "duration": 6,
    "start_time": "2022-06-08T21:30:44.173Z"
   },
   {
    "duration": 5,
    "start_time": "2022-06-08T21:30:44.180Z"
   },
   {
    "duration": 6,
    "start_time": "2022-06-08T21:30:44.187Z"
   },
   {
    "duration": 31,
    "start_time": "2022-06-08T21:30:44.194Z"
   },
   {
    "duration": 3,
    "start_time": "2022-06-08T21:30:44.227Z"
   },
   {
    "duration": 294,
    "start_time": "2022-06-08T21:30:44.231Z"
   },
   {
    "duration": 35,
    "start_time": "2022-06-08T21:30:44.527Z"
   },
   {
    "duration": 941,
    "start_time": "2022-06-08T21:30:44.563Z"
   },
   {
    "duration": 223,
    "start_time": "2022-06-08T21:30:45.506Z"
   },
   {
    "duration": 251,
    "start_time": "2022-06-08T21:30:45.730Z"
   },
   {
    "duration": 6,
    "start_time": "2022-06-08T21:30:45.983Z"
   },
   {
    "duration": 12,
    "start_time": "2022-06-08T21:30:45.990Z"
   },
   {
    "duration": 3,
    "start_time": "2022-06-08T21:30:46.004Z"
   },
   {
    "duration": 6,
    "start_time": "2022-06-08T21:30:46.026Z"
   },
   {
    "duration": 1567,
    "start_time": "2022-06-08T21:30:46.034Z"
   },
   {
    "duration": 53,
    "start_time": "2022-06-08T21:30:47.603Z"
   },
   {
    "duration": 169,
    "start_time": "2022-06-08T21:30:47.658Z"
   },
   {
    "duration": 253,
    "start_time": "2022-06-08T21:30:47.830Z"
   },
   {
    "duration": 197,
    "start_time": "2022-06-08T21:30:48.084Z"
   },
   {
    "duration": 5,
    "start_time": "2022-06-08T21:30:48.282Z"
   },
   {
    "duration": 5,
    "start_time": "2022-06-08T21:30:48.288Z"
   },
   {
    "duration": 9,
    "start_time": "2022-06-08T21:30:48.294Z"
   },
   {
    "duration": 1131,
    "start_time": "2022-06-08T21:32:16.562Z"
   },
   {
    "duration": 38,
    "start_time": "2022-06-08T21:32:17.695Z"
   },
   {
    "duration": 10,
    "start_time": "2022-06-08T21:32:17.734Z"
   },
   {
    "duration": 15,
    "start_time": "2022-06-08T21:32:17.746Z"
   },
   {
    "duration": 6,
    "start_time": "2022-06-08T21:32:17.762Z"
   },
   {
    "duration": 16,
    "start_time": "2022-06-08T21:32:17.769Z"
   },
   {
    "duration": 5,
    "start_time": "2022-06-08T21:32:17.787Z"
   },
   {
    "duration": 7,
    "start_time": "2022-06-08T21:32:17.793Z"
   },
   {
    "duration": 5,
    "start_time": "2022-06-08T21:32:17.824Z"
   },
   {
    "duration": 126,
    "start_time": "2022-06-08T21:32:17.831Z"
   },
   {
    "duration": 4,
    "start_time": "2022-06-08T21:32:17.958Z"
   },
   {
    "duration": 13,
    "start_time": "2022-06-08T21:32:17.963Z"
   },
   {
    "duration": 10,
    "start_time": "2022-06-08T21:32:17.977Z"
   },
   {
    "duration": 11,
    "start_time": "2022-06-08T21:32:17.989Z"
   },
   {
    "duration": 17,
    "start_time": "2022-06-08T21:32:18.001Z"
   },
   {
    "duration": 12,
    "start_time": "2022-06-08T21:32:18.020Z"
   },
   {
    "duration": 4,
    "start_time": "2022-06-08T21:32:18.033Z"
   },
   {
    "duration": 17,
    "start_time": "2022-06-08T21:32:18.038Z"
   },
   {
    "duration": 8,
    "start_time": "2022-06-08T21:32:18.057Z"
   },
   {
    "duration": 9,
    "start_time": "2022-06-08T21:32:18.067Z"
   },
   {
    "duration": 7,
    "start_time": "2022-06-08T21:32:18.077Z"
   },
   {
    "duration": 5,
    "start_time": "2022-06-08T21:32:18.085Z"
   },
   {
    "duration": 8,
    "start_time": "2022-06-08T21:32:18.091Z"
   },
   {
    "duration": 32,
    "start_time": "2022-06-08T21:32:18.100Z"
   },
   {
    "duration": 10,
    "start_time": "2022-06-08T21:32:18.134Z"
   },
   {
    "duration": 7,
    "start_time": "2022-06-08T21:32:18.145Z"
   },
   {
    "duration": 22,
    "start_time": "2022-06-08T21:32:18.153Z"
   },
   {
    "duration": 12,
    "start_time": "2022-06-08T21:32:18.178Z"
   },
   {
    "duration": 11,
    "start_time": "2022-06-08T21:32:18.192Z"
   },
   {
    "duration": 14,
    "start_time": "2022-06-08T21:32:18.204Z"
   },
   {
    "duration": 9,
    "start_time": "2022-06-08T21:32:18.219Z"
   },
   {
    "duration": 20,
    "start_time": "2022-06-08T21:32:18.230Z"
   },
   {
    "duration": 12,
    "start_time": "2022-06-08T21:32:18.252Z"
   },
   {
    "duration": 12,
    "start_time": "2022-06-08T21:32:18.266Z"
   },
   {
    "duration": 273,
    "start_time": "2022-06-08T21:32:18.279Z"
   },
   {
    "duration": 37,
    "start_time": "2022-06-08T21:32:18.554Z"
   },
   {
    "duration": 112,
    "start_time": "2022-06-08T21:32:18.592Z"
   },
   {
    "duration": 0,
    "start_time": "2022-06-08T21:32:18.706Z"
   },
   {
    "duration": 0,
    "start_time": "2022-06-08T21:32:18.707Z"
   },
   {
    "duration": 0,
    "start_time": "2022-06-08T21:32:18.709Z"
   },
   {
    "duration": 0,
    "start_time": "2022-06-08T21:32:18.710Z"
   },
   {
    "duration": 0,
    "start_time": "2022-06-08T21:32:18.711Z"
   },
   {
    "duration": 0,
    "start_time": "2022-06-08T21:32:18.725Z"
   },
   {
    "duration": 0,
    "start_time": "2022-06-08T21:32:18.726Z"
   },
   {
    "duration": 0,
    "start_time": "2022-06-08T21:32:18.728Z"
   },
   {
    "duration": 0,
    "start_time": "2022-06-08T21:32:18.729Z"
   },
   {
    "duration": 0,
    "start_time": "2022-06-08T21:32:18.730Z"
   },
   {
    "duration": 0,
    "start_time": "2022-06-08T21:32:18.731Z"
   },
   {
    "duration": 0,
    "start_time": "2022-06-08T21:32:18.732Z"
   },
   {
    "duration": 0,
    "start_time": "2022-06-08T21:32:18.734Z"
   },
   {
    "duration": 0,
    "start_time": "2022-06-08T21:32:18.735Z"
   },
   {
    "duration": 1430,
    "start_time": "2022-06-08T21:33:41.546Z"
   },
   {
    "duration": 46,
    "start_time": "2022-06-08T21:33:42.978Z"
   },
   {
    "duration": 18,
    "start_time": "2022-06-08T21:33:43.026Z"
   },
   {
    "duration": 21,
    "start_time": "2022-06-08T21:33:43.047Z"
   },
   {
    "duration": 9,
    "start_time": "2022-06-08T21:33:43.071Z"
   },
   {
    "duration": 51,
    "start_time": "2022-06-08T21:33:43.083Z"
   },
   {
    "duration": 10,
    "start_time": "2022-06-08T21:33:43.136Z"
   },
   {
    "duration": 12,
    "start_time": "2022-06-08T21:33:43.149Z"
   },
   {
    "duration": 6,
    "start_time": "2022-06-08T21:33:43.163Z"
   },
   {
    "duration": 186,
    "start_time": "2022-06-08T21:33:43.173Z"
   },
   {
    "duration": 6,
    "start_time": "2022-06-08T21:33:43.361Z"
   },
   {
    "duration": 9,
    "start_time": "2022-06-08T21:33:43.369Z"
   },
   {
    "duration": 10,
    "start_time": "2022-06-08T21:33:43.380Z"
   },
   {
    "duration": 35,
    "start_time": "2022-06-08T21:33:43.392Z"
   },
   {
    "duration": 7,
    "start_time": "2022-06-08T21:33:43.429Z"
   },
   {
    "duration": 15,
    "start_time": "2022-06-08T21:33:43.438Z"
   },
   {
    "duration": 5,
    "start_time": "2022-06-08T21:33:43.455Z"
   },
   {
    "duration": 18,
    "start_time": "2022-06-08T21:33:43.462Z"
   },
   {
    "duration": 11,
    "start_time": "2022-06-08T21:33:43.482Z"
   },
   {
    "duration": 7,
    "start_time": "2022-06-08T21:33:43.526Z"
   },
   {
    "duration": 9,
    "start_time": "2022-06-08T21:33:43.535Z"
   },
   {
    "duration": 9,
    "start_time": "2022-06-08T21:33:43.546Z"
   },
   {
    "duration": 17,
    "start_time": "2022-06-08T21:33:43.558Z"
   },
   {
    "duration": 17,
    "start_time": "2022-06-08T21:33:43.577Z"
   },
   {
    "duration": 8,
    "start_time": "2022-06-08T21:33:43.627Z"
   },
   {
    "duration": 3,
    "start_time": "2022-06-08T21:33:43.638Z"
   },
   {
    "duration": 15,
    "start_time": "2022-06-08T21:33:43.643Z"
   },
   {
    "duration": 9,
    "start_time": "2022-06-08T21:33:43.664Z"
   },
   {
    "duration": 6,
    "start_time": "2022-06-08T21:33:43.676Z"
   },
   {
    "duration": 43,
    "start_time": "2022-06-08T21:33:43.685Z"
   },
   {
    "duration": 10,
    "start_time": "2022-06-08T21:33:43.732Z"
   },
   {
    "duration": 8,
    "start_time": "2022-06-08T21:33:43.744Z"
   },
   {
    "duration": 10,
    "start_time": "2022-06-08T21:33:43.754Z"
   },
   {
    "duration": 8,
    "start_time": "2022-06-08T21:33:43.767Z"
   },
   {
    "duration": 382,
    "start_time": "2022-06-08T21:33:43.777Z"
   },
   {
    "duration": 50,
    "start_time": "2022-06-08T21:33:44.161Z"
   },
   {
    "duration": 129,
    "start_time": "2022-06-08T21:33:44.227Z"
   },
   {
    "duration": 0,
    "start_time": "2022-06-08T21:33:44.359Z"
   },
   {
    "duration": 0,
    "start_time": "2022-06-08T21:33:44.360Z"
   },
   {
    "duration": 0,
    "start_time": "2022-06-08T21:33:44.361Z"
   },
   {
    "duration": 0,
    "start_time": "2022-06-08T21:33:44.362Z"
   },
   {
    "duration": 0,
    "start_time": "2022-06-08T21:33:44.364Z"
   },
   {
    "duration": 0,
    "start_time": "2022-06-08T21:33:44.366Z"
   },
   {
    "duration": 0,
    "start_time": "2022-06-08T21:33:44.367Z"
   },
   {
    "duration": 0,
    "start_time": "2022-06-08T21:33:44.369Z"
   },
   {
    "duration": 0,
    "start_time": "2022-06-08T21:33:44.371Z"
   },
   {
    "duration": 0,
    "start_time": "2022-06-08T21:33:44.372Z"
   },
   {
    "duration": 0,
    "start_time": "2022-06-08T21:33:44.373Z"
   },
   {
    "duration": 0,
    "start_time": "2022-06-08T21:33:44.375Z"
   },
   {
    "duration": 0,
    "start_time": "2022-06-08T21:33:44.376Z"
   },
   {
    "duration": 0,
    "start_time": "2022-06-08T21:33:44.378Z"
   },
   {
    "duration": 10,
    "start_time": "2022-06-08T21:34:17.602Z"
   },
   {
    "duration": 11,
    "start_time": "2022-06-08T21:34:34.796Z"
   },
   {
    "duration": 13,
    "start_time": "2022-06-08T21:41:19.402Z"
   },
   {
    "duration": 98608,
    "start_time": "2022-06-08T21:43:10.824Z"
   },
   {
    "duration": 11,
    "start_time": "2022-06-08T21:47:04.127Z"
   },
   {
    "duration": 15,
    "start_time": "2022-06-08T21:50:12.005Z"
   },
   {
    "duration": 73165,
    "start_time": "2022-06-08T21:50:25.451Z"
   },
   {
    "duration": 1188,
    "start_time": "2022-06-08T21:51:48.970Z"
   },
   {
    "duration": 38,
    "start_time": "2022-06-08T21:51:50.160Z"
   },
   {
    "duration": 11,
    "start_time": "2022-06-08T21:51:50.200Z"
   },
   {
    "duration": 18,
    "start_time": "2022-06-08T21:51:50.213Z"
   },
   {
    "duration": 6,
    "start_time": "2022-06-08T21:51:50.233Z"
   },
   {
    "duration": 15,
    "start_time": "2022-06-08T21:51:50.240Z"
   },
   {
    "duration": 6,
    "start_time": "2022-06-08T21:51:50.256Z"
   },
   {
    "duration": 9,
    "start_time": "2022-06-08T21:51:50.263Z"
   },
   {
    "duration": 4,
    "start_time": "2022-06-08T21:51:50.274Z"
   },
   {
    "duration": 154,
    "start_time": "2022-06-08T21:51:50.279Z"
   },
   {
    "duration": 4,
    "start_time": "2022-06-08T21:51:50.434Z"
   },
   {
    "duration": 6,
    "start_time": "2022-06-08T21:51:50.440Z"
   },
   {
    "duration": 7,
    "start_time": "2022-06-08T21:51:50.448Z"
   },
   {
    "duration": 5,
    "start_time": "2022-06-08T21:51:50.458Z"
   },
   {
    "duration": 6,
    "start_time": "2022-06-08T21:51:50.465Z"
   },
   {
    "duration": 13,
    "start_time": "2022-06-08T21:51:50.472Z"
   },
   {
    "duration": 3,
    "start_time": "2022-06-08T21:51:50.486Z"
   },
   {
    "duration": 42,
    "start_time": "2022-06-08T21:51:50.491Z"
   },
   {
    "duration": 9,
    "start_time": "2022-06-08T21:51:50.534Z"
   },
   {
    "duration": 5,
    "start_time": "2022-06-08T21:51:50.545Z"
   },
   {
    "duration": 14,
    "start_time": "2022-06-08T21:51:50.551Z"
   },
   {
    "duration": 12,
    "start_time": "2022-06-08T21:51:50.567Z"
   },
   {
    "duration": 43,
    "start_time": "2022-06-08T21:51:50.580Z"
   },
   {
    "duration": 22,
    "start_time": "2022-06-08T21:51:50.625Z"
   },
   {
    "duration": 6,
    "start_time": "2022-06-08T21:51:50.649Z"
   },
   {
    "duration": 31,
    "start_time": "2022-06-08T21:51:50.657Z"
   },
   {
    "duration": 11,
    "start_time": "2022-06-08T21:51:50.689Z"
   },
   {
    "duration": 8,
    "start_time": "2022-06-08T21:51:50.701Z"
   },
   {
    "duration": 11,
    "start_time": "2022-06-08T21:51:50.710Z"
   },
   {
    "duration": 6,
    "start_time": "2022-06-08T21:51:50.722Z"
   },
   {
    "duration": 6,
    "start_time": "2022-06-08T21:51:50.730Z"
   },
   {
    "duration": 8,
    "start_time": "2022-06-08T21:51:50.737Z"
   },
   {
    "duration": 6,
    "start_time": "2022-06-08T21:51:50.746Z"
   },
   {
    "duration": 22,
    "start_time": "2022-06-08T21:51:50.754Z"
   },
   {
    "duration": 293,
    "start_time": "2022-06-08T21:51:50.777Z"
   },
   {
    "duration": 39,
    "start_time": "2022-06-08T21:51:51.072Z"
   },
   {
    "duration": 186816,
    "start_time": "2022-06-08T21:51:51.112Z"
   },
   {
    "duration": 154,
    "start_time": "2022-06-08T21:54:57.929Z"
   },
   {
    "duration": 283,
    "start_time": "2022-06-08T21:54:58.084Z"
   },
   {
    "duration": 5,
    "start_time": "2022-06-08T21:54:58.368Z"
   },
   {
    "duration": 11,
    "start_time": "2022-06-08T21:54:58.376Z"
   },
   {
    "duration": 3,
    "start_time": "2022-06-08T21:54:58.389Z"
   },
   {
    "duration": 5,
    "start_time": "2022-06-08T21:54:58.393Z"
   },
   {
    "duration": 249878,
    "start_time": "2022-06-08T21:54:58.425Z"
   },
   {
    "duration": 62,
    "start_time": "2022-06-08T21:59:08.305Z"
   },
   {
    "duration": 65,
    "start_time": "2022-06-08T21:59:08.369Z"
   },
   {
    "duration": 379,
    "start_time": "2022-06-08T21:59:08.435Z"
   },
   {
    "duration": 221,
    "start_time": "2022-06-08T21:59:08.816Z"
   },
   {
    "duration": 5,
    "start_time": "2022-06-08T21:59:09.038Z"
   },
   {
    "duration": 4,
    "start_time": "2022-06-08T21:59:09.044Z"
   },
   {
    "duration": 6,
    "start_time": "2022-06-08T21:59:09.050Z"
   },
   {
    "duration": 49,
    "start_time": "2022-08-25T21:34:21.375Z"
   },
   {
    "duration": 1684,
    "start_time": "2022-08-25T21:34:30.157Z"
   },
   {
    "duration": 89,
    "start_time": "2022-08-25T21:34:31.843Z"
   },
   {
    "duration": 19,
    "start_time": "2022-08-25T21:34:31.934Z"
   },
   {
    "duration": 21,
    "start_time": "2022-08-25T21:34:31.956Z"
   },
   {
    "duration": 42,
    "start_time": "2022-08-25T21:34:31.979Z"
   },
   {
    "duration": 30,
    "start_time": "2022-08-25T21:34:32.023Z"
   },
   {
    "duration": 12,
    "start_time": "2022-08-25T21:34:32.055Z"
   },
   {
    "duration": 45,
    "start_time": "2022-08-25T21:34:32.068Z"
   },
   {
    "duration": 34,
    "start_time": "2022-08-25T21:34:32.115Z"
   },
   {
    "duration": 164,
    "start_time": "2022-08-25T21:34:32.151Z"
   },
   {
    "duration": 6,
    "start_time": "2022-08-25T21:34:32.316Z"
   },
   {
    "duration": 28,
    "start_time": "2022-08-25T21:34:32.323Z"
   },
   {
    "duration": 45,
    "start_time": "2022-08-25T21:34:32.353Z"
   },
   {
    "duration": 10,
    "start_time": "2022-08-25T21:34:32.400Z"
   },
   {
    "duration": 11,
    "start_time": "2022-08-25T21:34:32.412Z"
   },
   {
    "duration": 15,
    "start_time": "2022-08-25T21:34:32.425Z"
   },
   {
    "duration": 4,
    "start_time": "2022-08-25T21:34:32.442Z"
   },
   {
    "duration": 23,
    "start_time": "2022-08-25T21:34:32.448Z"
   },
   {
    "duration": 23,
    "start_time": "2022-08-25T21:34:32.473Z"
   },
   {
    "duration": 6,
    "start_time": "2022-08-25T21:34:32.498Z"
   },
   {
    "duration": 8,
    "start_time": "2022-08-25T21:34:32.506Z"
   },
   {
    "duration": 7,
    "start_time": "2022-08-25T21:34:32.515Z"
   },
   {
    "duration": 13,
    "start_time": "2022-08-25T21:34:32.524Z"
   },
   {
    "duration": 25,
    "start_time": "2022-08-25T21:34:32.539Z"
   },
   {
    "duration": 6,
    "start_time": "2022-08-25T21:34:32.586Z"
   },
   {
    "duration": 6,
    "start_time": "2022-08-25T21:34:32.594Z"
   },
   {
    "duration": 15,
    "start_time": "2022-08-25T21:34:32.601Z"
   },
   {
    "duration": 6,
    "start_time": "2022-08-25T21:34:32.620Z"
   },
   {
    "duration": 7,
    "start_time": "2022-08-25T21:34:32.627Z"
   },
   {
    "duration": 5,
    "start_time": "2022-08-25T21:34:32.637Z"
   },
   {
    "duration": 5,
    "start_time": "2022-08-25T21:34:32.644Z"
   },
   {
    "duration": 10,
    "start_time": "2022-08-25T21:34:32.651Z"
   },
   {
    "duration": 26,
    "start_time": "2022-08-25T21:34:32.662Z"
   },
   {
    "duration": 4,
    "start_time": "2022-08-25T21:34:32.689Z"
   },
   {
    "duration": 330,
    "start_time": "2022-08-25T21:34:32.695Z"
   },
   {
    "duration": 48,
    "start_time": "2022-08-25T21:34:33.026Z"
   },
   {
    "duration": 197491,
    "start_time": "2022-08-25T21:34:33.087Z"
   },
   {
    "duration": 161,
    "start_time": "2022-08-25T21:37:50.580Z"
   },
   {
    "duration": 285,
    "start_time": "2022-08-25T21:37:50.742Z"
   },
   {
    "duration": 6,
    "start_time": "2022-08-25T21:37:51.028Z"
   },
   {
    "duration": 13,
    "start_time": "2022-08-25T21:37:51.035Z"
   },
   {
    "duration": 5,
    "start_time": "2022-08-25T21:37:51.049Z"
   },
   {
    "duration": 31,
    "start_time": "2022-08-25T21:37:51.056Z"
   },
   {
    "duration": 56,
    "start_time": "2022-08-25T21:42:30.471Z"
   },
   {
    "duration": 76,
    "start_time": "2022-08-25T21:42:30.529Z"
   },
   {
    "duration": 364,
    "start_time": "2022-08-25T21:42:30.609Z"
   },
   {
    "duration": 209,
    "start_time": "2022-08-25T21:42:30.974Z"
   },
   {
    "duration": 5,
    "start_time": "2022-08-25T21:42:31.186Z"
   },
   {
    "duration": 13,
    "start_time": "2022-08-25T21:42:31.198Z"
   },
   {
    "duration": 12,
    "start_time": "2022-08-25T21:42:31.212Z"
   },
   {
    "duration": 277027,
    "start_time": "2022-08-25T21:42:31.227Z"
   },
   {
    "duration": 1322,
    "start_time": "2022-08-25T21:47:20.138Z"
   },
   {
    "duration": 40,
    "start_time": "2022-08-25T21:47:21.461Z"
   },
   {
    "duration": 13,
    "start_time": "2022-08-25T21:47:21.503Z"
   },
   {
    "duration": 17,
    "start_time": "2022-08-25T21:47:21.518Z"
   },
   {
    "duration": 7,
    "start_time": "2022-08-25T21:47:21.536Z"
   },
   {
    "duration": 14,
    "start_time": "2022-08-25T21:47:21.544Z"
   },
   {
    "duration": 28,
    "start_time": "2022-08-25T21:47:21.559Z"
   },
   {
    "duration": 8,
    "start_time": "2022-08-25T21:47:21.589Z"
   },
   {
    "duration": 10,
    "start_time": "2022-08-25T21:47:21.599Z"
   },
   {
    "duration": 135,
    "start_time": "2022-08-25T21:47:21.612Z"
   },
   {
    "duration": 5,
    "start_time": "2022-08-25T21:47:21.748Z"
   },
   {
    "duration": 12,
    "start_time": "2022-08-25T21:47:21.754Z"
   },
   {
    "duration": 11,
    "start_time": "2022-08-25T21:47:21.768Z"
   },
   {
    "duration": 5,
    "start_time": "2022-08-25T21:47:21.787Z"
   },
   {
    "duration": 17,
    "start_time": "2022-08-25T21:47:21.794Z"
   },
   {
    "duration": 23,
    "start_time": "2022-08-25T21:47:21.813Z"
   },
   {
    "duration": 18,
    "start_time": "2022-08-25T21:47:21.837Z"
   },
   {
    "duration": 29,
    "start_time": "2022-08-25T21:47:21.856Z"
   },
   {
    "duration": 18,
    "start_time": "2022-08-25T21:47:21.887Z"
   },
   {
    "duration": 22,
    "start_time": "2022-08-25T21:47:21.907Z"
   },
   {
    "duration": 21,
    "start_time": "2022-08-25T21:47:21.931Z"
   },
   {
    "duration": 24,
    "start_time": "2022-08-25T21:47:21.954Z"
   },
   {
    "duration": 27,
    "start_time": "2022-08-25T21:47:21.980Z"
   },
   {
    "duration": 49,
    "start_time": "2022-08-25T21:47:22.009Z"
   },
   {
    "duration": 20,
    "start_time": "2022-08-25T21:47:22.060Z"
   },
   {
    "duration": 15,
    "start_time": "2022-08-25T21:47:22.082Z"
   },
   {
    "duration": 32,
    "start_time": "2022-08-25T21:47:22.098Z"
   },
   {
    "duration": 14,
    "start_time": "2022-08-25T21:47:22.133Z"
   },
   {
    "duration": 15,
    "start_time": "2022-08-25T21:47:22.149Z"
   },
   {
    "duration": 14,
    "start_time": "2022-08-25T21:47:22.165Z"
   },
   {
    "duration": 21,
    "start_time": "2022-08-25T21:47:22.180Z"
   },
   {
    "duration": 8,
    "start_time": "2022-08-25T21:47:22.202Z"
   },
   {
    "duration": 6,
    "start_time": "2022-08-25T21:47:22.212Z"
   },
   {
    "duration": 7,
    "start_time": "2022-08-25T21:47:22.220Z"
   },
   {
    "duration": 297,
    "start_time": "2022-08-25T21:47:22.228Z"
   },
   {
    "duration": 40,
    "start_time": "2022-08-25T21:47:22.527Z"
   },
   {
    "duration": 196389,
    "start_time": "2022-08-25T21:47:22.569Z"
   },
   {
    "duration": 157,
    "start_time": "2022-08-25T21:50:38.959Z"
   },
   {
    "duration": 214,
    "start_time": "2022-08-25T21:50:39.118Z"
   },
   {
    "duration": 5,
    "start_time": "2022-08-25T21:50:39.334Z"
   },
   {
    "duration": 11,
    "start_time": "2022-08-25T21:50:39.341Z"
   },
   {
    "duration": 3,
    "start_time": "2022-08-25T21:50:39.354Z"
   },
   {
    "duration": 29,
    "start_time": "2022-08-25T21:50:39.359Z"
   },
   {
    "duration": 265731,
    "start_time": "2022-08-25T21:50:39.389Z"
   },
   {
    "duration": 53,
    "start_time": "2022-08-25T21:55:05.122Z"
   },
   {
    "duration": 120,
    "start_time": "2022-08-25T21:55:05.176Z"
   },
   {
    "duration": 291,
    "start_time": "2022-08-25T21:55:05.389Z"
   },
   {
    "duration": 207,
    "start_time": "2022-08-25T21:55:05.681Z"
   },
   {
    "duration": 5,
    "start_time": "2022-08-25T21:55:05.890Z"
   },
   {
    "duration": 7,
    "start_time": "2022-08-25T21:55:05.897Z"
   },
   {
    "duration": 11,
    "start_time": "2022-08-25T21:55:05.907Z"
   }
  ],
  "kernelspec": {
   "display_name": "Python 3 (ipykernel)",
   "language": "python",
   "name": "python3"
  },
  "language_info": {
   "codemirror_mode": {
    "name": "ipython",
    "version": 3
   },
   "file_extension": ".py",
   "mimetype": "text/x-python",
   "name": "python",
   "nbconvert_exporter": "python",
   "pygments_lexer": "ipython3",
   "version": "3.9.12"
  },
  "toc": {
   "base_numbering": 1,
   "nav_menu": {},
   "number_sections": true,
   "sideBar": true,
   "skip_h1_title": true,
   "title_cell": "Содержание",
   "title_sidebar": "Contents",
   "toc_cell": true,
   "toc_position": {},
   "toc_section_display": true,
   "toc_window_display": true
  }
 },
 "nbformat": 4,
 "nbformat_minor": 2
}
